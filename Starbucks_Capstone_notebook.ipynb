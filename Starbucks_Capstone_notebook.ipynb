{
 "cells": [
  {
   "cell_type": "markdown",
   "metadata": {},
   "source": [
    "# Starbucks Capstone Challenge\n",
    "\n",
    "### Introduction\n",
    "\n",
    "This data set contains simulated data that mimics customer behavior on the Starbucks rewards mobile app. Once every few days, Starbucks sends out an offer to users of the mobile app. An offer can be merely an advertisement for a drink or an actual offer such as a discount or BOGO (buy one get one free). Some users might not receive any offer during certain weeks. \n",
    "\n",
    "Not all users receive the same offer, and that is the challenge to solve with this data set.\n",
    "\n",
    "Your task is to combine transaction, demographic and offer data to determine which demographic groups respond best to which offer type. This data set is a simplified version of the real Starbucks app because the underlying simulator only has one product whereas Starbucks actually sells dozens of products.\n",
    "\n",
    "Every offer has a validity period before the offer expires. As an example, a BOGO offer might be valid for only 5 days. You'll see in the data set that informational offers have a validity period even though these ads are merely providing information about a product; for example, if an informational offer has 7 days of validity, you can assume the customer is feeling the influence of the offer for 7 days after receiving the advertisement.\n",
    "\n",
    "You'll be given transactional data showing user purchases made on the app including the timestamp of purchase and the amount of money spent on a purchase. This transactional data also has a record for each offer that a user receives as well as a record for when a user actually views the offer. There are also records for when a user completes an offer. \n",
    "\n",
    "Keep in mind as well that someone using the app might make a purchase through the app without having received an offer or seen an offer.\n",
    "\n",
    "### Example\n",
    "\n",
    "To give an example, a user could receive a discount offer buy 10 dollars get 2 off on Monday. The offer is valid for 10 days from receipt. If the customer accumulates at least 10 dollars in purchases during the validity period, the customer completes the offer.\n",
    "\n",
    "However, there are a few things to watch out for in this data set. Customers do not opt into the offers that they receive; in other words, a user can receive an offer, never actually view the offer, and still complete the offer. For example, a user might receive the \"buy 10 dollars get 2 dollars off offer\", but the user never opens the offer during the 10 day validity period. The customer spends 15 dollars during those ten days. There will be an offer completion record in the data set; however, the customer was not influenced by the offer because the customer never viewed the offer.\n",
    "\n",
    "### Cleaning\n",
    "\n",
    "This makes data cleaning especially important and tricky.\n",
    "\n",
    "You'll also want to take into account that some demographic groups will make purchases even if they don't receive an offer. From a business perspective, if a customer is going to make a 10 dollar purchase without an offer anyway, you wouldn't want to send a buy 10 dollars get 2 dollars off offer. You'll want to try to assess what a certain demographic group will buy when not receiving any offers.\n",
    "\n",
    "### Final Advice\n",
    "\n",
    "Because this is a capstone project, you are free to analyze the data any way you see fit. For example, you could build a machine learning model that predicts how much someone will spend based on demographics and offer type. Or you could build a model that predicts whether or not someone will respond to an offer. Or, you don't need to build a machine learning model at all. You could develop a set of heuristics that determine what offer you should send to each customer (i.e., 75 percent of women customers who were 35 years old responded to offer A vs 40 percent from the same demographic to offer B, so send offer A)."
   ]
  },
  {
   "cell_type": "markdown",
   "metadata": {},
   "source": [
    "# Data Sets\n",
    "\n",
    "The data is contained in three files:\n",
    "\n",
    "* portfolio.json - containing offer ids and meta data about each offer (duration, type, etc.)\n",
    "* profile.json - demographic data for each customer\n",
    "* transcript.json - records for transactions, offers received, offers viewed, and offers completed\n",
    "\n",
    "Here is the schema and explanation of each variable in the files:\n",
    "\n",
    "**portfolio.json**\n",
    "* id (string) - offer id\n",
    "* offer_type (string) - type of offer ie BOGO, discount, informational\n",
    "* difficulty (int) - minimum required spend to complete an offer\n",
    "* reward (int) - reward given for completing an offer\n",
    "* duration (int) - time for offer to be open, in days\n",
    "* channels (list of strings)\n",
    "\n",
    "**profile.json**\n",
    "* age (int) - age of the customer \n",
    "* became_member_on (int) - date when customer created an app account\n",
    "* gender (str) - gender of the customer (note some entries contain 'O' for other rather than M or F)\n",
    "* id (str) - customer id\n",
    "* income (float) - customer's income\n",
    "\n",
    "**transcript.json**\n",
    "* event (str) - record description (ie transaction, offer received, offer viewed, etc.)\n",
    "* person (str) - customer id\n",
    "* time (int) - time in hours since start of test. The data begins at time t=0\n",
    "* value - (dict of strings) - either an offer id or transaction amount depending on the record\n",
    "\n",
    "**Note:** If you are using the workspace, you will need to go to the terminal and run the command `conda update pandas` before reading in the files. This is because the version of pandas in the workspace cannot read in the transcript.json file correctly, but the newest version of pandas can. You can access the termnal from the orange icon in the top left of this notebook.  "
   ]
  },
  {
   "cell_type": "markdown",
   "metadata": {},
   "source": [
    "# Problem statement and Approach"
   ]
  },
  {
   "cell_type": "markdown",
   "metadata": {},
   "source": [
    "In scope of this program and with the data presented, we will looking at the association of promotion types, customer demographics and transaction records. The maingoals are:\n",
    "\n",
    "1. Which promotion would return the best outcome?\n",
    "\n",
    "The \"best\" outcome measured by the reach to audience and amount spending on each promotion. This is comprarison of one promotion versus the other over the sampling of customers (all customers/users in dataset)\n",
    "\n",
    "2. Which group of customer would enjoy the promotion or which promotion is prefer?\n",
    "\n",
    "This measured by comparative data from other group similar to a the same promotion. This is subset data, in which one group of users are compared to other or the rest of users to a certain promotion or offer\n",
    "\n",
    "3. Could we recommend a user a certain promotion, knowing that there is similarity of this user vs. other similar users in the dataset?\n",
    "\n",
    "Essentially, for \\#3 we can build a recommendation system having following concepts:\n",
    "- if user is in the data base, we can check the performance on received offers vs. the most similar n users. We then recommend the ranked offer that the group with n users responded in the dataset. The performance could be measured by completion records or actually dollars purchased\n",
    "- if we don't have anything information of the user, we could send the most successful promotion on the step 1, measured by completion response or by dollars purchased."
   ]
  },
  {
   "cell_type": "markdown",
   "metadata": {},
   "source": [
    "# Data Exploration"
   ]
  },
  {
   "cell_type": "code",
   "execution_count": 1,
   "metadata": {
    "ExecuteTime": {
     "end_time": "2021-01-03T11:40:28.602186Z",
     "start_time": "2021-01-03T11:40:28.600184Z"
    }
   },
   "outputs": [],
   "source": [
    "import warnings\n",
    "warnings.filterwarnings('ignore') # make the output cleaner"
   ]
  },
  {
   "cell_type": "code",
   "execution_count": 2,
   "metadata": {
    "ExecuteTime": {
     "end_time": "2021-01-03T11:40:29.223682Z",
     "start_time": "2021-01-03T11:40:28.603527Z"
    }
   },
   "outputs": [],
   "source": [
    "import seaborn as sns\n",
    "import matplotlib.pyplot as plt\n",
    "%matplotlib inline\n",
    "plt.style.use('seaborn-white')\n",
    "\n",
    "plt.rcParams['figure.figsize'] = (10,6)\n",
    "plt.rcParams['font.size'] = 13\n",
    "plt.rcParams['font.sans-serif'] = 'Open Sans'\n",
    "plt.rcParams['font.family'] = 'sans-serif'\n",
    "plt.rcParams['text.color'] = '#4c4c4c'\n",
    "plt.rcParams['axes.labelcolor']= '#4c4c4c'\n",
    "plt.rcParams['xtick.color'] = '#4c4c4c'\n",
    "plt.rcParams['ytick.color'] = '#4c4c4c'"
   ]
  },
  {
   "cell_type": "code",
   "execution_count": 3,
   "metadata": {
    "ExecuteTime": {
     "end_time": "2021-01-03T11:40:29.226679Z",
     "start_time": "2021-01-03T11:40:29.224816Z"
    }
   },
   "outputs": [],
   "source": [
    "import pandas as pd\n",
    "import numpy as np\n",
    "import math\n",
    "import json"
   ]
  },
  {
   "cell_type": "code",
   "execution_count": 4,
   "metadata": {
    "ExecuteTime": {
     "end_time": "2021-01-03T11:40:29.238413Z",
     "start_time": "2021-01-03T11:40:29.227676Z"
    }
   },
   "outputs": [],
   "source": [
    "# one analysis could ran for 20 minutes, the LOAD_JSON option here let us load file from a json file\n",
    "# else the actually iteration will take place\n",
    "LOAD_JSON = True"
   ]
  },
  {
   "cell_type": "markdown",
   "metadata": {},
   "source": [
    "## Portfolio"
   ]
  },
  {
   "cell_type": "code",
   "execution_count": 5,
   "metadata": {
    "ExecuteTime": {
     "end_time": "2021-01-03T11:40:29.262397Z",
     "start_time": "2021-01-03T11:40:29.239841Z"
    }
   },
   "outputs": [
    {
     "data": {
      "text/html": [
       "<div>\n",
       "<style scoped>\n",
       "    .dataframe tbody tr th:only-of-type {\n",
       "        vertical-align: middle;\n",
       "    }\n",
       "\n",
       "    .dataframe tbody tr th {\n",
       "        vertical-align: top;\n",
       "    }\n",
       "\n",
       "    .dataframe thead th {\n",
       "        text-align: right;\n",
       "    }\n",
       "</style>\n",
       "<table border=\"1\" class=\"dataframe\">\n",
       "  <thead>\n",
       "    <tr style=\"text-align: right;\">\n",
       "      <th></th>\n",
       "      <th>reward</th>\n",
       "      <th>channels</th>\n",
       "      <th>difficulty</th>\n",
       "      <th>duration</th>\n",
       "      <th>offer_type</th>\n",
       "      <th>id</th>\n",
       "    </tr>\n",
       "  </thead>\n",
       "  <tbody>\n",
       "    <tr>\n",
       "      <th>0</th>\n",
       "      <td>10</td>\n",
       "      <td>[email, mobile, social]</td>\n",
       "      <td>10</td>\n",
       "      <td>7</td>\n",
       "      <td>bogo</td>\n",
       "      <td>ae264e3637204a6fb9bb56bc8210ddfd</td>\n",
       "    </tr>\n",
       "    <tr>\n",
       "      <th>1</th>\n",
       "      <td>10</td>\n",
       "      <td>[web, email, mobile, social]</td>\n",
       "      <td>10</td>\n",
       "      <td>5</td>\n",
       "      <td>bogo</td>\n",
       "      <td>4d5c57ea9a6940dd891ad53e9dbe8da0</td>\n",
       "    </tr>\n",
       "    <tr>\n",
       "      <th>2</th>\n",
       "      <td>0</td>\n",
       "      <td>[web, email, mobile]</td>\n",
       "      <td>0</td>\n",
       "      <td>4</td>\n",
       "      <td>informational</td>\n",
       "      <td>3f207df678b143eea3cee63160fa8bed</td>\n",
       "    </tr>\n",
       "    <tr>\n",
       "      <th>3</th>\n",
       "      <td>5</td>\n",
       "      <td>[web, email, mobile]</td>\n",
       "      <td>5</td>\n",
       "      <td>7</td>\n",
       "      <td>bogo</td>\n",
       "      <td>9b98b8c7a33c4b65b9aebfe6a799e6d9</td>\n",
       "    </tr>\n",
       "    <tr>\n",
       "      <th>4</th>\n",
       "      <td>5</td>\n",
       "      <td>[web, email]</td>\n",
       "      <td>20</td>\n",
       "      <td>10</td>\n",
       "      <td>discount</td>\n",
       "      <td>0b1e1539f2cc45b7b9fa7c272da2e1d7</td>\n",
       "    </tr>\n",
       "    <tr>\n",
       "      <th>5</th>\n",
       "      <td>3</td>\n",
       "      <td>[web, email, mobile, social]</td>\n",
       "      <td>7</td>\n",
       "      <td>7</td>\n",
       "      <td>discount</td>\n",
       "      <td>2298d6c36e964ae4a3e7e9706d1fb8c2</td>\n",
       "    </tr>\n",
       "    <tr>\n",
       "      <th>6</th>\n",
       "      <td>2</td>\n",
       "      <td>[web, email, mobile, social]</td>\n",
       "      <td>10</td>\n",
       "      <td>10</td>\n",
       "      <td>discount</td>\n",
       "      <td>fafdcd668e3743c1bb461111dcafc2a4</td>\n",
       "    </tr>\n",
       "    <tr>\n",
       "      <th>7</th>\n",
       "      <td>0</td>\n",
       "      <td>[email, mobile, social]</td>\n",
       "      <td>0</td>\n",
       "      <td>3</td>\n",
       "      <td>informational</td>\n",
       "      <td>5a8bc65990b245e5a138643cd4eb9837</td>\n",
       "    </tr>\n",
       "    <tr>\n",
       "      <th>8</th>\n",
       "      <td>5</td>\n",
       "      <td>[web, email, mobile, social]</td>\n",
       "      <td>5</td>\n",
       "      <td>5</td>\n",
       "      <td>bogo</td>\n",
       "      <td>f19421c1d4aa40978ebb69ca19b0e20d</td>\n",
       "    </tr>\n",
       "    <tr>\n",
       "      <th>9</th>\n",
       "      <td>2</td>\n",
       "      <td>[web, email, mobile]</td>\n",
       "      <td>10</td>\n",
       "      <td>7</td>\n",
       "      <td>discount</td>\n",
       "      <td>2906b810c7d4411798c6938adc9daaa5</td>\n",
       "    </tr>\n",
       "  </tbody>\n",
       "</table>\n",
       "</div>"
      ],
      "text/plain": [
       "   reward                      channels  difficulty  duration     offer_type  \\\n",
       "0      10       [email, mobile, social]          10         7           bogo   \n",
       "1      10  [web, email, mobile, social]          10         5           bogo   \n",
       "2       0          [web, email, mobile]           0         4  informational   \n",
       "3       5          [web, email, mobile]           5         7           bogo   \n",
       "4       5                  [web, email]          20        10       discount   \n",
       "5       3  [web, email, mobile, social]           7         7       discount   \n",
       "6       2  [web, email, mobile, social]          10        10       discount   \n",
       "7       0       [email, mobile, social]           0         3  informational   \n",
       "8       5  [web, email, mobile, social]           5         5           bogo   \n",
       "9       2          [web, email, mobile]          10         7       discount   \n",
       "\n",
       "                                 id  \n",
       "0  ae264e3637204a6fb9bb56bc8210ddfd  \n",
       "1  4d5c57ea9a6940dd891ad53e9dbe8da0  \n",
       "2  3f207df678b143eea3cee63160fa8bed  \n",
       "3  9b98b8c7a33c4b65b9aebfe6a799e6d9  \n",
       "4  0b1e1539f2cc45b7b9fa7c272da2e1d7  \n",
       "5  2298d6c36e964ae4a3e7e9706d1fb8c2  \n",
       "6  fafdcd668e3743c1bb461111dcafc2a4  \n",
       "7  5a8bc65990b245e5a138643cd4eb9837  \n",
       "8  f19421c1d4aa40978ebb69ca19b0e20d  \n",
       "9  2906b810c7d4411798c6938adc9daaa5  "
      ]
     },
     "execution_count": 5,
     "metadata": {},
     "output_type": "execute_result"
    }
   ],
   "source": [
    "# read in the json files\n",
    "portfolio = pd.read_json('data/portfolio.json', orient='records', lines=True)\n",
    "portfolio"
   ]
  },
  {
   "cell_type": "markdown",
   "metadata": {},
   "source": [
    "three types of promotion:\n",
    "\n",
    "- **BOGO (Buy One Get One free)**: customer received this offer, customer can get two similar drinks and pay for one, essentially 50% except customer now have two drinks, works better for customer who has a friend or a colleague to join that drink\n",
    "- **Discount**: after certain dollars purchased for example \\\\$10, then a reward of \\\\$5 is added to buyers' Starbucks account\n",
    "- **Informational**: a notice or email informing a new product, or a new type of service. Customer is considered under *influence* during valid period if customer **viewed** the offer\n",
    "\n",
    "There are four types of BOGO, four types of discounts, and two types of informational included in this campaign. We will comback with this **portfolio** data after seeing more date in **transcript**"
   ]
  },
  {
   "cell_type": "markdown",
   "metadata": {},
   "source": [
    "## Profile"
   ]
  },
  {
   "cell_type": "code",
   "execution_count": 6,
   "metadata": {
    "ExecuteTime": {
     "end_time": "2021-01-03T11:40:29.324713Z",
     "start_time": "2021-01-03T11:40:29.263647Z"
    }
   },
   "outputs": [
    {
     "data": {
      "text/html": [
       "<div>\n",
       "<style scoped>\n",
       "    .dataframe tbody tr th:only-of-type {\n",
       "        vertical-align: middle;\n",
       "    }\n",
       "\n",
       "    .dataframe tbody tr th {\n",
       "        vertical-align: top;\n",
       "    }\n",
       "\n",
       "    .dataframe thead th {\n",
       "        text-align: right;\n",
       "    }\n",
       "</style>\n",
       "<table border=\"1\" class=\"dataframe\">\n",
       "  <thead>\n",
       "    <tr style=\"text-align: right;\">\n",
       "      <th></th>\n",
       "      <th>gender</th>\n",
       "      <th>age</th>\n",
       "      <th>id</th>\n",
       "      <th>became_member_on</th>\n",
       "      <th>income</th>\n",
       "    </tr>\n",
       "  </thead>\n",
       "  <tbody>\n",
       "    <tr>\n",
       "      <th>0</th>\n",
       "      <td>None</td>\n",
       "      <td>118</td>\n",
       "      <td>68be06ca386d4c31939f3a4f0e3dd783</td>\n",
       "      <td>20170212</td>\n",
       "      <td>NaN</td>\n",
       "    </tr>\n",
       "    <tr>\n",
       "      <th>1</th>\n",
       "      <td>F</td>\n",
       "      <td>55</td>\n",
       "      <td>0610b486422d4921ae7d2bf64640c50b</td>\n",
       "      <td>20170715</td>\n",
       "      <td>112000.0</td>\n",
       "    </tr>\n",
       "    <tr>\n",
       "      <th>2</th>\n",
       "      <td>None</td>\n",
       "      <td>118</td>\n",
       "      <td>38fe809add3b4fcf9315a9694bb96ff5</td>\n",
       "      <td>20180712</td>\n",
       "      <td>NaN</td>\n",
       "    </tr>\n",
       "    <tr>\n",
       "      <th>3</th>\n",
       "      <td>F</td>\n",
       "      <td>75</td>\n",
       "      <td>78afa995795e4d85b5d9ceeca43f5fef</td>\n",
       "      <td>20170509</td>\n",
       "      <td>100000.0</td>\n",
       "    </tr>\n",
       "    <tr>\n",
       "      <th>4</th>\n",
       "      <td>None</td>\n",
       "      <td>118</td>\n",
       "      <td>a03223e636434f42ac4c3df47e8bac43</td>\n",
       "      <td>20170804</td>\n",
       "      <td>NaN</td>\n",
       "    </tr>\n",
       "  </tbody>\n",
       "</table>\n",
       "</div>"
      ],
      "text/plain": [
       "  gender  age                                id  became_member_on    income\n",
       "0   None  118  68be06ca386d4c31939f3a4f0e3dd783          20170212       NaN\n",
       "1      F   55  0610b486422d4921ae7d2bf64640c50b          20170715  112000.0\n",
       "2   None  118  38fe809add3b4fcf9315a9694bb96ff5          20180712       NaN\n",
       "3      F   75  78afa995795e4d85b5d9ceeca43f5fef          20170509  100000.0\n",
       "4   None  118  a03223e636434f42ac4c3df47e8bac43          20170804       NaN"
      ]
     },
     "execution_count": 6,
     "metadata": {},
     "output_type": "execute_result"
    }
   ],
   "source": [
    "# load data in show first 5 lines\n",
    "profile = pd.read_json('data/profile.json', orient='records', lines=True)\n",
    "profile.head()"
   ]
  },
  {
   "cell_type": "code",
   "execution_count": 7,
   "metadata": {
    "ExecuteTime": {
     "end_time": "2021-01-03T11:40:29.328102Z",
     "start_time": "2021-01-03T11:40:29.325786Z"
    }
   },
   "outputs": [
    {
     "data": {
      "text/plain": [
       "(17000, 5)"
      ]
     },
     "execution_count": 7,
     "metadata": {},
     "output_type": "execute_result"
    }
   ],
   "source": [
    "# shape: rows by columns\n",
    "profile.shape"
   ]
  },
  {
   "cell_type": "code",
   "execution_count": 8,
   "metadata": {
    "ExecuteTime": {
     "end_time": "2021-01-03T11:40:29.335606Z",
     "start_time": "2021-01-03T11:40:29.329085Z"
    }
   },
   "outputs": [
    {
     "data": {
      "text/plain": [
       "M    8484\n",
       "F    6129\n",
       "O     212\n",
       "Name: gender, dtype: int64"
      ]
     },
     "execution_count": 8,
     "metadata": {},
     "output_type": "execute_result"
    }
   ],
   "source": [
    "# genders\n",
    "profile.gender.value_counts()"
   ]
  },
  {
   "cell_type": "code",
   "execution_count": 9,
   "metadata": {
    "ExecuteTime": {
     "end_time": "2021-01-03T11:40:29.454027Z",
     "start_time": "2021-01-03T11:40:29.336690Z"
    }
   },
   "outputs": [
    {
     "data": {
      "image/png": "[encoded data removed]",
      "text/plain": [
       "<Figure size 720x432 with 1 Axes>"
      ]
     },
     "metadata": {},
     "output_type": "display_data"
    }
   ],
   "source": [
    "profile.gender.value_counts().plot(kind='bar');"
   ]
  },
  {
   "cell_type": "code",
   "execution_count": 10,
   "metadata": {
    "ExecuteTime": {
     "end_time": "2021-01-03T11:40:29.459524Z",
     "start_time": "2021-01-03T11:40:29.455074Z"
    }
   },
   "outputs": [
    {
     "data": {
      "text/plain": [
       "118    2175\n",
       "58      408\n",
       "53      372\n",
       "51      363\n",
       "54      359\n",
       "       ... \n",
       "100      12\n",
       "96        8\n",
       "98        5\n",
       "99        5\n",
       "101       5\n",
       "Name: age, Length: 85, dtype: int64"
      ]
     },
     "execution_count": 10,
     "metadata": {},
     "output_type": "execute_result"
    }
   ],
   "source": [
    "# age distribution, we saw some discrepancy with 118 (years old)\n",
    "profile.age.value_counts()"
   ]
  },
  {
   "cell_type": "code",
   "execution_count": 11,
   "metadata": {
    "ExecuteTime": {
     "end_time": "2021-01-03T11:40:29.466941Z",
     "start_time": "2021-01-03T11:40:29.460571Z"
    }
   },
   "outputs": [],
   "source": [
    "# abnormal with 118 value, setting by NaN\n",
    "profile.loc[profile['age']==118, 'age'] = np.NaN"
   ]
  },
  {
   "cell_type": "code",
   "execution_count": 12,
   "metadata": {
    "ExecuteTime": {
     "end_time": "2021-01-03T11:40:29.590758Z",
     "start_time": "2021-01-03T11:40:29.468036Z"
    }
   },
   "outputs": [
    {
     "data": {
      "image/png": "[encoded data removed]",
      "text/plain": [
       "<Figure size 720x432 with 1 Axes>"
      ]
     },
     "metadata": {},
     "output_type": "display_data"
    }
   ],
   "source": [
    "# all genders\n",
    "profile.age.plot.hist();"
   ]
  },
  {
   "cell_type": "code",
   "execution_count": 13,
   "metadata": {
    "ExecuteTime": {
     "end_time": "2021-01-03T11:40:29.749189Z",
     "start_time": "2021-01-03T11:40:29.591845Z"
    }
   },
   "outputs": [
    {
     "data": {
      "image/png": "[encoded data removed]",
      "text/plain": [
       "<Figure size 720x432 with 1 Axes>"
      ]
     },
     "metadata": {},
     "output_type": "display_data"
    }
   ],
   "source": [
    "# distribution of age by gender\n",
    "profile.query('gender==\"M\"')['age'].hist()\n",
    "profile.query('gender==\"F\"')['age'].hist();"
   ]
  },
  {
   "cell_type": "markdown",
   "metadata": {},
   "source": [
    "- clear more young male members than female members in the dataset. It makes sense since Starbuck sells coffee as the main drink, "
   ]
  },
  {
   "cell_type": "code",
   "execution_count": 14,
   "metadata": {
    "ExecuteTime": {
     "end_time": "2021-01-03T11:40:29.763528Z",
     "start_time": "2021-01-03T11:40:29.750277Z"
    }
   },
   "outputs": [
    {
     "data": {
      "text/html": [
       "<div>\n",
       "<style scoped>\n",
       "    .dataframe tbody tr th:only-of-type {\n",
       "        vertical-align: middle;\n",
       "    }\n",
       "\n",
       "    .dataframe tbody tr th {\n",
       "        vertical-align: top;\n",
       "    }\n",
       "\n",
       "    .dataframe thead th {\n",
       "        text-align: right;\n",
       "    }\n",
       "</style>\n",
       "<table border=\"1\" class=\"dataframe\">\n",
       "  <thead>\n",
       "    <tr style=\"text-align: right;\">\n",
       "      <th>gender</th>\n",
       "      <th>F</th>\n",
       "      <th>M</th>\n",
       "      <th>O</th>\n",
       "    </tr>\n",
       "    <tr>\n",
       "      <th>age</th>\n",
       "      <th></th>\n",
       "      <th></th>\n",
       "      <th></th>\n",
       "    </tr>\n",
       "  </thead>\n",
       "  <tbody>\n",
       "    <tr>\n",
       "      <th>18.0</th>\n",
       "      <td>14.0</td>\n",
       "      <td>56.0</td>\n",
       "      <td>NaN</td>\n",
       "    </tr>\n",
       "    <tr>\n",
       "      <th>19.0</th>\n",
       "      <td>31.0</td>\n",
       "      <td>104.0</td>\n",
       "      <td>NaN</td>\n",
       "    </tr>\n",
       "    <tr>\n",
       "      <th>20.0</th>\n",
       "      <td>35.0</td>\n",
       "      <td>96.0</td>\n",
       "      <td>4.0</td>\n",
       "    </tr>\n",
       "    <tr>\n",
       "      <th>21.0</th>\n",
       "      <td>41.0</td>\n",
       "      <td>96.0</td>\n",
       "      <td>3.0</td>\n",
       "    </tr>\n",
       "    <tr>\n",
       "      <th>22.0</th>\n",
       "      <td>46.0</td>\n",
       "      <td>84.0</td>\n",
       "      <td>1.0</td>\n",
       "    </tr>\n",
       "    <tr>\n",
       "      <th>...</th>\n",
       "      <td>...</td>\n",
       "      <td>...</td>\n",
       "      <td>...</td>\n",
       "    </tr>\n",
       "    <tr>\n",
       "      <th>97.0</th>\n",
       "      <td>6.0</td>\n",
       "      <td>7.0</td>\n",
       "      <td>NaN</td>\n",
       "    </tr>\n",
       "    <tr>\n",
       "      <th>98.0</th>\n",
       "      <td>2.0</td>\n",
       "      <td>3.0</td>\n",
       "      <td>NaN</td>\n",
       "    </tr>\n",
       "    <tr>\n",
       "      <th>99.0</th>\n",
       "      <td>4.0</td>\n",
       "      <td>1.0</td>\n",
       "      <td>NaN</td>\n",
       "    </tr>\n",
       "    <tr>\n",
       "      <th>100.0</th>\n",
       "      <td>9.0</td>\n",
       "      <td>2.0</td>\n",
       "      <td>1.0</td>\n",
       "    </tr>\n",
       "    <tr>\n",
       "      <th>101.0</th>\n",
       "      <td>5.0</td>\n",
       "      <td>NaN</td>\n",
       "      <td>NaN</td>\n",
       "    </tr>\n",
       "  </tbody>\n",
       "</table>\n",
       "<p>84 rows × 3 columns</p>\n",
       "</div>"
      ],
      "text/plain": [
       "gender     F      M    O\n",
       "age                     \n",
       "18.0    14.0   56.0  NaN\n",
       "19.0    31.0  104.0  NaN\n",
       "20.0    35.0   96.0  4.0\n",
       "21.0    41.0   96.0  3.0\n",
       "22.0    46.0   84.0  1.0\n",
       "...      ...    ...  ...\n",
       "97.0     6.0    7.0  NaN\n",
       "98.0     2.0    3.0  NaN\n",
       "99.0     4.0    1.0  NaN\n",
       "100.0    9.0    2.0  1.0\n",
       "101.0    5.0    NaN  NaN\n",
       "\n",
       "[84 rows x 3 columns]"
      ]
     },
     "execution_count": 14,
     "metadata": {},
     "output_type": "execute_result"
    }
   ],
   "source": [
    "# let group genders and age \n",
    "gender = profile.groupby(['age', 'gender']).count()['id'].unstack()\n",
    "gender"
   ]
  },
  {
   "cell_type": "code",
   "execution_count": 15,
   "metadata": {
    "ExecuteTime": {
     "end_time": "2021-01-03T11:40:29.768754Z",
     "start_time": "2021-01-03T11:40:29.765725Z"
    }
   },
   "outputs": [],
   "source": [
    "gender['M/F'] = gender['M']/gender['F']"
   ]
  },
  {
   "cell_type": "code",
   "execution_count": 16,
   "metadata": {
    "ExecuteTime": {
     "end_time": "2021-01-03T11:40:29.934250Z",
     "start_time": "2021-01-03T11:40:29.770197Z"
    }
   },
   "outputs": [
    {
     "data": {
      "image/png": "[encoded data removed]",
      "text/plain": [
       "<Figure size 720x432 with 1 Axes>"
      ]
     },
     "metadata": {},
     "output_type": "display_data"
    }
   ],
   "source": [
    "plt.title('Ratio of Male/Female of Starbucks customers over age')\n",
    "plt.ylabel('Male/Female')\n",
    "plt.xlabel('age')\n",
    "plt.grid()\n",
    "plt.plot(gender.index, gender['M/F']);"
   ]
  },
  {
   "cell_type": "markdown",
   "metadata": {},
   "source": [
    "- more male customers under 40, and female customers are increased propotionally with age\n",
    "- over 80 years old, more female than male using Starbucks products (or as Starbucks customer)"
   ]
  },
  {
   "cell_type": "code",
   "execution_count": 17,
   "metadata": {
    "ExecuteTime": {
     "end_time": "2021-01-03T11:40:29.945373Z",
     "start_time": "2021-01-03T11:40:29.935330Z"
    }
   },
   "outputs": [],
   "source": [
    "# explore member join \n",
    "profile['became_member_on'] = pd.to_datetime(profile.became_member_on, format='%Y%m%d')"
   ]
  },
  {
   "cell_type": "code",
   "execution_count": 18,
   "metadata": {
    "ExecuteTime": {
     "end_time": "2021-01-03T11:40:30.344205Z",
     "start_time": "2021-01-03T11:40:29.946491Z"
    }
   },
   "outputs": [
    {
     "data": {
      "image/png": "[encoded data removed]",
      "text/plain": [
       "<Figure size 720x432 with 1 Axes>"
      ]
     },
     "metadata": {},
     "output_type": "display_data"
    }
   ],
   "source": [
    "latest_ts = profile.became_member_on.max()\n",
    "profile.became_member_on.apply(lambda x: (latest_ts - x).total_seconds()/\n",
    "                               (3600*24*365)).plot(kind='hist', bins=20);"
   ]
  },
  {
   "cell_type": "code",
   "execution_count": 19,
   "metadata": {
    "ExecuteTime": {
     "end_time": "2021-01-03T11:40:30.348505Z",
     "start_time": "2021-01-03T11:40:30.345293Z"
    }
   },
   "outputs": [
    {
     "data": {
      "text/plain": [
       "0.12794117647058822"
      ]
     },
     "execution_count": 19,
     "metadata": {},
     "output_type": "execute_result"
    }
   ],
   "source": [
    "# portion with nans in incomes\n",
    "profile.income.isna().sum()/profile.shape[0]"
   ]
  },
  {
   "cell_type": "code",
   "execution_count": 20,
   "metadata": {
    "ExecuteTime": {
     "end_time": "2021-01-03T11:40:30.496983Z",
     "start_time": "2021-01-03T11:40:30.349515Z"
    }
   },
   "outputs": [
    {
     "data": {
      "image/png": "[encoded data removed]",
      "text/plain": [
       "<Figure size 720x432 with 1 Axes>"
      ]
     },
     "metadata": {},
     "output_type": "display_data"
    }
   ],
   "source": [
    "profile.income.plot(kind='hist', bins=20);"
   ]
  },
  {
   "cell_type": "markdown",
   "metadata": {
    "ExecuteTime": {
     "end_time": "2020-12-30T05:39:52.283893Z",
     "start_time": "2020-12-30T05:39:52.282136Z"
    }
   },
   "source": [
    "### encoded profile"
   ]
  },
  {
   "cell_type": "code",
   "execution_count": 21,
   "metadata": {
    "ExecuteTime": {
     "end_time": "2021-01-03T11:40:30.500648Z",
     "start_time": "2021-01-03T11:40:30.498079Z"
    }
   },
   "outputs": [
    {
     "data": {
      "text/plain": [
       "Index(['gender', 'age', 'id', 'became_member_on', 'income'], dtype='object')"
      ]
     },
     "execution_count": 21,
     "metadata": {},
     "output_type": "execute_result"
    }
   ],
   "source": [
    "# for columns with a few categorical values, we can get encode them direcly such as gender, became_member_on\n",
    "# other need to be cut into a larger bin and then encoded by pd.get_dummies\n",
    "# will we find a similar customer based on characteristics from profile\n",
    "profile.columns"
   ]
  },
  {
   "cell_type": "code",
   "execution_count": 22,
   "metadata": {
    "ExecuteTime": {
     "end_time": "2021-01-03T11:40:30.765888Z",
     "start_time": "2021-01-03T11:40:30.501651Z"
    }
   },
   "outputs": [],
   "source": [
    "# membership age\n",
    "profile['membership_age'] = profile.became_member_on.apply(lambda x: int((latest_ts - x).total_seconds()/\n",
    "                               (3600*24*365)))\n",
    "df_m_age = pd.get_dummies(profile.membership_age, prefix=\"m_age\", dummy_na=True)"
   ]
  },
  {
   "cell_type": "code",
   "execution_count": 23,
   "metadata": {
    "ExecuteTime": {
     "end_time": "2021-01-03T11:40:30.770548Z",
     "start_time": "2021-01-03T11:40:30.767005Z"
    }
   },
   "outputs": [],
   "source": [
    "# genders\n",
    "df_gender = pd.get_dummies(profile.gender, prefix=\"gender\", dummy_na=True)"
   ]
  },
  {
   "cell_type": "code",
   "execution_count": 24,
   "metadata": {
    "ExecuteTime": {
     "end_time": "2021-01-03T11:40:30.781984Z",
     "start_time": "2021-01-03T11:40:30.771596Z"
    }
   },
   "outputs": [
    {
     "data": {
      "text/plain": [
       "58.0     408\n",
       "53.0     372\n",
       "51.0     363\n",
       "54.0     359\n",
       "59.0     359\n",
       "        ... \n",
       "100.0     12\n",
       "96.0       8\n",
       "101.0      5\n",
       "99.0       5\n",
       "98.0       5\n",
       "Name: age, Length: 84, dtype: int64"
      ]
     },
     "execution_count": 24,
     "metadata": {},
     "output_type": "execute_result"
    }
   ],
   "source": [
    "# for age columns, we have 84 members, which is is too large to encoded for each year\n",
    "profile.age.value_counts()"
   ]
  },
  {
   "cell_type": "code",
   "execution_count": 25,
   "metadata": {
    "ExecuteTime": {
     "end_time": "2021-01-03T11:40:30.791353Z",
     "start_time": "2021-01-03T11:40:30.783014Z"
    },
    "scrolled": true
   },
   "outputs": [
    {
     "data": {
      "text/plain": [
       "(18.0, 101.0)"
      ]
     },
     "execution_count": 25,
     "metadata": {},
     "output_type": "execute_result"
    }
   ],
   "source": [
    "# instead we gather in to a bin of 10 years\n",
    "min_, max_ = profile.age.describe().loc['min'], profile.age.describe().loc['max']\n",
    "min_, max_"
   ]
  },
  {
   "cell_type": "code",
   "execution_count": 26,
   "metadata": {
    "ExecuteTime": {
     "end_time": "2021-01-03T11:40:30.795851Z",
     "start_time": "2021-01-03T11:40:30.792411Z"
    }
   },
   "outputs": [
    {
     "data": {
      "text/plain": [
       "[23, 33, 43, 53, 63, 73, 83, 93]"
      ]
     },
     "execution_count": 26,
     "metadata": {},
     "output_type": "execute_result"
    }
   ],
   "source": [
    "age_bins = np.arange(min_, max_+1, 10)\n",
    "age_labels = [int((age_bins[i]+age_bins[i+1])/2) for i in range(0, len(age_bins)-1)]\n",
    "age_labels # average values"
   ]
  },
  {
   "cell_type": "code",
   "execution_count": 27,
   "metadata": {
    "ExecuteTime": {
     "end_time": "2021-01-03T11:40:30.803128Z",
     "start_time": "2021-01-03T11:40:30.796789Z"
    }
   },
   "outputs": [],
   "source": [
    "df_age = pd.get_dummies(pd.cut(profile.age, bins=age_bins, \n",
    "                      labels = age_labels), prefix=\"age\", dummy_na=True)"
   ]
  },
  {
   "cell_type": "code",
   "execution_count": 28,
   "metadata": {
    "ExecuteTime": {
     "end_time": "2021-01-03T11:40:30.809477Z",
     "start_time": "2021-01-03T11:40:30.804187Z"
    }
   },
   "outputs": [
    {
     "data": {
      "text/plain": [
       "count     14825.000000\n",
       "mean      65404.991568\n",
       "std       21598.299410\n",
       "min       30000.000000\n",
       "25%       49000.000000\n",
       "50%       64000.000000\n",
       "75%       80000.000000\n",
       "max      120000.000000\n",
       "Name: income, dtype: float64"
      ]
     },
     "execution_count": 28,
     "metadata": {},
     "output_type": "execute_result"
    }
   ],
   "source": [
    "# and finally income\n",
    "profile.income.describe()"
   ]
  },
  {
   "cell_type": "code",
   "execution_count": 29,
   "metadata": {
    "ExecuteTime": {
     "end_time": "2021-01-03T11:40:30.819040Z",
     "start_time": "2021-01-03T11:40:30.810509Z"
    }
   },
   "outputs": [
    {
     "data": {
      "text/plain": [
       "[35000, 45000, 55000, 65000, 75000, 85000, 95000, 105000, 115000]"
      ]
     },
     "execution_count": 29,
     "metadata": {},
     "output_type": "execute_result"
    }
   ],
   "source": [
    "# similar to age, we bins income to smaller groups\n",
    "min_, max_ = profile.income.describe().loc['min'], profile.income.describe().loc['max']\n",
    "income_bins = np.arange(min_, max_+1, 10_000)\n",
    "income_labels = [int((income_bins[i]+income_bins[i+1])/2) for i in range(0, len(income_bins)-1) ]\n",
    "income_labels # average values"
   ]
  },
  {
   "cell_type": "code",
   "execution_count": 30,
   "metadata": {
    "ExecuteTime": {
     "end_time": "2021-01-03T11:40:30.824417Z",
     "start_time": "2021-01-03T11:40:30.820111Z"
    }
   },
   "outputs": [],
   "source": [
    "df_income = pd.get_dummies(pd.cut(profile.income, bins=income_bins, \n",
    "                      labels = income_labels), prefix=\"income\", dummy_na=True)"
   ]
  },
  {
   "cell_type": "code",
   "execution_count": 31,
   "metadata": {
    "ExecuteTime": {
     "end_time": "2021-01-03T11:40:30.831270Z",
     "start_time": "2021-01-03T11:40:30.825476Z"
    }
   },
   "outputs": [
    {
     "data": {
      "text/plain": [
       "(17000, 29)"
      ]
     },
     "execution_count": 31,
     "metadata": {},
     "output_type": "execute_result"
    }
   ],
   "source": [
    "# then we concat all users with encoded columns\n",
    "profile_encoded = pd.concat([profile.id, df_gender, df_age, df_income, df_m_age], axis=1)\n",
    "profile_encoded.set_index('id', inplace=True)\n",
    "profile_encoded.shape"
   ]
  },
  {
   "cell_type": "code",
   "execution_count": 32,
   "metadata": {
    "ExecuteTime": {
     "end_time": "2021-01-03T11:40:30.835677Z",
     "start_time": "2021-01-03T11:40:30.832364Z"
    }
   },
   "outputs": [
    {
     "data": {
      "text/plain": [
       "4"
      ]
     },
     "execution_count": 32,
     "metadata": {},
     "output_type": "execute_result"
    }
   ],
   "source": [
    "# see what np.dot production looks like\n",
    "np.dot(profile_encoded.iloc[1], profile_encoded.iloc[1])"
   ]
  },
  {
   "cell_type": "code",
   "execution_count": 33,
   "metadata": {
    "ExecuteTime": {
     "end_time": "2021-01-03T11:40:30.844471Z",
     "start_time": "2021-01-03T11:40:30.836662Z"
    }
   },
   "outputs": [],
   "source": [
    "def encoding_profile(df=None):\n",
    "    '''encode values of columns in user profile.\n",
    "    \n",
    "    INPUT: user profile dataframe\n",
    "    \n",
    "    OUTPUT: a dataframe with value encoded\n",
    "    '''\n",
    "    \n",
    "    # membership age\n",
    "    df['membership_age'] = df.became_member_on.apply(\n",
    "        lambda x: int((latest_ts - x).total_seconds()/(3600*24*365)))\n",
    "    df_m_age = pd.get_dummies(df.membership_age, prefix=\"m_age\", dummy_na=True)\n",
    "    \n",
    "    # gender\n",
    "    df_gender = pd.get_dummies(df.gender, prefix=\"gender\", dummy_na=True)\n",
    "    min_, max_ = df.age.describe().loc['min'], df.age.describe().loc['max']\n",
    "    \n",
    "    # user age\n",
    "    age_bins = np.arange(min_, max_+1, 10)\n",
    "    age_labels = [int((age_bins[i]+age_bins[i+1])/2) for i in range(0, len(age_bins)-1)]\n",
    "    df_age = pd.get_dummies(pd.cut(df.age, bins=age_bins, \n",
    "                      labels = age_labels), prefix=\"age\", dummy_na=True)\n",
    "    \n",
    "    # user income\n",
    "    min_, max_ = df.income.describe().loc['min'], df.income.describe().loc['max']\n",
    "    income_bins = np.arange(min_, max_+1, 10_000)\n",
    "    income_labels = [int((income_bins[i]+income_bins[i+1])/2) for i in range(0, len(income_bins)-1)]\n",
    "    df_income = pd.get_dummies(pd.cut(df.income, bins=income_bins, \n",
    "                      labels = income_labels), prefix=\"income\", dummy_na=True)\n",
    "    # concatinate\n",
    "    profile_encoded = pd.concat([df.id, df_gender, df_age, df_income, df_m_age], axis=1)\n",
    "    profile_encoded.set_index('id', inplace=True)\n",
    "    return profile_encoded"
   ]
  },
  {
   "cell_type": "code",
   "execution_count": 34,
   "metadata": {
    "ExecuteTime": {
     "end_time": "2021-01-03T11:40:30.851508Z",
     "start_time": "2021-01-03T11:40:30.845497Z"
    }
   },
   "outputs": [],
   "source": [
    "def find_similar_users(user_id, df=None, n_top=10):\n",
    "    '''find n_top similars to user_id based np.dot product\n",
    "    \n",
    "    INPUT:\n",
    "        user_id: a select user id \n",
    "        df: a dataframe contains encoded columns characterize each user\n",
    "        n_top: number of top users would be return\n",
    "    \n",
    "    OUTPUT:\n",
    "        a dictionary contain a list of user_id and similar score    \n",
    "    '''\n",
    "    # select all users except the user_id\n",
    "    users = df.index.drop(user_id)\n",
    "    \n",
    "    # find similarity  \n",
    "    scores = [{'user': user, 'score':np.dot(df.loc[user_id], \n",
    "                                            df.loc[user])} for user in users]\n",
    "    # sort from top score\n",
    "    scores = sorted(scores, key=lambda k: k['score'], reverse=True)\n",
    "    return scores[:n_top]"
   ]
  },
  {
   "cell_type": "code",
   "execution_count": 35,
   "metadata": {
    "ExecuteTime": {
     "end_time": "2021-01-03T11:40:30.859442Z",
     "start_time": "2021-01-03T11:40:30.852513Z"
    }
   },
   "outputs": [
    {
     "data": {
      "text/plain": [
       "'13bda8fbd70a4814b956df1d55320398'"
      ]
     },
     "execution_count": 35,
     "metadata": {},
     "output_type": "execute_result"
    }
   ],
   "source": [
    "# select a user based on index\n",
    "user_id = profile_encoded.index[100]\n",
    "user_id"
   ]
  },
  {
   "cell_type": "code",
   "execution_count": 36,
   "metadata": {
    "ExecuteTime": {
     "end_time": "2021-01-03T11:40:31.144742Z",
     "start_time": "2021-01-03T11:40:30.860476Z"
    }
   },
   "outputs": [],
   "source": [
    "profile_encoded = encoding_profile(df=profile)"
   ]
  },
  {
   "cell_type": "code",
   "execution_count": 37,
   "metadata": {
    "ExecuteTime": {
     "end_time": "2021-01-03T11:40:31.158154Z",
     "start_time": "2021-01-03T11:40:31.145866Z"
    }
   },
   "outputs": [
    {
     "data": {
      "text/html": [
       "<div>\n",
       "<style scoped>\n",
       "    .dataframe tbody tr th:only-of-type {\n",
       "        vertical-align: middle;\n",
       "    }\n",
       "\n",
       "    .dataframe tbody tr th {\n",
       "        vertical-align: top;\n",
       "    }\n",
       "\n",
       "    .dataframe thead th {\n",
       "        text-align: right;\n",
       "    }\n",
       "</style>\n",
       "<table border=\"1\" class=\"dataframe\">\n",
       "  <thead>\n",
       "    <tr style=\"text-align: right;\">\n",
       "      <th></th>\n",
       "      <th>gender_F</th>\n",
       "      <th>gender_M</th>\n",
       "      <th>gender_O</th>\n",
       "      <th>gender_nan</th>\n",
       "      <th>age_23.0</th>\n",
       "      <th>age_33.0</th>\n",
       "      <th>age_43.0</th>\n",
       "      <th>age_53.0</th>\n",
       "      <th>age_63.0</th>\n",
       "      <th>age_73.0</th>\n",
       "      <th>...</th>\n",
       "      <th>income_95000.0</th>\n",
       "      <th>income_105000.0</th>\n",
       "      <th>income_115000.0</th>\n",
       "      <th>income_nan</th>\n",
       "      <th>m_age_0.0</th>\n",
       "      <th>m_age_1.0</th>\n",
       "      <th>m_age_2.0</th>\n",
       "      <th>m_age_3.0</th>\n",
       "      <th>m_age_4.0</th>\n",
       "      <th>m_age_nan</th>\n",
       "    </tr>\n",
       "    <tr>\n",
       "      <th>id</th>\n",
       "      <th></th>\n",
       "      <th></th>\n",
       "      <th></th>\n",
       "      <th></th>\n",
       "      <th></th>\n",
       "      <th></th>\n",
       "      <th></th>\n",
       "      <th></th>\n",
       "      <th></th>\n",
       "      <th></th>\n",
       "      <th></th>\n",
       "      <th></th>\n",
       "      <th></th>\n",
       "      <th></th>\n",
       "      <th></th>\n",
       "      <th></th>\n",
       "      <th></th>\n",
       "      <th></th>\n",
       "      <th></th>\n",
       "      <th></th>\n",
       "      <th></th>\n",
       "    </tr>\n",
       "  </thead>\n",
       "  <tbody>\n",
       "    <tr>\n",
       "      <th>68be06ca386d4c31939f3a4f0e3dd783</th>\n",
       "      <td>0</td>\n",
       "      <td>0</td>\n",
       "      <td>0</td>\n",
       "      <td>1</td>\n",
       "      <td>0</td>\n",
       "      <td>0</td>\n",
       "      <td>0</td>\n",
       "      <td>0</td>\n",
       "      <td>0</td>\n",
       "      <td>0</td>\n",
       "      <td>...</td>\n",
       "      <td>0</td>\n",
       "      <td>0</td>\n",
       "      <td>0</td>\n",
       "      <td>1</td>\n",
       "      <td>0</td>\n",
       "      <td>1</td>\n",
       "      <td>0</td>\n",
       "      <td>0</td>\n",
       "      <td>0</td>\n",
       "      <td>0</td>\n",
       "    </tr>\n",
       "    <tr>\n",
       "      <th>0610b486422d4921ae7d2bf64640c50b</th>\n",
       "      <td>1</td>\n",
       "      <td>0</td>\n",
       "      <td>0</td>\n",
       "      <td>0</td>\n",
       "      <td>0</td>\n",
       "      <td>0</td>\n",
       "      <td>0</td>\n",
       "      <td>1</td>\n",
       "      <td>0</td>\n",
       "      <td>0</td>\n",
       "      <td>...</td>\n",
       "      <td>0</td>\n",
       "      <td>0</td>\n",
       "      <td>1</td>\n",
       "      <td>0</td>\n",
       "      <td>0</td>\n",
       "      <td>1</td>\n",
       "      <td>0</td>\n",
       "      <td>0</td>\n",
       "      <td>0</td>\n",
       "      <td>0</td>\n",
       "    </tr>\n",
       "    <tr>\n",
       "      <th>38fe809add3b4fcf9315a9694bb96ff5</th>\n",
       "      <td>0</td>\n",
       "      <td>0</td>\n",
       "      <td>0</td>\n",
       "      <td>1</td>\n",
       "      <td>0</td>\n",
       "      <td>0</td>\n",
       "      <td>0</td>\n",
       "      <td>0</td>\n",
       "      <td>0</td>\n",
       "      <td>0</td>\n",
       "      <td>...</td>\n",
       "      <td>0</td>\n",
       "      <td>0</td>\n",
       "      <td>0</td>\n",
       "      <td>1</td>\n",
       "      <td>1</td>\n",
       "      <td>0</td>\n",
       "      <td>0</td>\n",
       "      <td>0</td>\n",
       "      <td>0</td>\n",
       "      <td>0</td>\n",
       "    </tr>\n",
       "    <tr>\n",
       "      <th>78afa995795e4d85b5d9ceeca43f5fef</th>\n",
       "      <td>1</td>\n",
       "      <td>0</td>\n",
       "      <td>0</td>\n",
       "      <td>0</td>\n",
       "      <td>0</td>\n",
       "      <td>0</td>\n",
       "      <td>0</td>\n",
       "      <td>0</td>\n",
       "      <td>0</td>\n",
       "      <td>1</td>\n",
       "      <td>...</td>\n",
       "      <td>1</td>\n",
       "      <td>0</td>\n",
       "      <td>0</td>\n",
       "      <td>0</td>\n",
       "      <td>0</td>\n",
       "      <td>1</td>\n",
       "      <td>0</td>\n",
       "      <td>0</td>\n",
       "      <td>0</td>\n",
       "      <td>0</td>\n",
       "    </tr>\n",
       "    <tr>\n",
       "      <th>a03223e636434f42ac4c3df47e8bac43</th>\n",
       "      <td>0</td>\n",
       "      <td>0</td>\n",
       "      <td>0</td>\n",
       "      <td>1</td>\n",
       "      <td>0</td>\n",
       "      <td>0</td>\n",
       "      <td>0</td>\n",
       "      <td>0</td>\n",
       "      <td>0</td>\n",
       "      <td>0</td>\n",
       "      <td>...</td>\n",
       "      <td>0</td>\n",
       "      <td>0</td>\n",
       "      <td>0</td>\n",
       "      <td>1</td>\n",
       "      <td>1</td>\n",
       "      <td>0</td>\n",
       "      <td>0</td>\n",
       "      <td>0</td>\n",
       "      <td>0</td>\n",
       "      <td>0</td>\n",
       "    </tr>\n",
       "  </tbody>\n",
       "</table>\n",
       "<p>5 rows × 29 columns</p>\n",
       "</div>"
      ],
      "text/plain": [
       "                                  gender_F  gender_M  gender_O  gender_nan  \\\n",
       "id                                                                           \n",
       "68be06ca386d4c31939f3a4f0e3dd783         0         0         0           1   \n",
       "0610b486422d4921ae7d2bf64640c50b         1         0         0           0   \n",
       "38fe809add3b4fcf9315a9694bb96ff5         0         0         0           1   \n",
       "78afa995795e4d85b5d9ceeca43f5fef         1         0         0           0   \n",
       "a03223e636434f42ac4c3df47e8bac43         0         0         0           1   \n",
       "\n",
       "                                  age_23.0  age_33.0  age_43.0  age_53.0  \\\n",
       "id                                                                         \n",
       "68be06ca386d4c31939f3a4f0e3dd783         0         0         0         0   \n",
       "0610b486422d4921ae7d2bf64640c50b         0         0         0         1   \n",
       "38fe809add3b4fcf9315a9694bb96ff5         0         0         0         0   \n",
       "78afa995795e4d85b5d9ceeca43f5fef         0         0         0         0   \n",
       "a03223e636434f42ac4c3df47e8bac43         0         0         0         0   \n",
       "\n",
       "                                  age_63.0  age_73.0  ...  income_95000.0  \\\n",
       "id                                                    ...                   \n",
       "68be06ca386d4c31939f3a4f0e3dd783         0         0  ...               0   \n",
       "0610b486422d4921ae7d2bf64640c50b         0         0  ...               0   \n",
       "38fe809add3b4fcf9315a9694bb96ff5         0         0  ...               0   \n",
       "78afa995795e4d85b5d9ceeca43f5fef         0         1  ...               1   \n",
       "a03223e636434f42ac4c3df47e8bac43         0         0  ...               0   \n",
       "\n",
       "                                  income_105000.0  income_115000.0  \\\n",
       "id                                                                   \n",
       "68be06ca386d4c31939f3a4f0e3dd783                0                0   \n",
       "0610b486422d4921ae7d2bf64640c50b                0                1   \n",
       "38fe809add3b4fcf9315a9694bb96ff5                0                0   \n",
       "78afa995795e4d85b5d9ceeca43f5fef                0                0   \n",
       "a03223e636434f42ac4c3df47e8bac43                0                0   \n",
       "\n",
       "                                  income_nan  m_age_0.0  m_age_1.0  m_age_2.0  \\\n",
       "id                                                                              \n",
       "68be06ca386d4c31939f3a4f0e3dd783           1          0          1          0   \n",
       "0610b486422d4921ae7d2bf64640c50b           0          0          1          0   \n",
       "38fe809add3b4fcf9315a9694bb96ff5           1          1          0          0   \n",
       "78afa995795e4d85b5d9ceeca43f5fef           0          0          1          0   \n",
       "a03223e636434f42ac4c3df47e8bac43           1          1          0          0   \n",
       "\n",
       "                                  m_age_3.0  m_age_4.0  m_age_nan  \n",
       "id                                                                 \n",
       "68be06ca386d4c31939f3a4f0e3dd783          0          0          0  \n",
       "0610b486422d4921ae7d2bf64640c50b          0          0          0  \n",
       "38fe809add3b4fcf9315a9694bb96ff5          0          0          0  \n",
       "78afa995795e4d85b5d9ceeca43f5fef          0          0          0  \n",
       "a03223e636434f42ac4c3df47e8bac43          0          0          0  \n",
       "\n",
       "[5 rows x 29 columns]"
      ]
     },
     "execution_count": 37,
     "metadata": {},
     "output_type": "execute_result"
    }
   ],
   "source": [
    "profile_encoded.head()"
   ]
  },
  {
   "cell_type": "code",
   "execution_count": 38,
   "metadata": {
    "ExecuteTime": {
     "end_time": "2021-01-03T11:40:35.758480Z",
     "start_time": "2021-01-03T11:40:31.159202Z"
    }
   },
   "outputs": [
    {
     "data": {
      "text/plain": [
       "[{'user': 'cbebad9819494b479dbf0c1207b4c0c5', 'score': 4},\n",
       " {'user': '807199e7716f4d78974416f917582b78', 'score': 4},\n",
       " {'user': 'de4cc19481914b79b9bfbec4185de8c7', 'score': 4},\n",
       " {'user': '79526521cf4e4f45ad218c7ce25409f3', 'score': 4},\n",
       " {'user': '9a486e1f8a8941db9af401ad52af2ac9', 'score': 4},\n",
       " {'user': 'f8f12b89a9e740d881f21dbe62c05c22', 'score': 4},\n",
       " {'user': '8140d90b53c54b0687ddd58ee64bd9d6', 'score': 4},\n",
       " {'user': 'd8caa73d26d34770847f584020421eba', 'score': 4},\n",
       " {'user': '433615d15b654fc99fefa9cd1d0b1a48', 'score': 4},\n",
       " {'user': 'ae446077b3294f60bd40a5757d537744', 'score': 4}]"
      ]
     },
     "execution_count": 38,
     "metadata": {},
     "output_type": "execute_result"
    }
   ],
   "source": [
    "find_similar_users(user_id, df=profile_encoded)"
   ]
  },
  {
   "cell_type": "markdown",
   "metadata": {},
   "source": [
    "## Transcript"
   ]
  },
  {
   "cell_type": "code",
   "execution_count": 39,
   "metadata": {
    "ExecuteTime": {
     "end_time": "2021-01-03T11:40:36.968370Z",
     "start_time": "2021-01-03T11:40:35.759542Z"
    }
   },
   "outputs": [
    {
     "data": {
      "text/html": [
       "<div>\n",
       "<style scoped>\n",
       "    .dataframe tbody tr th:only-of-type {\n",
       "        vertical-align: middle;\n",
       "    }\n",
       "\n",
       "    .dataframe tbody tr th {\n",
       "        vertical-align: top;\n",
       "    }\n",
       "\n",
       "    .dataframe thead th {\n",
       "        text-align: right;\n",
       "    }\n",
       "</style>\n",
       "<table border=\"1\" class=\"dataframe\">\n",
       "  <thead>\n",
       "    <tr style=\"text-align: right;\">\n",
       "      <th></th>\n",
       "      <th>person</th>\n",
       "      <th>event</th>\n",
       "      <th>value</th>\n",
       "      <th>time</th>\n",
       "    </tr>\n",
       "  </thead>\n",
       "  <tbody>\n",
       "    <tr>\n",
       "      <th>0</th>\n",
       "      <td>78afa995795e4d85b5d9ceeca43f5fef</td>\n",
       "      <td>offer received</td>\n",
       "      <td>{'offer id': '9b98b8c7a33c4b65b9aebfe6a799e6d9'}</td>\n",
       "      <td>0</td>\n",
       "    </tr>\n",
       "    <tr>\n",
       "      <th>1</th>\n",
       "      <td>a03223e636434f42ac4c3df47e8bac43</td>\n",
       "      <td>offer received</td>\n",
       "      <td>{'offer id': '0b1e1539f2cc45b7b9fa7c272da2e1d7'}</td>\n",
       "      <td>0</td>\n",
       "    </tr>\n",
       "    <tr>\n",
       "      <th>2</th>\n",
       "      <td>e2127556f4f64592b11af22de27a7932</td>\n",
       "      <td>offer received</td>\n",
       "      <td>{'offer id': '2906b810c7d4411798c6938adc9daaa5'}</td>\n",
       "      <td>0</td>\n",
       "    </tr>\n",
       "    <tr>\n",
       "      <th>3</th>\n",
       "      <td>8ec6ce2a7e7949b1bf142def7d0e0586</td>\n",
       "      <td>offer received</td>\n",
       "      <td>{'offer id': 'fafdcd668e3743c1bb461111dcafc2a4'}</td>\n",
       "      <td>0</td>\n",
       "    </tr>\n",
       "    <tr>\n",
       "      <th>4</th>\n",
       "      <td>68617ca6246f4fbc85e91a2a49552598</td>\n",
       "      <td>offer received</td>\n",
       "      <td>{'offer id': '4d5c57ea9a6940dd891ad53e9dbe8da0'}</td>\n",
       "      <td>0</td>\n",
       "    </tr>\n",
       "  </tbody>\n",
       "</table>\n",
       "</div>"
      ],
      "text/plain": [
       "                             person           event  \\\n",
       "0  78afa995795e4d85b5d9ceeca43f5fef  offer received   \n",
       "1  a03223e636434f42ac4c3df47e8bac43  offer received   \n",
       "2  e2127556f4f64592b11af22de27a7932  offer received   \n",
       "3  8ec6ce2a7e7949b1bf142def7d0e0586  offer received   \n",
       "4  68617ca6246f4fbc85e91a2a49552598  offer received   \n",
       "\n",
       "                                              value  time  \n",
       "0  {'offer id': '9b98b8c7a33c4b65b9aebfe6a799e6d9'}     0  \n",
       "1  {'offer id': '0b1e1539f2cc45b7b9fa7c272da2e1d7'}     0  \n",
       "2  {'offer id': '2906b810c7d4411798c6938adc9daaa5'}     0  \n",
       "3  {'offer id': 'fafdcd668e3743c1bb461111dcafc2a4'}     0  \n",
       "4  {'offer id': '4d5c57ea9a6940dd891ad53e9dbe8da0'}     0  "
      ]
     },
     "execution_count": 39,
     "metadata": {},
     "output_type": "execute_result"
    }
   ],
   "source": [
    "# transaction record\n",
    "transcript = pd.read_json('data/transcript.json', orient='records', lines=True)\n",
    "transcript.head()"
   ]
  },
  {
   "cell_type": "code",
   "execution_count": 40,
   "metadata": {
    "ExecuteTime": {
     "end_time": "2021-01-03T11:40:36.971709Z",
     "start_time": "2021-01-03T11:40:36.969423Z"
    },
    "scrolled": true
   },
   "outputs": [
    {
     "data": {
      "text/plain": [
       "(306534, 4)"
      ]
     },
     "execution_count": 40,
     "metadata": {},
     "output_type": "execute_result"
    }
   ],
   "source": [
    "# long table\n",
    "transcript.shape"
   ]
  },
  {
   "cell_type": "code",
   "execution_count": 41,
   "metadata": {
    "ExecuteTime": {
     "end_time": "2021-01-03T11:40:37.026577Z",
     "start_time": "2021-01-03T11:40:36.972653Z"
    }
   },
   "outputs": [
    {
     "data": {
      "text/plain": [
       "18.031411764705883"
      ]
     },
     "execution_count": 41,
     "metadata": {},
     "output_type": "execute_result"
    }
   ],
   "source": [
    "# average traffic per user\n",
    "transcript.shape[0]/transcript.person.nunique()"
   ]
  },
  {
   "cell_type": "code",
   "execution_count": 42,
   "metadata": {
    "ExecuteTime": {
     "end_time": "2021-01-03T11:40:37.170827Z",
     "start_time": "2021-01-03T11:40:37.027664Z"
    }
   },
   "outputs": [
    {
     "data": {
      "image/png": "[encoded data removed]",
      "text/plain": [
       "<Figure size 720x432 with 1 Axes>"
      ]
     },
     "metadata": {},
     "output_type": "display_data"
    }
   ],
   "source": [
    "# transaction by timestamp  (hours)\n",
    "transcript.time.plot(kind='hist');"
   ]
  },
  {
   "cell_type": "code",
   "execution_count": 43,
   "metadata": {
    "ExecuteTime": {
     "end_time": "2021-01-03T11:40:37.206023Z",
     "start_time": "2021-01-03T11:40:37.171918Z"
    }
   },
   "outputs": [
    {
     "data": {
      "text/plain": [
       "transaction        138953\n",
       "offer received      76277\n",
       "offer viewed        57725\n",
       "offer completed     33579\n",
       "Name: event, dtype: int64"
      ]
     },
     "execution_count": 43,
     "metadata": {},
     "output_type": "execute_result"
    }
   ],
   "source": [
    "# transaction categories\n",
    "transcript.event.value_counts()"
   ]
  },
  {
   "cell_type": "code",
   "execution_count": 44,
   "metadata": {
    "ExecuteTime": {
     "end_time": "2021-01-03T11:40:37.349300Z",
     "start_time": "2021-01-03T11:40:37.207090Z"
    }
   },
   "outputs": [
    {
     "data": {
      "image/png": "[encoded data removed]",
      "text/plain": [
       "<Figure size 720x432 with 1 Axes>"
      ]
     },
     "metadata": {},
     "output_type": "display_data"
    }
   ],
   "source": [
    "transcript.event.value_counts().iloc[1:].plot(kind='bar')\n",
    "plt.xticks(rotation=0);\n",
    "plt.ylabel('Count')\n",
    "plt.title('Overall transaction summary of dataset');\n"
   ]
  },
  {
   "cell_type": "markdown",
   "metadata": {
    "ExecuteTime": {
     "end_time": "2020-12-28T07:56:44.883357Z",
     "start_time": "2020-12-28T07:56:44.880152Z"
    }
   },
   "source": [
    "- over the all transaction, about 44% promotion received gets completed\n",
    "- 75% of promotions received gets viewed\n",
    "- 58% of promotions viewed gets completed\n",
    "- two informational promotions don't have \"completed\" record"
   ]
  },
  {
   "cell_type": "markdown",
   "metadata": {
    "ExecuteTime": {
     "end_time": "2020-12-25T04:57:49.267108Z",
     "start_time": "2020-12-25T04:57:49.265106Z"
    }
   },
   "source": [
    "### user-offer-matrix"
   ]
  },
  {
   "cell_type": "code",
   "execution_count": 45,
   "metadata": {
    "ExecuteTime": {
     "end_time": "2021-01-03T11:40:37.360587Z",
     "start_time": "2021-01-03T11:40:37.353738Z"
    }
   },
   "outputs": [
    {
     "data": {
      "text/html": [
       "<div>\n",
       "<style scoped>\n",
       "    .dataframe tbody tr th:only-of-type {\n",
       "        vertical-align: middle;\n",
       "    }\n",
       "\n",
       "    .dataframe tbody tr th {\n",
       "        vertical-align: top;\n",
       "    }\n",
       "\n",
       "    .dataframe thead th {\n",
       "        text-align: right;\n",
       "    }\n",
       "</style>\n",
       "<table border=\"1\" class=\"dataframe\">\n",
       "  <thead>\n",
       "    <tr style=\"text-align: right;\">\n",
       "      <th></th>\n",
       "      <th>person</th>\n",
       "      <th>event</th>\n",
       "      <th>value</th>\n",
       "      <th>time</th>\n",
       "    </tr>\n",
       "  </thead>\n",
       "  <tbody>\n",
       "    <tr>\n",
       "      <th>0</th>\n",
       "      <td>78afa995795e4d85b5d9ceeca43f5fef</td>\n",
       "      <td>offer received</td>\n",
       "      <td>{'offer id': '9b98b8c7a33c4b65b9aebfe6a799e6d9'}</td>\n",
       "      <td>0</td>\n",
       "    </tr>\n",
       "    <tr>\n",
       "      <th>1</th>\n",
       "      <td>a03223e636434f42ac4c3df47e8bac43</td>\n",
       "      <td>offer received</td>\n",
       "      <td>{'offer id': '0b1e1539f2cc45b7b9fa7c272da2e1d7'}</td>\n",
       "      <td>0</td>\n",
       "    </tr>\n",
       "    <tr>\n",
       "      <th>2</th>\n",
       "      <td>e2127556f4f64592b11af22de27a7932</td>\n",
       "      <td>offer received</td>\n",
       "      <td>{'offer id': '2906b810c7d4411798c6938adc9daaa5'}</td>\n",
       "      <td>0</td>\n",
       "    </tr>\n",
       "    <tr>\n",
       "      <th>3</th>\n",
       "      <td>8ec6ce2a7e7949b1bf142def7d0e0586</td>\n",
       "      <td>offer received</td>\n",
       "      <td>{'offer id': 'fafdcd668e3743c1bb461111dcafc2a4'}</td>\n",
       "      <td>0</td>\n",
       "    </tr>\n",
       "    <tr>\n",
       "      <th>4</th>\n",
       "      <td>68617ca6246f4fbc85e91a2a49552598</td>\n",
       "      <td>offer received</td>\n",
       "      <td>{'offer id': '4d5c57ea9a6940dd891ad53e9dbe8da0'}</td>\n",
       "      <td>0</td>\n",
       "    </tr>\n",
       "  </tbody>\n",
       "</table>\n",
       "</div>"
      ],
      "text/plain": [
       "                             person           event  \\\n",
       "0  78afa995795e4d85b5d9ceeca43f5fef  offer received   \n",
       "1  a03223e636434f42ac4c3df47e8bac43  offer received   \n",
       "2  e2127556f4f64592b11af22de27a7932  offer received   \n",
       "3  8ec6ce2a7e7949b1bf142def7d0e0586  offer received   \n",
       "4  68617ca6246f4fbc85e91a2a49552598  offer received   \n",
       "\n",
       "                                              value  time  \n",
       "0  {'offer id': '9b98b8c7a33c4b65b9aebfe6a799e6d9'}     0  \n",
       "1  {'offer id': '0b1e1539f2cc45b7b9fa7c272da2e1d7'}     0  \n",
       "2  {'offer id': '2906b810c7d4411798c6938adc9daaa5'}     0  \n",
       "3  {'offer id': 'fafdcd668e3743c1bb461111dcafc2a4'}     0  \n",
       "4  {'offer id': '4d5c57ea9a6940dd891ad53e9dbe8da0'}     0  "
      ]
     },
     "execution_count": 45,
     "metadata": {},
     "output_type": "execute_result"
    }
   ],
   "source": [
    "transcript.head()"
   ]
  },
  {
   "cell_type": "code",
   "execution_count": 46,
   "metadata": {
    "ExecuteTime": {
     "end_time": "2021-01-03T11:40:37.731833Z",
     "start_time": "2021-01-03T11:40:37.362791Z"
    }
   },
   "outputs": [],
   "source": [
    "# get content of value columns, unpack\n",
    "transcript['amount'] = transcript['value'].apply(lambda x: list(x.values())[0] \n",
    "                                                 if 'amount' in list(x.keys())[0] else np.NaN)\n",
    "transcript['offer'] = transcript['value'].apply(lambda x: list(x.values())[0] \n",
    "                                                if 'offer' in list(x.keys())[0] else np.NaN)"
   ]
  },
  {
   "cell_type": "code",
   "execution_count": 47,
   "metadata": {
    "ExecuteTime": {
     "end_time": "2021-01-03T11:40:37.805854Z",
     "start_time": "2021-01-03T11:40:37.733000Z"
    }
   },
   "outputs": [
    {
     "data": {
      "text/plain": [
       "(306534, 5)"
      ]
     },
     "execution_count": 47,
     "metadata": {},
     "output_type": "execute_result"
    }
   ],
   "source": [
    "transcript.drop(columns='value', inplace=True)\n",
    "transcript.shape"
   ]
  },
  {
   "cell_type": "code",
   "execution_count": 48,
   "metadata": {
    "ExecuteTime": {
     "end_time": "2021-01-03T11:40:37.811067Z",
     "start_time": "2021-01-03T11:40:37.806898Z"
    }
   },
   "outputs": [
    {
     "data": {
      "text/plain": [
       "1.7754519700000004"
      ]
     },
     "execution_count": 48,
     "metadata": {},
     "output_type": "execute_result"
    }
   ],
   "source": [
    "# let see total purchase in $M\n",
    "transcript.amount.sum()/1_000_000"
   ]
  },
  {
   "cell_type": "code",
   "execution_count": 49,
   "metadata": {
    "ExecuteTime": {
     "end_time": "2021-01-03T11:40:37.826538Z",
     "start_time": "2021-01-03T11:40:37.812131Z"
    }
   },
   "outputs": [
    {
     "data": {
      "text/plain": [
       "count    138953.000000\n",
       "mean         12.777356\n",
       "std          30.250529\n",
       "min           0.050000\n",
       "25%           2.780000\n",
       "50%           8.890000\n",
       "75%          18.070000\n",
       "max        1062.280000\n",
       "Name: amount, dtype: float64"
      ]
     },
     "execution_count": 49,
     "metadata": {},
     "output_type": "execute_result"
    }
   ],
   "source": [
    "# on average, customer make a $12.77, and 50% customers make $8.9 or more\n",
    "transcript.amount.describe()"
   ]
  },
  {
   "cell_type": "code",
   "execution_count": 50,
   "metadata": {
    "ExecuteTime": {
     "end_time": "2021-01-03T11:40:38.632976Z",
     "start_time": "2021-01-03T11:40:37.827612Z"
    }
   },
   "outputs": [
    {
     "data": {
      "image/png": "[encoded data removed]",
      "text/plain": [
       "<Figure size 720x432 with 1 Axes>"
      ]
     },
     "metadata": {},
     "output_type": "display_data"
    }
   ],
   "source": [
    "transcript.amount.plot(kind='hist', bins=100, logx=True);"
   ]
  },
  {
   "cell_type": "code",
   "execution_count": 51,
   "metadata": {
    "ExecuteTime": {
     "end_time": "2021-01-03T11:40:38.645038Z",
     "start_time": "2021-01-03T11:40:38.634139Z"
    }
   },
   "outputs": [
    {
     "data": {
      "text/html": [
       "<div>\n",
       "<style scoped>\n",
       "    .dataframe tbody tr th:only-of-type {\n",
       "        vertical-align: middle;\n",
       "    }\n",
       "\n",
       "    .dataframe tbody tr th {\n",
       "        vertical-align: top;\n",
       "    }\n",
       "\n",
       "    .dataframe thead th {\n",
       "        text-align: right;\n",
       "    }\n",
       "</style>\n",
       "<table border=\"1\" class=\"dataframe\">\n",
       "  <thead>\n",
       "    <tr style=\"text-align: right;\">\n",
       "      <th></th>\n",
       "      <th>person</th>\n",
       "      <th>event</th>\n",
       "      <th>time</th>\n",
       "      <th>amount</th>\n",
       "      <th>offer</th>\n",
       "    </tr>\n",
       "  </thead>\n",
       "  <tbody>\n",
       "    <tr>\n",
       "      <th>15540</th>\n",
       "      <td>f367a50b86d049799bbb0eb645ee834c</td>\n",
       "      <td>transaction</td>\n",
       "      <td>0</td>\n",
       "      <td>195.24</td>\n",
       "      <td>NaN</td>\n",
       "    </tr>\n",
       "    <tr>\n",
       "      <th>18053</th>\n",
       "      <td>8a776d222f174aa089866b2725721eec</td>\n",
       "      <td>transaction</td>\n",
       "      <td>6</td>\n",
       "      <td>448.97</td>\n",
       "      <td>NaN</td>\n",
       "    </tr>\n",
       "    <tr>\n",
       "      <th>18417</th>\n",
       "      <td>6b247ba48509456eb57b24f878f313ea</td>\n",
       "      <td>transaction</td>\n",
       "      <td>12</td>\n",
       "      <td>219.02</td>\n",
       "      <td>NaN</td>\n",
       "    </tr>\n",
       "    <tr>\n",
       "      <th>18800</th>\n",
       "      <td>04f1f44632cd409cace939fa62b5fc7a</td>\n",
       "      <td>transaction</td>\n",
       "      <td>12</td>\n",
       "      <td>628.41</td>\n",
       "      <td>NaN</td>\n",
       "    </tr>\n",
       "    <tr>\n",
       "      <th>19097</th>\n",
       "      <td>a12fba072dae4e3aae2e1b4b92b92aa1</td>\n",
       "      <td>transaction</td>\n",
       "      <td>12</td>\n",
       "      <td>871.51</td>\n",
       "      <td>NaN</td>\n",
       "    </tr>\n",
       "    <tr>\n",
       "      <th>...</th>\n",
       "      <td>...</td>\n",
       "      <td>...</td>\n",
       "      <td>...</td>\n",
       "      <td>...</td>\n",
       "      <td>...</td>\n",
       "    </tr>\n",
       "    <tr>\n",
       "      <th>304828</th>\n",
       "      <td>10cbaa18d359457d899edf285d85a9b4</td>\n",
       "      <td>transaction</td>\n",
       "      <td>708</td>\n",
       "      <td>120.29</td>\n",
       "      <td>NaN</td>\n",
       "    </tr>\n",
       "    <tr>\n",
       "      <th>305143</th>\n",
       "      <td>76018bc0dfd64ccc8f2e7959bf627ba7</td>\n",
       "      <td>transaction</td>\n",
       "      <td>708</td>\n",
       "      <td>290.93</td>\n",
       "      <td>NaN</td>\n",
       "    </tr>\n",
       "    <tr>\n",
       "      <th>305567</th>\n",
       "      <td>a0f4c1aafeda4398a7afe66c37caf416</td>\n",
       "      <td>transaction</td>\n",
       "      <td>714</td>\n",
       "      <td>685.07</td>\n",
       "      <td>NaN</td>\n",
       "    </tr>\n",
       "    <tr>\n",
       "      <th>305925</th>\n",
       "      <td>692e3eaba5854ad5bbdd51d241647830</td>\n",
       "      <td>transaction</td>\n",
       "      <td>714</td>\n",
       "      <td>405.04</td>\n",
       "      <td>NaN</td>\n",
       "    </tr>\n",
       "    <tr>\n",
       "      <th>305927</th>\n",
       "      <td>63fab1f9826144968c8d4ff729e37ecb</td>\n",
       "      <td>transaction</td>\n",
       "      <td>714</td>\n",
       "      <td>476.33</td>\n",
       "      <td>NaN</td>\n",
       "    </tr>\n",
       "  </tbody>\n",
       "</table>\n",
       "<p>478 rows × 5 columns</p>\n",
       "</div>"
      ],
      "text/plain": [
       "                                  person        event  time  amount offer\n",
       "15540   f367a50b86d049799bbb0eb645ee834c  transaction     0  195.24   NaN\n",
       "18053   8a776d222f174aa089866b2725721eec  transaction     6  448.97   NaN\n",
       "18417   6b247ba48509456eb57b24f878f313ea  transaction    12  219.02   NaN\n",
       "18800   04f1f44632cd409cace939fa62b5fc7a  transaction    12  628.41   NaN\n",
       "19097   a12fba072dae4e3aae2e1b4b92b92aa1  transaction    12  871.51   NaN\n",
       "...                                  ...          ...   ...     ...   ...\n",
       "304828  10cbaa18d359457d899edf285d85a9b4  transaction   708  120.29   NaN\n",
       "305143  76018bc0dfd64ccc8f2e7959bf627ba7  transaction   708  290.93   NaN\n",
       "305567  a0f4c1aafeda4398a7afe66c37caf416  transaction   714  685.07   NaN\n",
       "305925  692e3eaba5854ad5bbdd51d241647830  transaction   714  405.04   NaN\n",
       "305927  63fab1f9826144968c8d4ff729e37ecb  transaction   714  476.33   NaN\n",
       "\n",
       "[478 rows x 5 columns]"
      ]
     },
     "execution_count": 51,
     "metadata": {},
     "output_type": "execute_result"
    }
   ],
   "source": [
    "# let see who make a $100 or more\n",
    "transcript[transcript.amount > 100]"
   ]
  },
  {
   "cell_type": "code",
   "execution_count": 52,
   "metadata": {
    "ExecuteTime": {
     "end_time": "2021-01-03T11:40:38.668550Z",
     "start_time": "2021-01-03T11:40:38.646108Z"
    }
   },
   "outputs": [
    {
     "data": {
      "text/plain": [
       "15.29"
      ]
     },
     "execution_count": 52,
     "metadata": {},
     "output_type": "execute_result"
    }
   ],
   "source": [
    "# look like we have some office parties, let see if we can filter out transaction outside 1.5IRQ\n",
    "irq = transcript.amount.describe().loc['75%'] - transcript.amount.describe().loc['25%']\n",
    "irq"
   ]
  },
  {
   "cell_type": "code",
   "execution_count": 53,
   "metadata": {
    "ExecuteTime": {
     "end_time": "2021-01-03T11:40:38.682169Z",
     "start_time": "2021-01-03T11:40:38.669617Z"
    }
   },
   "outputs": [
    {
     "data": {
      "text/plain": [
       "41.004999999999995"
      ]
     },
     "execution_count": 53,
     "metadata": {},
     "output_type": "execute_result"
    }
   ],
   "source": [
    "upper_limit = transcript.amount.describe().loc['75%'] + 1.5*irq\n",
    "upper_limit"
   ]
  },
  {
   "cell_type": "code",
   "execution_count": 54,
   "metadata": {
    "ExecuteTime": {
     "end_time": "2021-01-03T11:40:38.685577Z",
     "start_time": "2021-01-03T11:40:38.683223Z"
    }
   },
   "outputs": [
    {
     "data": {
      "text/plain": [
       "(306534, 5)"
      ]
     },
     "execution_count": 54,
     "metadata": {},
     "output_type": "execute_result"
    }
   ],
   "source": [
    "transcript.shape"
   ]
  },
  {
   "cell_type": "code",
   "execution_count": 55,
   "metadata": {
    "ExecuteTime": {
     "end_time": "2021-01-03T11:40:38.703901Z",
     "start_time": "2021-01-03T11:40:38.686566Z"
    }
   },
   "outputs": [
    {
     "data": {
      "text/plain": [
       "(137717, 5)"
      ]
     },
     "execution_count": 55,
     "metadata": {},
     "output_type": "execute_result"
    }
   ],
   "source": [
    "# seem we are losing more than 50% of transaction if we filter out\n",
    "# we will proceed WITHOUT filter out,\n",
    "transcript[transcript.amount < upper_limit].shape"
   ]
  },
  {
   "cell_type": "code",
   "execution_count": 56,
   "metadata": {
    "ExecuteTime": {
     "end_time": "2021-01-03T11:40:38.745306Z",
     "start_time": "2021-01-03T11:40:38.704949Z"
    }
   },
   "outputs": [
    {
     "data": {
      "text/plain": [
       "17000"
      ]
     },
     "execution_count": 56,
     "metadata": {},
     "output_type": "execute_result"
    }
   ],
   "source": [
    "# moving on to unique users\n",
    "transcript.person.nunique()"
   ]
  },
  {
   "cell_type": "code",
   "execution_count": 57,
   "metadata": {
    "ExecuteTime": {
     "end_time": "2021-01-03T11:40:38.749937Z",
     "start_time": "2021-01-03T11:40:38.746374Z"
    }
   },
   "outputs": [
    {
     "data": {
      "text/plain": [
       "array(['ae264e3637204a6fb9bb56bc8210ddfd',\n",
       "       '4d5c57ea9a6940dd891ad53e9dbe8da0',\n",
       "       '9b98b8c7a33c4b65b9aebfe6a799e6d9',\n",
       "       '0b1e1539f2cc45b7b9fa7c272da2e1d7',\n",
       "       '2298d6c36e964ae4a3e7e9706d1fb8c2',\n",
       "       'fafdcd668e3743c1bb461111dcafc2a4',\n",
       "       'f19421c1d4aa40978ebb69ca19b0e20d',\n",
       "       '2906b810c7d4411798c6938adc9daaa5'], dtype=object)"
      ]
     },
     "execution_count": 57,
     "metadata": {},
     "output_type": "execute_result"
    }
   ],
   "source": [
    "# first let tackle the promo with BOGO or discount\n",
    "discount_bogo_ids = portfolio[portfolio['offer_type'] != 'informational'].id.values\n",
    "discount_bogo_ids"
   ]
  },
  {
   "cell_type": "code",
   "execution_count": 58,
   "metadata": {
    "ExecuteTime": {
     "end_time": "2021-01-03T11:40:38.758164Z",
     "start_time": "2021-01-03T11:40:38.750966Z"
    }
   },
   "outputs": [
    {
     "data": {
      "text/plain": [
       "array(['3f207df678b143eea3cee63160fa8bed',\n",
       "       '5a8bc65990b245e5a138643cd4eb9837'], dtype=object)"
      ]
     },
     "execution_count": 58,
     "metadata": {},
     "output_type": "execute_result"
    }
   ],
   "source": [
    "# informational offer id\n",
    "info_ids = portfolio[portfolio['offer_type'] == 'informational'].id.values\n",
    "info_ids"
   ]
  },
  {
   "cell_type": "markdown",
   "metadata": {},
   "source": [
    "- We need to rate how a promotion is sucess or not, for discout or BOGO, a **success case** this should be: \n",
    "\n",
    "    `offer received >> offer viewed >> offer completed`\n",
    "- A **failed** promotion is:\n",
    "\n",
    "    `offer received >> no view on offer >> offer completed`\n",
    "basically, an offer made, customer did not know about an offer but still purchase goods to the minimum amount required by an offer. From pretext of the problem, it is not desirable since the marketing campaign had no influence on customer's purchase\n",
    "\n",
    "- Another failed case: \n",
    "\n",
    "    `offer received >> offer viewed >> offer not completed` before time expired\n",
    "- and another case: \n",
    "\n",
    "    `offer received >> no view on offer >> offer not completed` before time expired\n",
    "\n",
    "the last one represents a case that is more complicated. We do not know offer not completed because they are not aware of a promotion or the promotion is not appeal enough to get it completed.\n",
    "\n",
    "Let tackle problem by trying a simpler approach: rating a success/fail offer by looking in `viewed, completed` records. This approach is only applicable for 8 discounts or BOGO promotions. For informational ones, we could simplify by looking only to `viewed` records"
   ]
  },
  {
   "cell_type": "markdown",
   "metadata": {},
   "source": [
    "## Simple rating based on records  of viewed, completed"
   ]
  },
  {
   "cell_type": "code",
   "execution_count": 59,
   "metadata": {
    "ExecuteTime": {
     "end_time": "2021-01-03T11:40:38.763009Z",
     "start_time": "2021-01-03T11:40:38.759190Z"
    }
   },
   "outputs": [],
   "source": [
    "def rate_offer_discount_bogo(offer_id, df=None):\n",
    "    '''\n",
    "    rate a offer based on average number of viewed to number of completed \n",
    "    and total offer received.\n",
    "    \n",
    "    score = number of completed / number of received (promotion)\n",
    "    For example: \n",
    "    - if a customer received two offers, viewed two and completed two, the score is 1\n",
    "    - if a customer received two, one viewed, completed 2, score is 2/2 = 1\n",
    "    - if a customer received two, one viewed, completed 0, score is 0/2 = 0\n",
    "    \n",
    "    INPUT:\n",
    "    offer_id: id of offer of discount or BOGO\n",
    "    df: dataframe with promoting events (filter out transacion)\n",
    "    \n",
    "    OUTPUT: a dataframe with index as the users received the offer and the column name as the offer id\n",
    "    '''\n",
    "    \n",
    "    df_group = df.query(f'offer==@offer_id').groupby(\n",
    "        ['person', 'event']).count()['time'].unstack(fill_value=0)\n",
    "    df_group = df_group.apply(lambda row: \n",
    "                              row['offer completed']/row['offer received']\n",
    "                              if row['offer received']>0 else np.NaN, axis=1)\n",
    "    return df_group.rename(offer_id).to_frame()"
   ]
  },
  {
   "cell_type": "code",
   "execution_count": 60,
   "metadata": {
    "ExecuteTime": {
     "end_time": "2021-01-03T11:40:38.770197Z",
     "start_time": "2021-01-03T11:40:38.764044Z"
    }
   },
   "outputs": [],
   "source": [
    "# for informational events, it is harder to evaluate influence of seeing the offer and the follow up transaction\n",
    "# for a simple case, I will rate them based on viewed/received ratio\n",
    "def rate_offer_info(offer_id, df=None):\n",
    "    '''rate informational offer based number of viewed and received.\n",
    "    rate = number of viewed/ number of received\n",
    "    \n",
    "    For example:\n",
    "    - if all offers were viewed, the rate = 1\n",
    "    - if none of offers were viewed, teh rate = 0\n",
    "    \n",
    "    INPUT: offer_id -  id for the offer\n",
    "    OUTPUT: a dataframe with promoting events (filter out transacion)\n",
    "    '''\n",
    "    \n",
    "    df_group = df.query('offer==@offer_id').groupby(\n",
    "        ['person', 'event']).count()['time'].unstack(fill_value=0)\n",
    "    df_group = df_group.apply(lambda row: row['offer viewed'] /row['offer received']\n",
    "                         if row['offer received']>0 else np.NaN, axis=1)\n",
    "    return df_group.rename(offer_id).to_frame()"
   ]
  },
  {
   "cell_type": "code",
   "execution_count": 61,
   "metadata": {
    "ExecuteTime": {
     "end_time": "2021-01-03T11:40:41.200851Z",
     "start_time": "2021-01-03T11:40:38.771208Z"
    }
   },
   "outputs": [],
   "source": [
    "dfs = list()\n",
    "for offer_id in discount_bogo_ids:\n",
    "    dft = rate_offer_discount_bogo(offer_id, df=transcript)\n",
    "    dfs.append(dft)\n",
    "# append to a list of dataframe on the previous step\n",
    "for offer_id in info_ids:\n",
    "    dft = rate_offer_info(offer_id, df=transcript)\n",
    "    dfs.append(dft)"
   ]
  },
  {
   "cell_type": "code",
   "execution_count": 62,
   "metadata": {
    "ExecuteTime": {
     "end_time": "2021-01-03T11:40:41.204822Z",
     "start_time": "2021-01-03T11:40:41.201974Z"
    },
    "scrolled": false
   },
   "outputs": [
    {
     "name": "stdout",
     "output_type": "stream",
     "text": [
      "(6374, 1)\n",
      "(6330, 1)\n",
      "(6355, 1)\n",
      "(6374, 1)\n",
      "(6325, 1)\n",
      "(6332, 1)\n",
      "(6262, 1)\n",
      "(6285, 1)\n",
      "(6331, 1)\n",
      "(6320, 1)\n"
     ]
    }
   ],
   "source": [
    "for df in dfs:\n",
    "#     print(df.info())\n",
    "    print(df.shape)"
   ]
  },
  {
   "cell_type": "code",
   "execution_count": 63,
   "metadata": {
    "ExecuteTime": {
     "end_time": "2021-01-03T11:40:41.227973Z",
     "start_time": "2021-01-03T11:40:41.205967Z"
    }
   },
   "outputs": [
    {
     "name": "stdout",
     "output_type": "stream",
     "text": [
      "2118\n",
      "604\n",
      "127\n",
      "36\n",
      "4\n",
      "0\n",
      "0\n",
      "0\n",
      "0\n"
     ]
    }
   ],
   "source": [
    "# check set of users received all offers\n",
    "common_users = set(dfs[0].index)\n",
    "for df in dfs[1:]:\n",
    "    users = df.index\n",
    "    common_users = common_users.intersection(users)\n",
    "    print(len(common_users))\n",
    "# none of user received all offers "
   ]
  },
  {
   "cell_type": "code",
   "execution_count": 64,
   "metadata": {
    "ExecuteTime": {
     "end_time": "2021-01-03T11:40:41.327737Z",
     "start_time": "2021-01-03T11:40:41.229053Z"
    }
   },
   "outputs": [
    {
     "name": "stdout",
     "output_type": "stream",
     "text": [
      "(10586, 2)\n",
      "(13319, 3)\n",
      "(15016, 4)\n",
      "(16013, 5)\n",
      "(16549, 6)\n",
      "(16805, 7)\n",
      "(16928, 8)\n",
      "(16972, 9)\n",
      "(16994, 10)\n"
     ]
    }
   ],
   "source": [
    "# pd.concat is easier for applying, but only along columns or a along the rows which is less flexible\n",
    "df = dfs[0]\n",
    "for df_ in dfs[1:]:\n",
    "    df = df.merge(df_, on='person', how='outer')\n",
    "    print(df.shape)"
   ]
  },
  {
   "cell_type": "code",
   "execution_count": 65,
   "metadata": {
    "ExecuteTime": {
     "end_time": "2021-01-03T11:40:41.367014Z",
     "start_time": "2021-01-03T11:40:41.328838Z"
    }
   },
   "outputs": [
    {
     "data": {
      "text/plain": [
       "17000"
      ]
     },
     "execution_count": 65,
     "metadata": {},
     "output_type": "execute_result"
    }
   ],
   "source": [
    "# there is 6 person is missing between transcript and this df\n",
    "transcript.person.nunique()"
   ]
  },
  {
   "cell_type": "code",
   "execution_count": 66,
   "metadata": {
    "ExecuteTime": {
     "end_time": "2021-01-03T11:40:41.370423Z",
     "start_time": "2021-01-03T11:40:41.368074Z"
    }
   },
   "outputs": [
    {
     "data": {
      "text/plain": [
       "(16994, 10)"
      ]
     },
     "execution_count": 66,
     "metadata": {},
     "output_type": "execute_result"
    }
   ],
   "source": [
    "df.shape"
   ]
  },
  {
   "cell_type": "code",
   "execution_count": 67,
   "metadata": {
    "ExecuteTime": {
     "end_time": "2021-01-03T11:40:41.524121Z",
     "start_time": "2021-01-03T11:40:41.371395Z"
    }
   },
   "outputs": [
    {
     "data": {
      "text/plain": [
       "{'12ede229379747bd8d74ccdc20097ca3',\n",
       " '3a4874d8f0ef42b9a1b72294902afea9',\n",
       " 'ae8111e7e8cd4b60a8d35c42c1110555',\n",
       " 'c6e579c6821c41d1a7a6a9cf936e91bb',\n",
       " 'da7a7c0dcfcb41a8acc7864a53cf60fb',\n",
       " 'eb540099db834cf59001f83a4561aef3'}"
      ]
     },
     "execution_count": 67,
     "metadata": {},
     "output_type": "execute_result"
    }
   ],
   "source": [
    "# let see which ids are not have any record on transaction\n",
    "no_record_users = set(np.setdiff1d(transcript.person.to_list(), df.index.to_list()))\n",
    "no_record_users"
   ]
  },
  {
   "cell_type": "code",
   "execution_count": 68,
   "metadata": {
    "ExecuteTime": {
     "end_time": "2021-01-03T11:40:41.536176Z",
     "start_time": "2021-01-03T11:40:41.525556Z"
    }
   },
   "outputs": [
    {
     "data": {
      "text/html": [
       "<div>\n",
       "<style scoped>\n",
       "    .dataframe tbody tr th:only-of-type {\n",
       "        vertical-align: middle;\n",
       "    }\n",
       "\n",
       "    .dataframe tbody tr th {\n",
       "        vertical-align: top;\n",
       "    }\n",
       "\n",
       "    .dataframe thead th {\n",
       "        text-align: right;\n",
       "    }\n",
       "</style>\n",
       "<table border=\"1\" class=\"dataframe\">\n",
       "  <thead>\n",
       "    <tr style=\"text-align: right;\">\n",
       "      <th></th>\n",
       "      <th>gender</th>\n",
       "      <th>age</th>\n",
       "      <th>became_member_on</th>\n",
       "      <th>income</th>\n",
       "      <th>membership_age</th>\n",
       "    </tr>\n",
       "    <tr>\n",
       "      <th>id</th>\n",
       "      <th></th>\n",
       "      <th></th>\n",
       "      <th></th>\n",
       "      <th></th>\n",
       "      <th></th>\n",
       "    </tr>\n",
       "  </thead>\n",
       "  <tbody>\n",
       "    <tr>\n",
       "      <th>da7a7c0dcfcb41a8acc7864a53cf60fb</th>\n",
       "      <td>None</td>\n",
       "      <td>NaN</td>\n",
       "      <td>2017-08-01</td>\n",
       "      <td>NaN</td>\n",
       "      <td>0</td>\n",
       "    </tr>\n",
       "    <tr>\n",
       "      <th>12ede229379747bd8d74ccdc20097ca3</th>\n",
       "      <td>M</td>\n",
       "      <td>91.0</td>\n",
       "      <td>2015-10-05</td>\n",
       "      <td>70000.0</td>\n",
       "      <td>2</td>\n",
       "    </tr>\n",
       "    <tr>\n",
       "      <th>3a4874d8f0ef42b9a1b72294902afea9</th>\n",
       "      <td>F</td>\n",
       "      <td>55.0</td>\n",
       "      <td>2016-08-16</td>\n",
       "      <td>88000.0</td>\n",
       "      <td>1</td>\n",
       "    </tr>\n",
       "    <tr>\n",
       "      <th>c6e579c6821c41d1a7a6a9cf936e91bb</th>\n",
       "      <td>F</td>\n",
       "      <td>72.0</td>\n",
       "      <td>2017-10-14</td>\n",
       "      <td>35000.0</td>\n",
       "      <td>0</td>\n",
       "    </tr>\n",
       "    <tr>\n",
       "      <th>eb540099db834cf59001f83a4561aef3</th>\n",
       "      <td>F</td>\n",
       "      <td>66.0</td>\n",
       "      <td>2017-09-29</td>\n",
       "      <td>34000.0</td>\n",
       "      <td>0</td>\n",
       "    </tr>\n",
       "    <tr>\n",
       "      <th>ae8111e7e8cd4b60a8d35c42c1110555</th>\n",
       "      <td>F</td>\n",
       "      <td>54.0</td>\n",
       "      <td>2017-01-06</td>\n",
       "      <td>72000.0</td>\n",
       "      <td>1</td>\n",
       "    </tr>\n",
       "  </tbody>\n",
       "</table>\n",
       "</div>"
      ],
      "text/plain": [
       "                                 gender   age became_member_on   income  \\\n",
       "id                                                                        \n",
       "da7a7c0dcfcb41a8acc7864a53cf60fb   None   NaN       2017-08-01      NaN   \n",
       "12ede229379747bd8d74ccdc20097ca3      M  91.0       2015-10-05  70000.0   \n",
       "3a4874d8f0ef42b9a1b72294902afea9      F  55.0       2016-08-16  88000.0   \n",
       "c6e579c6821c41d1a7a6a9cf936e91bb      F  72.0       2017-10-14  35000.0   \n",
       "eb540099db834cf59001f83a4561aef3      F  66.0       2017-09-29  34000.0   \n",
       "ae8111e7e8cd4b60a8d35c42c1110555      F  54.0       2017-01-06  72000.0   \n",
       "\n",
       "                                  membership_age  \n",
       "id                                                \n",
       "da7a7c0dcfcb41a8acc7864a53cf60fb               0  \n",
       "12ede229379747bd8d74ccdc20097ca3               2  \n",
       "3a4874d8f0ef42b9a1b72294902afea9               1  \n",
       "c6e579c6821c41d1a7a6a9cf936e91bb               0  \n",
       "eb540099db834cf59001f83a4561aef3               0  \n",
       "ae8111e7e8cd4b60a8d35c42c1110555               1  "
      ]
     },
     "execution_count": 68,
     "metadata": {},
     "output_type": "execute_result"
    }
   ],
   "source": [
    "# look normal, I want to make sure the data is still there\n",
    "profile.set_index('id').loc[no_record_users]"
   ]
  },
  {
   "cell_type": "markdown",
   "metadata": {
    "ExecuteTime": {
     "end_time": "2020-12-28T09:48:54.343390Z",
     "start_time": "2020-12-28T09:48:54.341683Z"
    }
   },
   "source": [
    "### Apply FunkSVD"
   ]
  },
  {
   "cell_type": "code",
   "execution_count": 69,
   "metadata": {
    "ExecuteTime": {
     "end_time": "2021-01-03T11:40:41.541376Z",
     "start_time": "2021-01-03T11:40:41.537240Z"
    }
   },
   "outputs": [
    {
     "data": {
      "text/plain": [
       "0.6275862068965518"
      ]
     },
     "execution_count": 69,
     "metadata": {},
     "output_type": "execute_result"
    }
   ],
   "source": [
    "# we get about 2/3 matrix is null values\n",
    "sum(df.isnull().sum())/(df.shape[0]*df.shape[1])"
   ]
  },
  {
   "cell_type": "code",
   "execution_count": 70,
   "metadata": {
    "ExecuteTime": {
     "end_time": "2021-01-03T11:40:41.549646Z",
     "start_time": "2021-01-03T11:40:41.542382Z"
    }
   },
   "outputs": [
    {
     "data": {
      "text/plain": [
       "9     172\n",
       "4     442\n",
       "8    1599\n",
       "5    3180\n",
       "7    5038\n",
       "6    6563\n",
       "dtype: int64"
      ]
     },
     "execution_count": 70,
     "metadata": {},
     "output_type": "execute_result"
    }
   ],
   "source": [
    "# is any user with no promotional available?\n",
    "# user will get at least 4 offers, and maximum 9 offers\n",
    "df.isnull().sum(axis=1).sort_values(ascending=False).value_counts().sort_values()"
   ]
  },
  {
   "cell_type": "code",
   "execution_count": 71,
   "metadata": {
    "ExecuteTime": {
     "end_time": "2021-01-03T11:40:41.557411Z",
     "start_time": "2021-01-03T11:40:41.550813Z"
    }
   },
   "outputs": [],
   "source": [
    "# adopted from Udacity's exercise\n",
    "def FunkSVD(user_offer_mat, latent_features=10, learning_rate=0.0001, iters=100):\n",
    "    '''\n",
    "    This function performs matrix factorization using a basic form of FunkSVD with no regularization\n",
    "    \n",
    "    INPUT:\n",
    "    ratings_mat - (numpy array) a matrix with users as rows, promotion_id as columns, and ratings as values\n",
    "    latent_features - (int) the number of latent features used\n",
    "    learning_rate - (float) the learning rate \n",
    "    iters - (int) the number of iterations\n",
    "    \n",
    "    OUTPUT:\n",
    "    user_mat - (numpy array) a user by latent feature matrix\n",
    "    movie_mat - (numpy array) a latent feature by promotion_id matrix\n",
    "    '''\n",
    "    \n",
    "    # Set up useful values to be used through the rest of the function\n",
    "    n_users = user_offer_mat.shape[0]\n",
    "    n_offers = user_offer_mat.shape[1]\n",
    "    num_ratings = np.count_nonzero(~np.isnan(user_offer_mat))\n",
    "    \n",
    "    # initialize the user and promotion matrices with random values\n",
    "    user_mat = np.random.rand(n_users, latent_features)\n",
    "    offer_mat = np.random.rand(latent_features, n_offers)\n",
    "    \n",
    "    # initialize sse at 0 for first iteration\n",
    "    sse_accum = 0\n",
    "    \n",
    "    # header for running results\n",
    "    print(\"Optimizaiton Statistics\")\n",
    "    print(\"Iterations | Mean Squared Error \")\n",
    "    \n",
    "    # for each iteration\n",
    "    for iteration in range(iters):\n",
    "\n",
    "        # update our sse\n",
    "        old_sse = sse_accum\n",
    "        sse_accum = 0\n",
    "        \n",
    "        # For each user-promotion pair\n",
    "        for i in range(n_users):\n",
    "            for j in range(n_offers):\n",
    "                \n",
    "                # if the rating exists\n",
    "                if user_offer_mat[i, j] > 0:\n",
    "                    \n",
    "                    # compute the error as the actual minus the dot product of the user and promotion latent features\n",
    "                    diff = user_offer_mat[i, j] - np.dot(user_mat[i, :], offer_mat[:, j])\n",
    "                    \n",
    "                    # Keep track of the sum of squared errors for the matrix\n",
    "                    sse_accum += diff**2\n",
    "                    \n",
    "                    # update the values in each matrix in the direction of the gradient\n",
    "                    for k in range(latent_features):\n",
    "                        user_mat[i, k] += learning_rate * (2*diff*offer_mat[k, j])\n",
    "                        offer_mat[k, j] += learning_rate * (2*diff*user_mat[i, k])\n",
    "\n",
    "        # print results for iteration\n",
    "        print(\"%d \\t\\t %f\" % (iteration+1, sse_accum / num_ratings))\n",
    "        \n",
    "    return user_mat, offer_mat "
   ]
  },
  {
   "cell_type": "code",
   "execution_count": 72,
   "metadata": {
    "ExecuteTime": {
     "end_time": "2021-01-03T11:40:51.921289Z",
     "start_time": "2021-01-03T11:40:41.558424Z"
    }
   },
   "outputs": [
    {
     "name": "stdout",
     "output_type": "stream",
     "text": [
      "Optimizaiton Statistics\n",
      "Iterations | Mean Squared Error \n",
      "1 \t\t 0.045295\n",
      "2 \t\t 0.028385\n",
      "3 \t\t 0.027898\n",
      "4 \t\t 0.027442\n",
      "5 \t\t 0.026997\n",
      "6 \t\t 0.026562\n",
      "7 \t\t 0.026137\n",
      "8 \t\t 0.025723\n",
      "9 \t\t 0.025317\n",
      "10 \t\t 0.024922\n"
     ]
    }
   ],
   "source": [
    "# this is sparse matrix, let see how FunkSVD algorithm performs on this set\n",
    "df_ = df.to_numpy()\n",
    "user_mat, offer_mat = FunkSVD(df_, latent_features=10, learning_rate=0.005, iters=10)"
   ]
  },
  {
   "cell_type": "markdown",
   "metadata": {},
   "source": [
    "- small error, but is this a good approximation?"
   ]
  },
  {
   "cell_type": "code",
   "execution_count": 73,
   "metadata": {
    "ExecuteTime": {
     "end_time": "2021-01-03T11:40:51.926899Z",
     "start_time": "2021-01-03T11:40:51.922391Z"
    }
   },
   "outputs": [],
   "source": [
    "# reconstruct user-item matrix based on decomposed matrices\n",
    "pred_mat = np.dot(user_mat, offer_mat)"
   ]
  },
  {
   "cell_type": "code",
   "execution_count": 74,
   "metadata": {
    "ExecuteTime": {
     "end_time": "2021-01-03T11:40:51.942164Z",
     "start_time": "2021-01-03T11:40:51.928248Z"
    }
   },
   "outputs": [
    {
     "data": {
      "text/plain": [
       "person\n",
       "0020c2b971eb4e9188eac86d93036a77    0.750000\n",
       "004c5799adbf42868b9cff0396190900    1.000000\n",
       "005500a7188546ff8a767329a2f7c76a    0.333333\n",
       "0063def0f9c14bc4805322a488839b32    0.200000\n",
       "00715b6e55c3431cb56ff7307eb19675    0.800000\n",
       "                                      ...   \n",
       "cb8291d29fcd482b8793aa18c970a71b    1.000000\n",
       "d1f3cc62def540c8951561f6da22e88a    1.000000\n",
       "e24a898ab87b4bbd96c6b48f268b56bb    1.000000\n",
       "fa23afe7a35b4cc3b241029d98452c24    1.000000\n",
       "fd10d3f58b1b4ecb914ed677e06a4e51    0.333333\n",
       "Length: 16994, dtype: float64"
      ]
     },
     "execution_count": 74,
     "metadata": {},
     "output_type": "execute_result"
    }
   ],
   "source": [
    "# check average value of each columns\n",
    "df.mean(axis=1)"
   ]
  },
  {
   "cell_type": "code",
   "execution_count": 75,
   "metadata": {
    "ExecuteTime": {
     "end_time": "2021-01-03T11:40:51.946922Z",
     "start_time": "2021-01-03T11:40:51.943359Z"
    }
   },
   "outputs": [
    {
     "data": {
      "text/plain": [
       "array([1.03344147, 1.20005422, 1.09112632, ..., 0.93396658, 0.62909315,\n",
       "       0.81167896])"
      ]
     },
     "execution_count": 75,
     "metadata": {},
     "output_type": "execute_result"
    }
   ],
   "source": [
    "# a quick check on the mean value is not promissing, we are looking value between -1 to 1\n",
    "pred_mat.mean(axis=1)"
   ]
  },
  {
   "cell_type": "markdown",
   "metadata": {},
   "source": [
    "- this approximation using FunkSVD seems NOT working well with our dataset"
   ]
  },
  {
   "cell_type": "markdown",
   "metadata": {},
   "source": [
    "### How FunkSVD with a denser matrix?"
   ]
  },
  {
   "cell_type": "code",
   "execution_count": 76,
   "metadata": {
    "ExecuteTime": {
     "end_time": "2021-01-03T11:40:57.268093Z",
     "start_time": "2021-01-03T11:40:51.948062Z"
    }
   },
   "outputs": [
    {
     "name": "stdout",
     "output_type": "stream",
     "text": [
      "Optimizaiton Statistics\n",
      "Iterations | Mean Squared Error \n",
      "1 \t\t 0.143466\n",
      "2 \t\t 0.020324\n",
      "3 \t\t 0.014948\n",
      "4 \t\t 0.013853\n",
      "5 \t\t 0.013511\n",
      "6 \t\t 0.013320\n",
      "7 \t\t 0.013163\n",
      "8 \t\t 0.013015\n",
      "9 \t\t 0.012872\n",
      "10 \t\t 0.012731\n"
     ]
    }
   ],
   "source": [
    "# select matrix have 5 or less cells as null values\n",
    "df2 = df[df.isnull().sum(axis=1) <= 5]\n",
    "df_ = df2.to_numpy()\n",
    "user_mat, offer_mat = FunkSVD(df_, latent_features=20, learning_rate=0.005, iters=10)"
   ]
  },
  {
   "cell_type": "code",
   "execution_count": 77,
   "metadata": {
    "ExecuteTime": {
     "end_time": "2021-01-03T11:40:57.278157Z",
     "start_time": "2021-01-03T11:40:57.269210Z"
    }
   },
   "outputs": [],
   "source": [
    "pred_mat = np.dot(user_mat, offer_mat)"
   ]
  },
  {
   "cell_type": "code",
   "execution_count": 78,
   "metadata": {
    "ExecuteTime": {
     "end_time": "2021-01-03T11:40:57.290867Z",
     "start_time": "2021-01-03T11:40:57.279301Z"
    }
   },
   "outputs": [
    {
     "data": {
      "text/plain": [
       "array([0.97707125, 0.8989514 , 0.85749858, ..., 1.05171301, 1.00134152,\n",
       "       1.09338039])"
      ]
     },
     "execution_count": 78,
     "metadata": {},
     "output_type": "execute_result"
    }
   ],
   "source": [
    "# still. something is not working right\n",
    "pred_mat.mean(axis=1)"
   ]
  },
  {
   "cell_type": "code",
   "execution_count": 79,
   "metadata": {
    "ExecuteTime": {
     "end_time": "2021-01-03T11:40:57.295776Z",
     "start_time": "2021-01-03T11:40:57.291999Z"
    }
   },
   "outputs": [
    {
     "data": {
      "text/plain": [
       "array([1.00329422, 0.95682079, 0.89368832, ..., 1.09547673, 1.04751679,\n",
       "       1.15353264])"
      ]
     },
     "execution_count": 79,
     "metadata": {},
     "output_type": "execute_result"
    }
   ],
   "source": [
    "pred_mat.max(axis=1)"
   ]
  },
  {
   "cell_type": "code",
   "execution_count": 80,
   "metadata": {
    "ExecuteTime": {
     "end_time": "2021-01-03T11:40:57.299831Z",
     "start_time": "2021-01-03T11:40:57.297072Z"
    }
   },
   "outputs": [],
   "source": [
    "diff_sqr  = np.nansum((pred_mat - df_)**2)"
   ]
  },
  {
   "cell_type": "code",
   "execution_count": 81,
   "metadata": {
    "ExecuteTime": {
     "end_time": "2021-01-03T11:40:57.306342Z",
     "start_time": "2021-01-03T11:40:57.301138Z"
    }
   },
   "outputs": [
    {
     "data": {
      "text/plain": [
       "0.44808685255667013"
      ]
     },
     "execution_count": 81,
     "metadata": {},
     "output_type": "execute_result"
    }
   ],
   "source": [
    "# mean squared root error. It is almost a guess work. \n",
    "np.sqrt(diff_sqr/(pred_mat.shape[0]*pred_mat.shape[1]))"
   ]
  },
  {
   "cell_type": "markdown",
   "metadata": {},
   "source": [
    "### Surprise SVD "
   ]
  },
  {
   "cell_type": "code",
   "execution_count": 82,
   "metadata": {
    "ExecuteTime": {
     "end_time": "2021-01-03T11:40:57.489756Z",
     "start_time": "2021-01-03T11:40:57.307778Z"
    }
   },
   "outputs": [],
   "source": [
    "# let try out another FunkSVD\n",
    "# https://surprise.readthedocs.io/en/stable/getting_started.html\n",
    "from surprise import SVD\n",
    "from surprise import Reader\n",
    "from surprise import Dataset\n",
    "from surprise.model_selection import cross_validate\n",
    "from surprise.model_selection import KFold\n",
    "from surprise import accuracy"
   ]
  },
  {
   "cell_type": "code",
   "execution_count": 83,
   "metadata": {
    "ExecuteTime": {
     "end_time": "2021-01-03T11:40:57.493156Z",
     "start_time": "2021-01-03T11:40:57.491027Z"
    }
   },
   "outputs": [],
   "source": [
    "reader = Reader(rating_scale=(0, 1))"
   ]
  },
  {
   "cell_type": "code",
   "execution_count": 84,
   "metadata": {
    "ExecuteTime": {
     "end_time": "2021-01-03T11:40:57.522899Z",
     "start_time": "2021-01-03T11:40:57.494304Z"
    }
   },
   "outputs": [
    {
     "name": "stdout",
     "output_type": "stream",
     "text": [
      "(169940, 3)\n"
     ]
    },
    {
     "data": {
      "text/html": [
       "<div>\n",
       "<style scoped>\n",
       "    .dataframe tbody tr th:only-of-type {\n",
       "        vertical-align: middle;\n",
       "    }\n",
       "\n",
       "    .dataframe tbody tr th {\n",
       "        vertical-align: top;\n",
       "    }\n",
       "\n",
       "    .dataframe thead th {\n",
       "        text-align: right;\n",
       "    }\n",
       "</style>\n",
       "<table border=\"1\" class=\"dataframe\">\n",
       "  <thead>\n",
       "    <tr style=\"text-align: right;\">\n",
       "      <th></th>\n",
       "      <th>user</th>\n",
       "      <th>offer</th>\n",
       "      <th>rating</th>\n",
       "    </tr>\n",
       "  </thead>\n",
       "  <tbody>\n",
       "    <tr>\n",
       "      <th>0</th>\n",
       "      <td>0020c2b971eb4e9188eac86d93036a77</td>\n",
       "      <td>ae264e3637204a6fb9bb56bc8210ddfd</td>\n",
       "      <td>0.0</td>\n",
       "    </tr>\n",
       "    <tr>\n",
       "      <th>1</th>\n",
       "      <td>004c5799adbf42868b9cff0396190900</td>\n",
       "      <td>ae264e3637204a6fb9bb56bc8210ddfd</td>\n",
       "      <td>1.0</td>\n",
       "    </tr>\n",
       "    <tr>\n",
       "      <th>2</th>\n",
       "      <td>005500a7188546ff8a767329a2f7c76a</td>\n",
       "      <td>ae264e3637204a6fb9bb56bc8210ddfd</td>\n",
       "      <td>0.0</td>\n",
       "    </tr>\n",
       "    <tr>\n",
       "      <th>3</th>\n",
       "      <td>0063def0f9c14bc4805322a488839b32</td>\n",
       "      <td>ae264e3637204a6fb9bb56bc8210ddfd</td>\n",
       "      <td>0.0</td>\n",
       "    </tr>\n",
       "    <tr>\n",
       "      <th>4</th>\n",
       "      <td>00715b6e55c3431cb56ff7307eb19675</td>\n",
       "      <td>ae264e3637204a6fb9bb56bc8210ddfd</td>\n",
       "      <td>1.0</td>\n",
       "    </tr>\n",
       "  </tbody>\n",
       "</table>\n",
       "</div>"
      ],
      "text/plain": [
       "                               user                             offer  rating\n",
       "0  0020c2b971eb4e9188eac86d93036a77  ae264e3637204a6fb9bb56bc8210ddfd     0.0\n",
       "1  004c5799adbf42868b9cff0396190900  ae264e3637204a6fb9bb56bc8210ddfd     1.0\n",
       "2  005500a7188546ff8a767329a2f7c76a  ae264e3637204a6fb9bb56bc8210ddfd     0.0\n",
       "3  0063def0f9c14bc4805322a488839b32  ae264e3637204a6fb9bb56bc8210ddfd     0.0\n",
       "4  00715b6e55c3431cb56ff7307eb19675  ae264e3637204a6fb9bb56bc8210ddfd     1.0"
      ]
     },
     "execution_count": 84,
     "metadata": {},
     "output_type": "execute_result"
    }
   ],
   "source": [
    "# transfer from wide table to long table\n",
    "df3 = pd.melt(df.reset_index(), id_vars=['person'], value_name='rating')\n",
    "df3.columns  = ['user', 'offer', 'rating']\n",
    "print(df3.shape)\n",
    "df3.head()"
   ]
  },
  {
   "cell_type": "code",
   "execution_count": 85,
   "metadata": {
    "ExecuteTime": {
     "end_time": "2021-01-03T11:40:57.660109Z",
     "start_time": "2021-01-03T11:40:57.524156Z"
    }
   },
   "outputs": [],
   "source": [
    "# load data from dataframe\n",
    "data = Dataset.load_from_df(df3[['user', 'offer', 'rating']], reader)"
   ]
  },
  {
   "cell_type": "code",
   "execution_count": 86,
   "metadata": {
    "ExecuteTime": {
     "end_time": "2021-01-03T11:40:57.663496Z",
     "start_time": "2021-01-03T11:40:57.661396Z"
    }
   },
   "outputs": [],
   "source": [
    "kf = KFold(n_splits=3)\n",
    "algo = SVD()"
   ]
  },
  {
   "cell_type": "code",
   "execution_count": 87,
   "metadata": {
    "ExecuteTime": {
     "end_time": "2021-01-03T11:41:13.440318Z",
     "start_time": "2021-01-03T11:40:57.664635Z"
    }
   },
   "outputs": [
    {
     "name": "stdout",
     "output_type": "stream",
     "text": [
      "RMSE: nan\n",
      "RMSE: nan\n",
      "RMSE: nan\n"
     ]
    }
   ],
   "source": [
    "for trainset, testset in kf.split(data):\n",
    "\n",
    "    # train and test algorithm.\n",
    "    algo.fit(trainset)\n",
    "    predictions = algo.test(testset)\n",
    "\n",
    "    # Compute and print Root Mean Squared Error\n",
    "    accuracy.rmse(predictions, verbose=True)"
   ]
  },
  {
   "cell_type": "markdown",
   "metadata": {},
   "source": [
    "- it appeared that SVD algorithm is not converged. It is consistent with the RMSE error of 0.5 as above for value between 0 and zero"
   ]
  },
  {
   "cell_type": "markdown",
   "metadata": {},
   "source": [
    "# Deeper dive into `Transcript`"
   ]
  },
  {
   "cell_type": "markdown",
   "metadata": {},
   "source": [
    "## Rate transaction by completion"
   ]
  },
  {
   "cell_type": "code",
   "execution_count": 88,
   "metadata": {
    "ExecuteTime": {
     "end_time": "2021-01-03T11:41:13.448403Z",
     "start_time": "2021-01-03T11:41:13.441632Z"
    }
   },
   "outputs": [
    {
     "data": {
      "text/html": [
       "<div>\n",
       "<style scoped>\n",
       "    .dataframe tbody tr th:only-of-type {\n",
       "        vertical-align: middle;\n",
       "    }\n",
       "\n",
       "    .dataframe tbody tr th {\n",
       "        vertical-align: top;\n",
       "    }\n",
       "\n",
       "    .dataframe thead th {\n",
       "        text-align: right;\n",
       "    }\n",
       "</style>\n",
       "<table border=\"1\" class=\"dataframe\">\n",
       "  <thead>\n",
       "    <tr style=\"text-align: right;\">\n",
       "      <th></th>\n",
       "      <th>person</th>\n",
       "      <th>event</th>\n",
       "      <th>time</th>\n",
       "      <th>amount</th>\n",
       "      <th>offer</th>\n",
       "    </tr>\n",
       "  </thead>\n",
       "  <tbody>\n",
       "    <tr>\n",
       "      <th>0</th>\n",
       "      <td>78afa995795e4d85b5d9ceeca43f5fef</td>\n",
       "      <td>offer received</td>\n",
       "      <td>0</td>\n",
       "      <td>NaN</td>\n",
       "      <td>9b98b8c7a33c4b65b9aebfe6a799e6d9</td>\n",
       "    </tr>\n",
       "    <tr>\n",
       "      <th>1</th>\n",
       "      <td>a03223e636434f42ac4c3df47e8bac43</td>\n",
       "      <td>offer received</td>\n",
       "      <td>0</td>\n",
       "      <td>NaN</td>\n",
       "      <td>0b1e1539f2cc45b7b9fa7c272da2e1d7</td>\n",
       "    </tr>\n",
       "    <tr>\n",
       "      <th>2</th>\n",
       "      <td>e2127556f4f64592b11af22de27a7932</td>\n",
       "      <td>offer received</td>\n",
       "      <td>0</td>\n",
       "      <td>NaN</td>\n",
       "      <td>2906b810c7d4411798c6938adc9daaa5</td>\n",
       "    </tr>\n",
       "    <tr>\n",
       "      <th>3</th>\n",
       "      <td>8ec6ce2a7e7949b1bf142def7d0e0586</td>\n",
       "      <td>offer received</td>\n",
       "      <td>0</td>\n",
       "      <td>NaN</td>\n",
       "      <td>fafdcd668e3743c1bb461111dcafc2a4</td>\n",
       "    </tr>\n",
       "    <tr>\n",
       "      <th>4</th>\n",
       "      <td>68617ca6246f4fbc85e91a2a49552598</td>\n",
       "      <td>offer received</td>\n",
       "      <td>0</td>\n",
       "      <td>NaN</td>\n",
       "      <td>4d5c57ea9a6940dd891ad53e9dbe8da0</td>\n",
       "    </tr>\n",
       "  </tbody>\n",
       "</table>\n",
       "</div>"
      ],
      "text/plain": [
       "                             person           event  time  amount  \\\n",
       "0  78afa995795e4d85b5d9ceeca43f5fef  offer received     0     NaN   \n",
       "1  a03223e636434f42ac4c3df47e8bac43  offer received     0     NaN   \n",
       "2  e2127556f4f64592b11af22de27a7932  offer received     0     NaN   \n",
       "3  8ec6ce2a7e7949b1bf142def7d0e0586  offer received     0     NaN   \n",
       "4  68617ca6246f4fbc85e91a2a49552598  offer received     0     NaN   \n",
       "\n",
       "                              offer  \n",
       "0  9b98b8c7a33c4b65b9aebfe6a799e6d9  \n",
       "1  0b1e1539f2cc45b7b9fa7c272da2e1d7  \n",
       "2  2906b810c7d4411798c6938adc9daaa5  \n",
       "3  fafdcd668e3743c1bb461111dcafc2a4  \n",
       "4  4d5c57ea9a6940dd891ad53e9dbe8da0  "
      ]
     },
     "execution_count": 88,
     "metadata": {},
     "output_type": "execute_result"
    }
   ],
   "source": [
    "# let see transaction records again\n",
    "transcript.head()"
   ]
  },
  {
   "cell_type": "code",
   "execution_count": 89,
   "metadata": {
    "ExecuteTime": {
     "end_time": "2021-01-03T11:41:13.535368Z",
     "start_time": "2021-01-03T11:41:13.449516Z"
    }
   },
   "outputs": [
    {
     "data": {
      "text/html": [
       "<div>\n",
       "<style scoped>\n",
       "    .dataframe tbody tr th:only-of-type {\n",
       "        vertical-align: middle;\n",
       "    }\n",
       "\n",
       "    .dataframe tbody tr th {\n",
       "        vertical-align: top;\n",
       "    }\n",
       "\n",
       "    .dataframe thead th {\n",
       "        text-align: right;\n",
       "    }\n",
       "</style>\n",
       "<table border=\"1\" class=\"dataframe\">\n",
       "  <thead>\n",
       "    <tr style=\"text-align: right;\">\n",
       "      <th>event</th>\n",
       "      <th>offer completed</th>\n",
       "      <th>offer received</th>\n",
       "      <th>offer viewed</th>\n",
       "    </tr>\n",
       "    <tr>\n",
       "      <th>offer</th>\n",
       "      <th></th>\n",
       "      <th></th>\n",
       "      <th></th>\n",
       "    </tr>\n",
       "  </thead>\n",
       "  <tbody>\n",
       "    <tr>\n",
       "      <th>0b1e1539f2cc45b7b9fa7c272da2e1d7</th>\n",
       "      <td>3420.0</td>\n",
       "      <td>7668.0</td>\n",
       "      <td>2663.0</td>\n",
       "    </tr>\n",
       "    <tr>\n",
       "      <th>2298d6c36e964ae4a3e7e9706d1fb8c2</th>\n",
       "      <td>5156.0</td>\n",
       "      <td>7646.0</td>\n",
       "      <td>7337.0</td>\n",
       "    </tr>\n",
       "    <tr>\n",
       "      <th>2906b810c7d4411798c6938adc9daaa5</th>\n",
       "      <td>4017.0</td>\n",
       "      <td>7632.0</td>\n",
       "      <td>4118.0</td>\n",
       "    </tr>\n",
       "    <tr>\n",
       "      <th>3f207df678b143eea3cee63160fa8bed</th>\n",
       "      <td>NaN</td>\n",
       "      <td>7617.0</td>\n",
       "      <td>4144.0</td>\n",
       "    </tr>\n",
       "    <tr>\n",
       "      <th>4d5c57ea9a6940dd891ad53e9dbe8da0</th>\n",
       "      <td>3331.0</td>\n",
       "      <td>7593.0</td>\n",
       "      <td>7298.0</td>\n",
       "    </tr>\n",
       "    <tr>\n",
       "      <th>5a8bc65990b245e5a138643cd4eb9837</th>\n",
       "      <td>NaN</td>\n",
       "      <td>7618.0</td>\n",
       "      <td>6687.0</td>\n",
       "    </tr>\n",
       "    <tr>\n",
       "      <th>9b98b8c7a33c4b65b9aebfe6a799e6d9</th>\n",
       "      <td>4354.0</td>\n",
       "      <td>7677.0</td>\n",
       "      <td>4171.0</td>\n",
       "    </tr>\n",
       "    <tr>\n",
       "      <th>ae264e3637204a6fb9bb56bc8210ddfd</th>\n",
       "      <td>3688.0</td>\n",
       "      <td>7658.0</td>\n",
       "      <td>6716.0</td>\n",
       "    </tr>\n",
       "    <tr>\n",
       "      <th>f19421c1d4aa40978ebb69ca19b0e20d</th>\n",
       "      <td>4296.0</td>\n",
       "      <td>7571.0</td>\n",
       "      <td>7264.0</td>\n",
       "    </tr>\n",
       "    <tr>\n",
       "      <th>fafdcd668e3743c1bb461111dcafc2a4</th>\n",
       "      <td>5317.0</td>\n",
       "      <td>7597.0</td>\n",
       "      <td>7327.0</td>\n",
       "    </tr>\n",
       "  </tbody>\n",
       "</table>\n",
       "</div>"
      ],
      "text/plain": [
       "event                             offer completed  offer received  \\\n",
       "offer                                                               \n",
       "0b1e1539f2cc45b7b9fa7c272da2e1d7           3420.0          7668.0   \n",
       "2298d6c36e964ae4a3e7e9706d1fb8c2           5156.0          7646.0   \n",
       "2906b810c7d4411798c6938adc9daaa5           4017.0          7632.0   \n",
       "3f207df678b143eea3cee63160fa8bed              NaN          7617.0   \n",
       "4d5c57ea9a6940dd891ad53e9dbe8da0           3331.0          7593.0   \n",
       "5a8bc65990b245e5a138643cd4eb9837              NaN          7618.0   \n",
       "9b98b8c7a33c4b65b9aebfe6a799e6d9           4354.0          7677.0   \n",
       "ae264e3637204a6fb9bb56bc8210ddfd           3688.0          7658.0   \n",
       "f19421c1d4aa40978ebb69ca19b0e20d           4296.0          7571.0   \n",
       "fafdcd668e3743c1bb461111dcafc2a4           5317.0          7597.0   \n",
       "\n",
       "event                             offer viewed  \n",
       "offer                                           \n",
       "0b1e1539f2cc45b7b9fa7c272da2e1d7        2663.0  \n",
       "2298d6c36e964ae4a3e7e9706d1fb8c2        7337.0  \n",
       "2906b810c7d4411798c6938adc9daaa5        4118.0  \n",
       "3f207df678b143eea3cee63160fa8bed        4144.0  \n",
       "4d5c57ea9a6940dd891ad53e9dbe8da0        7298.0  \n",
       "5a8bc65990b245e5a138643cd4eb9837        6687.0  \n",
       "9b98b8c7a33c4b65b9aebfe6a799e6d9        4171.0  \n",
       "ae264e3637204a6fb9bb56bc8210ddfd        6716.0  \n",
       "f19421c1d4aa40978ebb69ca19b0e20d        7264.0  \n",
       "fafdcd668e3743c1bb461111dcafc2a4        7327.0  "
      ]
     },
     "execution_count": 89,
     "metadata": {},
     "output_type": "execute_result"
    }
   ],
   "source": [
    "# and make a wide table by counting records\n",
    "transcript.groupby(['offer', 'event']).count()['person'].unstack()"
   ]
  },
  {
   "cell_type": "code",
   "execution_count": 90,
   "metadata": {
    "ExecuteTime": {
     "end_time": "2021-01-03T11:41:13.614709Z",
     "start_time": "2021-01-03T11:41:13.536593Z"
    }
   },
   "outputs": [],
   "source": [
    "df_offer = transcript.groupby(['offer', 'event']).count()['person'].unstack()\n",
    "df_offer.index.set_names(names='id', inplace=True)"
   ]
  },
  {
   "cell_type": "code",
   "execution_count": 91,
   "metadata": {
    "ExecuteTime": {
     "end_time": "2021-01-03T11:41:13.630858Z",
     "start_time": "2021-01-03T11:41:13.615967Z"
    }
   },
   "outputs": [
    {
     "data": {
      "text/html": [
       "<div>\n",
       "<style scoped>\n",
       "    .dataframe tbody tr th:only-of-type {\n",
       "        vertical-align: middle;\n",
       "    }\n",
       "\n",
       "    .dataframe tbody tr th {\n",
       "        vertical-align: top;\n",
       "    }\n",
       "\n",
       "    .dataframe thead th {\n",
       "        text-align: right;\n",
       "    }\n",
       "</style>\n",
       "<table border=\"1\" class=\"dataframe\">\n",
       "  <thead>\n",
       "    <tr style=\"text-align: right;\">\n",
       "      <th>event</th>\n",
       "      <th>offer completed</th>\n",
       "      <th>offer received</th>\n",
       "      <th>offer viewed</th>\n",
       "      <th>view/receive</th>\n",
       "      <th>comp/receive</th>\n",
       "      <th>comp/view</th>\n",
       "    </tr>\n",
       "    <tr>\n",
       "      <th>id</th>\n",
       "      <th></th>\n",
       "      <th></th>\n",
       "      <th></th>\n",
       "      <th></th>\n",
       "      <th></th>\n",
       "      <th></th>\n",
       "    </tr>\n",
       "  </thead>\n",
       "  <tbody>\n",
       "    <tr>\n",
       "      <th>0b1e1539f2cc45b7b9fa7c272da2e1d7</th>\n",
       "      <td>3420.0</td>\n",
       "      <td>7668.0</td>\n",
       "      <td>2663.0</td>\n",
       "      <td>0.347287</td>\n",
       "      <td>0.446009</td>\n",
       "      <td>1.284266</td>\n",
       "    </tr>\n",
       "    <tr>\n",
       "      <th>2298d6c36e964ae4a3e7e9706d1fb8c2</th>\n",
       "      <td>5156.0</td>\n",
       "      <td>7646.0</td>\n",
       "      <td>7337.0</td>\n",
       "      <td>0.959587</td>\n",
       "      <td>0.674340</td>\n",
       "      <td>0.702740</td>\n",
       "    </tr>\n",
       "    <tr>\n",
       "      <th>2906b810c7d4411798c6938adc9daaa5</th>\n",
       "      <td>4017.0</td>\n",
       "      <td>7632.0</td>\n",
       "      <td>4118.0</td>\n",
       "      <td>0.539570</td>\n",
       "      <td>0.526336</td>\n",
       "      <td>0.975474</td>\n",
       "    </tr>\n",
       "    <tr>\n",
       "      <th>3f207df678b143eea3cee63160fa8bed</th>\n",
       "      <td>NaN</td>\n",
       "      <td>7617.0</td>\n",
       "      <td>4144.0</td>\n",
       "      <td>0.544046</td>\n",
       "      <td>NaN</td>\n",
       "      <td>NaN</td>\n",
       "    </tr>\n",
       "    <tr>\n",
       "      <th>4d5c57ea9a6940dd891ad53e9dbe8da0</th>\n",
       "      <td>3331.0</td>\n",
       "      <td>7593.0</td>\n",
       "      <td>7298.0</td>\n",
       "      <td>0.961148</td>\n",
       "      <td>0.438694</td>\n",
       "      <td>0.456426</td>\n",
       "    </tr>\n",
       "  </tbody>\n",
       "</table>\n",
       "</div>"
      ],
      "text/plain": [
       "event                             offer completed  offer received  \\\n",
       "id                                                                  \n",
       "0b1e1539f2cc45b7b9fa7c272da2e1d7           3420.0          7668.0   \n",
       "2298d6c36e964ae4a3e7e9706d1fb8c2           5156.0          7646.0   \n",
       "2906b810c7d4411798c6938adc9daaa5           4017.0          7632.0   \n",
       "3f207df678b143eea3cee63160fa8bed              NaN          7617.0   \n",
       "4d5c57ea9a6940dd891ad53e9dbe8da0           3331.0          7593.0   \n",
       "\n",
       "event                             offer viewed  view/receive  comp/receive  \\\n",
       "id                                                                           \n",
       "0b1e1539f2cc45b7b9fa7c272da2e1d7        2663.0      0.347287      0.446009   \n",
       "2298d6c36e964ae4a3e7e9706d1fb8c2        7337.0      0.959587      0.674340   \n",
       "2906b810c7d4411798c6938adc9daaa5        4118.0      0.539570      0.526336   \n",
       "3f207df678b143eea3cee63160fa8bed        4144.0      0.544046           NaN   \n",
       "4d5c57ea9a6940dd891ad53e9dbe8da0        7298.0      0.961148      0.438694   \n",
       "\n",
       "event                             comp/view  \n",
       "id                                           \n",
       "0b1e1539f2cc45b7b9fa7c272da2e1d7   1.284266  \n",
       "2298d6c36e964ae4a3e7e9706d1fb8c2   0.702740  \n",
       "2906b810c7d4411798c6938adc9daaa5   0.975474  \n",
       "3f207df678b143eea3cee63160fa8bed        NaN  \n",
       "4d5c57ea9a6940dd891ad53e9dbe8da0   0.456426  "
      ]
     },
     "execution_count": 91,
     "metadata": {},
     "output_type": "execute_result"
    }
   ],
   "source": [
    "# and calculate some ratios\n",
    "df_offer['view/receive'] = df_offer.apply(lambda row: row['offer viewed']/row['offer received'], axis=1)\n",
    "df_offer['comp/receive'] = df_offer.apply(lambda row: row['offer completed']/row['offer received'], axis=1)\n",
    "df_offer['comp/view'] = df_offer.apply(lambda row: row['offer completed']/row['offer viewed'], axis=1)\n",
    "df_offer.head()"
   ]
  },
  {
   "cell_type": "code",
   "execution_count": 92,
   "metadata": {
    "ExecuteTime": {
     "end_time": "2021-01-03T11:41:13.639627Z",
     "start_time": "2021-01-03T11:41:13.632051Z"
    }
   },
   "outputs": [
    {
     "data": {
      "text/plain": [
       "Index(['reward', 'channels', 'difficulty', 'duration', 'offer_type', 'id'], dtype='object')"
      ]
     },
     "execution_count": 92,
     "metadata": {},
     "output_type": "execute_result"
    }
   ],
   "source": [
    "# checking column on portfolio dataset\n",
    "portfolio.columns"
   ]
  },
  {
   "cell_type": "code",
   "execution_count": 93,
   "metadata": {
    "ExecuteTime": {
     "end_time": "2021-01-03T11:41:13.646583Z",
     "start_time": "2021-01-03T11:41:13.640769Z"
    }
   },
   "outputs": [],
   "source": [
    "# join promotion profile and promotion records\n",
    "portfolio_extra = portfolio.merge(df_offer, how='right', left_on='id', right_on='id')"
   ]
  },
  {
   "cell_type": "code",
   "execution_count": 94,
   "metadata": {
    "ExecuteTime": {
     "end_time": "2021-01-03T11:41:13.651976Z",
     "start_time": "2021-01-03T11:41:13.647765Z"
    }
   },
   "outputs": [],
   "source": [
    "# list comprehension over 2D array, cast to a set to get unique element\n",
    "channels = set([channel for row in portfolio_extra.channels.values for channel in row])"
   ]
  },
  {
   "cell_type": "code",
   "execution_count": 95,
   "metadata": {
    "ExecuteTime": {
     "end_time": "2021-01-03T11:41:13.661274Z",
     "start_time": "2021-01-03T11:41:13.653082Z"
    }
   },
   "outputs": [],
   "source": [
    "# encode channels\n",
    "for channel in channels:\n",
    "    portfolio_extra[channel] = portfolio_extra.channels.apply(lambda cell: 1 if channel in cell else 0)"
   ]
  },
  {
   "cell_type": "code",
   "execution_count": 96,
   "metadata": {
    "ExecuteTime": {
     "end_time": "2021-01-03T11:41:13.677084Z",
     "start_time": "2021-01-03T11:41:13.662364Z"
    }
   },
   "outputs": [
    {
     "data": {
      "text/html": [
       "<div>\n",
       "<style scoped>\n",
       "    .dataframe tbody tr th:only-of-type {\n",
       "        vertical-align: middle;\n",
       "    }\n",
       "\n",
       "    .dataframe tbody tr th {\n",
       "        vertical-align: top;\n",
       "    }\n",
       "\n",
       "    .dataframe thead th {\n",
       "        text-align: right;\n",
       "    }\n",
       "</style>\n",
       "<table border=\"1\" class=\"dataframe\">\n",
       "  <thead>\n",
       "    <tr style=\"text-align: right;\">\n",
       "      <th></th>\n",
       "      <th>reward</th>\n",
       "      <th>channels</th>\n",
       "      <th>difficulty</th>\n",
       "      <th>duration</th>\n",
       "      <th>offer_type</th>\n",
       "      <th>id</th>\n",
       "      <th>offer completed</th>\n",
       "      <th>offer received</th>\n",
       "      <th>offer viewed</th>\n",
       "      <th>view/receive</th>\n",
       "      <th>comp/receive</th>\n",
       "      <th>comp/view</th>\n",
       "      <th>email</th>\n",
       "      <th>web</th>\n",
       "      <th>social</th>\n",
       "      <th>mobile</th>\n",
       "    </tr>\n",
       "  </thead>\n",
       "  <tbody>\n",
       "    <tr>\n",
       "      <th>0</th>\n",
       "      <td>10</td>\n",
       "      <td>[email, mobile, social]</td>\n",
       "      <td>10</td>\n",
       "      <td>7</td>\n",
       "      <td>bogo</td>\n",
       "      <td>ae264e3637204a6fb9bb56bc8210ddfd</td>\n",
       "      <td>3688.0</td>\n",
       "      <td>7658.0</td>\n",
       "      <td>6716.0</td>\n",
       "      <td>0.876991</td>\n",
       "      <td>0.481588</td>\n",
       "      <td>0.549136</td>\n",
       "      <td>1</td>\n",
       "      <td>0</td>\n",
       "      <td>1</td>\n",
       "      <td>1</td>\n",
       "    </tr>\n",
       "    <tr>\n",
       "      <th>1</th>\n",
       "      <td>10</td>\n",
       "      <td>[web, email, mobile, social]</td>\n",
       "      <td>10</td>\n",
       "      <td>5</td>\n",
       "      <td>bogo</td>\n",
       "      <td>4d5c57ea9a6940dd891ad53e9dbe8da0</td>\n",
       "      <td>3331.0</td>\n",
       "      <td>7593.0</td>\n",
       "      <td>7298.0</td>\n",
       "      <td>0.961148</td>\n",
       "      <td>0.438694</td>\n",
       "      <td>0.456426</td>\n",
       "      <td>1</td>\n",
       "      <td>1</td>\n",
       "      <td>1</td>\n",
       "      <td>1</td>\n",
       "    </tr>\n",
       "    <tr>\n",
       "      <th>2</th>\n",
       "      <td>0</td>\n",
       "      <td>[web, email, mobile]</td>\n",
       "      <td>0</td>\n",
       "      <td>4</td>\n",
       "      <td>informational</td>\n",
       "      <td>3f207df678b143eea3cee63160fa8bed</td>\n",
       "      <td>NaN</td>\n",
       "      <td>7617.0</td>\n",
       "      <td>4144.0</td>\n",
       "      <td>0.544046</td>\n",
       "      <td>NaN</td>\n",
       "      <td>NaN</td>\n",
       "      <td>1</td>\n",
       "      <td>1</td>\n",
       "      <td>0</td>\n",
       "      <td>1</td>\n",
       "    </tr>\n",
       "    <tr>\n",
       "      <th>3</th>\n",
       "      <td>5</td>\n",
       "      <td>[web, email, mobile]</td>\n",
       "      <td>5</td>\n",
       "      <td>7</td>\n",
       "      <td>bogo</td>\n",
       "      <td>9b98b8c7a33c4b65b9aebfe6a799e6d9</td>\n",
       "      <td>4354.0</td>\n",
       "      <td>7677.0</td>\n",
       "      <td>4171.0</td>\n",
       "      <td>0.543311</td>\n",
       "      <td>0.567149</td>\n",
       "      <td>1.043874</td>\n",
       "      <td>1</td>\n",
       "      <td>1</td>\n",
       "      <td>0</td>\n",
       "      <td>1</td>\n",
       "    </tr>\n",
       "    <tr>\n",
       "      <th>4</th>\n",
       "      <td>5</td>\n",
       "      <td>[web, email]</td>\n",
       "      <td>20</td>\n",
       "      <td>10</td>\n",
       "      <td>discount</td>\n",
       "      <td>0b1e1539f2cc45b7b9fa7c272da2e1d7</td>\n",
       "      <td>3420.0</td>\n",
       "      <td>7668.0</td>\n",
       "      <td>2663.0</td>\n",
       "      <td>0.347287</td>\n",
       "      <td>0.446009</td>\n",
       "      <td>1.284266</td>\n",
       "      <td>1</td>\n",
       "      <td>1</td>\n",
       "      <td>0</td>\n",
       "      <td>0</td>\n",
       "    </tr>\n",
       "  </tbody>\n",
       "</table>\n",
       "</div>"
      ],
      "text/plain": [
       "   reward                      channels  difficulty  duration     offer_type  \\\n",
       "0      10       [email, mobile, social]          10         7           bogo   \n",
       "1      10  [web, email, mobile, social]          10         5           bogo   \n",
       "2       0          [web, email, mobile]           0         4  informational   \n",
       "3       5          [web, email, mobile]           5         7           bogo   \n",
       "4       5                  [web, email]          20        10       discount   \n",
       "\n",
       "                                 id  offer completed  offer received  \\\n",
       "0  ae264e3637204a6fb9bb56bc8210ddfd           3688.0          7658.0   \n",
       "1  4d5c57ea9a6940dd891ad53e9dbe8da0           3331.0          7593.0   \n",
       "2  3f207df678b143eea3cee63160fa8bed              NaN          7617.0   \n",
       "3  9b98b8c7a33c4b65b9aebfe6a799e6d9           4354.0          7677.0   \n",
       "4  0b1e1539f2cc45b7b9fa7c272da2e1d7           3420.0          7668.0   \n",
       "\n",
       "   offer viewed  view/receive  comp/receive  comp/view  email  web  social  \\\n",
       "0        6716.0      0.876991      0.481588   0.549136      1    0       1   \n",
       "1        7298.0      0.961148      0.438694   0.456426      1    1       1   \n",
       "2        4144.0      0.544046           NaN        NaN      1    1       0   \n",
       "3        4171.0      0.543311      0.567149   1.043874      1    1       0   \n",
       "4        2663.0      0.347287      0.446009   1.284266      1    1       0   \n",
       "\n",
       "   mobile  \n",
       "0       1  \n",
       "1       1  \n",
       "2       1  \n",
       "3       1  \n",
       "4       0  "
      ]
     },
     "execution_count": 96,
     "metadata": {},
     "output_type": "execute_result"
    }
   ],
   "source": [
    "portfolio_extra.head()"
   ]
  },
  {
   "cell_type": "code",
   "execution_count": 97,
   "metadata": {
    "ExecuteTime": {
     "end_time": "2021-01-03T11:41:13.694868Z",
     "start_time": "2021-01-03T11:41:13.678224Z"
    }
   },
   "outputs": [
    {
     "data": {
      "text/html": [
       "<div>\n",
       "<style scoped>\n",
       "    .dataframe tbody tr th:only-of-type {\n",
       "        vertical-align: middle;\n",
       "    }\n",
       "\n",
       "    .dataframe tbody tr th {\n",
       "        vertical-align: top;\n",
       "    }\n",
       "\n",
       "    .dataframe thead th {\n",
       "        text-align: right;\n",
       "    }\n",
       "</style>\n",
       "<table border=\"1\" class=\"dataframe\">\n",
       "  <thead>\n",
       "    <tr style=\"text-align: right;\">\n",
       "      <th></th>\n",
       "      <th>email</th>\n",
       "      <th>mobile</th>\n",
       "      <th>web</th>\n",
       "      <th>social</th>\n",
       "      <th>difficulty</th>\n",
       "      <th>duration</th>\n",
       "      <th>offer_type</th>\n",
       "      <th>view/receive</th>\n",
       "      <th>comp/receive</th>\n",
       "      <th>comp/view</th>\n",
       "      <th>id</th>\n",
       "    </tr>\n",
       "  </thead>\n",
       "  <tbody>\n",
       "    <tr>\n",
       "      <th>0</th>\n",
       "      <td>1</td>\n",
       "      <td>1</td>\n",
       "      <td>0</td>\n",
       "      <td>1</td>\n",
       "      <td>10</td>\n",
       "      <td>7</td>\n",
       "      <td>bogo</td>\n",
       "      <td>0.876991</td>\n",
       "      <td>0.481588</td>\n",
       "      <td>0.549136</td>\n",
       "      <td>ae264e3637204a6fb9bb56bc8210ddfd</td>\n",
       "    </tr>\n",
       "    <tr>\n",
       "      <th>1</th>\n",
       "      <td>1</td>\n",
       "      <td>1</td>\n",
       "      <td>1</td>\n",
       "      <td>1</td>\n",
       "      <td>10</td>\n",
       "      <td>5</td>\n",
       "      <td>bogo</td>\n",
       "      <td>0.961148</td>\n",
       "      <td>0.438694</td>\n",
       "      <td>0.456426</td>\n",
       "      <td>4d5c57ea9a6940dd891ad53e9dbe8da0</td>\n",
       "    </tr>\n",
       "    <tr>\n",
       "      <th>2</th>\n",
       "      <td>1</td>\n",
       "      <td>1</td>\n",
       "      <td>1</td>\n",
       "      <td>0</td>\n",
       "      <td>0</td>\n",
       "      <td>4</td>\n",
       "      <td>informational</td>\n",
       "      <td>0.544046</td>\n",
       "      <td>NaN</td>\n",
       "      <td>NaN</td>\n",
       "      <td>3f207df678b143eea3cee63160fa8bed</td>\n",
       "    </tr>\n",
       "    <tr>\n",
       "      <th>3</th>\n",
       "      <td>1</td>\n",
       "      <td>1</td>\n",
       "      <td>1</td>\n",
       "      <td>0</td>\n",
       "      <td>5</td>\n",
       "      <td>7</td>\n",
       "      <td>bogo</td>\n",
       "      <td>0.543311</td>\n",
       "      <td>0.567149</td>\n",
       "      <td>1.043874</td>\n",
       "      <td>9b98b8c7a33c4b65b9aebfe6a799e6d9</td>\n",
       "    </tr>\n",
       "    <tr>\n",
       "      <th>4</th>\n",
       "      <td>1</td>\n",
       "      <td>0</td>\n",
       "      <td>1</td>\n",
       "      <td>0</td>\n",
       "      <td>20</td>\n",
       "      <td>10</td>\n",
       "      <td>discount</td>\n",
       "      <td>0.347287</td>\n",
       "      <td>0.446009</td>\n",
       "      <td>1.284266</td>\n",
       "      <td>0b1e1539f2cc45b7b9fa7c272da2e1d7</td>\n",
       "    </tr>\n",
       "    <tr>\n",
       "      <th>5</th>\n",
       "      <td>1</td>\n",
       "      <td>1</td>\n",
       "      <td>1</td>\n",
       "      <td>1</td>\n",
       "      <td>7</td>\n",
       "      <td>7</td>\n",
       "      <td>discount</td>\n",
       "      <td>0.959587</td>\n",
       "      <td>0.674340</td>\n",
       "      <td>0.702740</td>\n",
       "      <td>2298d6c36e964ae4a3e7e9706d1fb8c2</td>\n",
       "    </tr>\n",
       "    <tr>\n",
       "      <th>6</th>\n",
       "      <td>1</td>\n",
       "      <td>1</td>\n",
       "      <td>1</td>\n",
       "      <td>1</td>\n",
       "      <td>10</td>\n",
       "      <td>10</td>\n",
       "      <td>discount</td>\n",
       "      <td>0.964460</td>\n",
       "      <td>0.699882</td>\n",
       "      <td>0.725672</td>\n",
       "      <td>fafdcd668e3743c1bb461111dcafc2a4</td>\n",
       "    </tr>\n",
       "    <tr>\n",
       "      <th>7</th>\n",
       "      <td>1</td>\n",
       "      <td>1</td>\n",
       "      <td>0</td>\n",
       "      <td>1</td>\n",
       "      <td>0</td>\n",
       "      <td>3</td>\n",
       "      <td>informational</td>\n",
       "      <td>0.877789</td>\n",
       "      <td>NaN</td>\n",
       "      <td>NaN</td>\n",
       "      <td>5a8bc65990b245e5a138643cd4eb9837</td>\n",
       "    </tr>\n",
       "    <tr>\n",
       "      <th>8</th>\n",
       "      <td>1</td>\n",
       "      <td>1</td>\n",
       "      <td>1</td>\n",
       "      <td>1</td>\n",
       "      <td>5</td>\n",
       "      <td>5</td>\n",
       "      <td>bogo</td>\n",
       "      <td>0.959451</td>\n",
       "      <td>0.567428</td>\n",
       "      <td>0.591410</td>\n",
       "      <td>f19421c1d4aa40978ebb69ca19b0e20d</td>\n",
       "    </tr>\n",
       "    <tr>\n",
       "      <th>9</th>\n",
       "      <td>1</td>\n",
       "      <td>1</td>\n",
       "      <td>1</td>\n",
       "      <td>0</td>\n",
       "      <td>10</td>\n",
       "      <td>7</td>\n",
       "      <td>discount</td>\n",
       "      <td>0.539570</td>\n",
       "      <td>0.526336</td>\n",
       "      <td>0.975474</td>\n",
       "      <td>2906b810c7d4411798c6938adc9daaa5</td>\n",
       "    </tr>\n",
       "  </tbody>\n",
       "</table>\n",
       "</div>"
      ],
      "text/plain": [
       "   email  mobile  web  social  difficulty  duration     offer_type  \\\n",
       "0      1       1    0       1          10         7           bogo   \n",
       "1      1       1    1       1          10         5           bogo   \n",
       "2      1       1    1       0           0         4  informational   \n",
       "3      1       1    1       0           5         7           bogo   \n",
       "4      1       0    1       0          20        10       discount   \n",
       "5      1       1    1       1           7         7       discount   \n",
       "6      1       1    1       1          10        10       discount   \n",
       "7      1       1    0       1           0         3  informational   \n",
       "8      1       1    1       1           5         5           bogo   \n",
       "9      1       1    1       0          10         7       discount   \n",
       "\n",
       "   view/receive  comp/receive  comp/view                                id  \n",
       "0      0.876991      0.481588   0.549136  ae264e3637204a6fb9bb56bc8210ddfd  \n",
       "1      0.961148      0.438694   0.456426  4d5c57ea9a6940dd891ad53e9dbe8da0  \n",
       "2      0.544046           NaN        NaN  3f207df678b143eea3cee63160fa8bed  \n",
       "3      0.543311      0.567149   1.043874  9b98b8c7a33c4b65b9aebfe6a799e6d9  \n",
       "4      0.347287      0.446009   1.284266  0b1e1539f2cc45b7b9fa7c272da2e1d7  \n",
       "5      0.959587      0.674340   0.702740  2298d6c36e964ae4a3e7e9706d1fb8c2  \n",
       "6      0.964460      0.699882   0.725672  fafdcd668e3743c1bb461111dcafc2a4  \n",
       "7      0.877789           NaN        NaN  5a8bc65990b245e5a138643cd4eb9837  \n",
       "8      0.959451      0.567428   0.591410  f19421c1d4aa40978ebb69ca19b0e20d  \n",
       "9      0.539570      0.526336   0.975474  2906b810c7d4411798c6938adc9daaa5  "
      ]
     },
     "execution_count": 97,
     "metadata": {},
     "output_type": "execute_result"
    }
   ],
   "source": [
    "# or a cleaner view\n",
    "portfolio_extra[['email', 'mobile', 'web', 'social', 'difficulty', 'duration', 'offer_type',\n",
    "                 'view/receive', 'comp/receive', 'comp/view', 'id']]"
   ]
  },
  {
   "cell_type": "code",
   "execution_count": 98,
   "metadata": {
    "ExecuteTime": {
     "end_time": "2021-01-03T11:41:13.820777Z",
     "start_time": "2021-01-03T11:41:13.696057Z"
    }
   },
   "outputs": [
    {
     "data": {
      "image/png": "[encoded data removed]",
      "text/plain": [
       "<Figure size 720x432 with 1 Axes>"
      ]
     },
     "metadata": {},
     "output_type": "display_data"
    }
   ],
   "source": [
    "# ratio of views and advertising channels\n",
    "plt.plot(portfolio_extra[['email', 'mobile', 'web', 'social']].sum(axis=1),\n",
    "         portfolio_extra['view/receive'],\n",
    "        ls='', marker='o', markersize=20)\n",
    "plt.title('Marking channels vs. view rate')\n",
    "plt.ylabel('#view/#receive per promotion')\n",
    "plt.xlabel('#channel');"
   ]
  },
  {
   "cell_type": "markdown",
   "metadata": {},
   "source": [
    "summary:\n",
    "- more marking channels resulted a higher view rate\n",
    "- all promotion has email as one of the channel\n",
    "- view rate is not linear over each channel, \n",
    "    - without social marking, the view rate is about 0.54 (or 54% customers saw their promotion)\n",
    "    - without social plus mobile, the view rate drops to 0.35\n",
    "    - without web marking, the view rate is 0.87, which is the least influence channels\n",
    "    - all promotion sent via email so we are not able to draw any relation on this channel"
   ]
  },
  {
   "cell_type": "code",
   "execution_count": 99,
   "metadata": {
    "ExecuteTime": {
     "end_time": "2021-01-03T11:41:14.224086Z",
     "start_time": "2021-01-03T11:41:13.821985Z"
    }
   },
   "outputs": [
    {
     "data": {
      "image/png": "[encoded data removed]",
      "text/plain": [
       "<Figure size 720x432 with 3 Axes>"
      ]
     },
     "metadata": {},
     "output_type": "display_data"
    }
   ],
   "source": [
    "# let see all the rates with each promotion id\n",
    "categories = ['view/receive','comp/receive', 'comp/view']\n",
    "portfolio_extra[categories].plot(kind='bar', subplots=True);"
   ]
  },
  {
   "cell_type": "code",
   "execution_count": 100,
   "metadata": {
    "ExecuteTime": {
     "end_time": "2021-01-03T11:41:14.228411Z",
     "start_time": "2021-01-03T11:41:14.225216Z"
    }
   },
   "outputs": [],
   "source": [
    "# for a simpler approach, I will use the ratio of (completed/received)*(completed/viewed)\n",
    "# as one rating for how succesful the promotion is. This is only applicable for discount for BOGO\n",
    "categories = ['view/receive','comp/receive', 'comp/view']\n",
    "portfolio_extra['s_rate'] = portfolio_extra['comp/receive']*portfolio_extra['comp/view']"
   ]
  },
  {
   "cell_type": "code",
   "execution_count": 101,
   "metadata": {
    "ExecuteTime": {
     "end_time": "2021-01-03T11:41:14.238873Z",
     "start_time": "2021-01-03T11:41:14.229540Z"
    }
   },
   "outputs": [
    {
     "data": {
      "text/plain": [
       "Index(['reward', 'channels', 'difficulty', 'duration', 'offer_type', 'id',\n",
       "       'offer completed', 'offer received', 'offer viewed', 'view/receive',\n",
       "       'comp/receive', 'comp/view', 'email', 'web', 'social', 'mobile',\n",
       "       's_rate'],\n",
       "      dtype='object')"
      ]
     },
     "execution_count": 101,
     "metadata": {},
     "output_type": "execute_result"
    }
   ],
   "source": [
    "portfolio_extra.columns"
   ]
  },
  {
   "cell_type": "code",
   "execution_count": 102,
   "metadata": {
    "ExecuteTime": {
     "end_time": "2021-01-03T11:41:14.251075Z",
     "start_time": "2021-01-03T11:41:14.240051Z"
    }
   },
   "outputs": [
    {
     "data": {
      "text/html": [
       "<div>\n",
       "<style scoped>\n",
       "    .dataframe tbody tr th:only-of-type {\n",
       "        vertical-align: middle;\n",
       "    }\n",
       "\n",
       "    .dataframe tbody tr th {\n",
       "        vertical-align: top;\n",
       "    }\n",
       "\n",
       "    .dataframe thead th {\n",
       "        text-align: right;\n",
       "    }\n",
       "</style>\n",
       "<table border=\"1\" class=\"dataframe\">\n",
       "  <thead>\n",
       "    <tr style=\"text-align: right;\">\n",
       "      <th></th>\n",
       "      <th>id</th>\n",
       "      <th>offer_type</th>\n",
       "      <th>difficulty</th>\n",
       "      <th>duration</th>\n",
       "      <th>s_rate</th>\n",
       "    </tr>\n",
       "  </thead>\n",
       "  <tbody>\n",
       "    <tr>\n",
       "      <th>3</th>\n",
       "      <td>9b98b8c7a33c4b65b9aebfe6a799e6d9</td>\n",
       "      <td>bogo</td>\n",
       "      <td>5</td>\n",
       "      <td>7</td>\n",
       "      <td>0.592032</td>\n",
       "    </tr>\n",
       "    <tr>\n",
       "      <th>4</th>\n",
       "      <td>0b1e1539f2cc45b7b9fa7c272da2e1d7</td>\n",
       "      <td>discount</td>\n",
       "      <td>20</td>\n",
       "      <td>10</td>\n",
       "      <td>0.572795</td>\n",
       "    </tr>\n",
       "    <tr>\n",
       "      <th>9</th>\n",
       "      <td>2906b810c7d4411798c6938adc9daaa5</td>\n",
       "      <td>discount</td>\n",
       "      <td>10</td>\n",
       "      <td>7</td>\n",
       "      <td>0.513427</td>\n",
       "    </tr>\n",
       "    <tr>\n",
       "      <th>6</th>\n",
       "      <td>fafdcd668e3743c1bb461111dcafc2a4</td>\n",
       "      <td>discount</td>\n",
       "      <td>10</td>\n",
       "      <td>10</td>\n",
       "      <td>0.507885</td>\n",
       "    </tr>\n",
       "    <tr>\n",
       "      <th>5</th>\n",
       "      <td>2298d6c36e964ae4a3e7e9706d1fb8c2</td>\n",
       "      <td>discount</td>\n",
       "      <td>7</td>\n",
       "      <td>7</td>\n",
       "      <td>0.473885</td>\n",
       "    </tr>\n",
       "    <tr>\n",
       "      <th>8</th>\n",
       "      <td>f19421c1d4aa40978ebb69ca19b0e20d</td>\n",
       "      <td>bogo</td>\n",
       "      <td>5</td>\n",
       "      <td>5</td>\n",
       "      <td>0.335583</td>\n",
       "    </tr>\n",
       "    <tr>\n",
       "      <th>0</th>\n",
       "      <td>ae264e3637204a6fb9bb56bc8210ddfd</td>\n",
       "      <td>bogo</td>\n",
       "      <td>10</td>\n",
       "      <td>7</td>\n",
       "      <td>0.264457</td>\n",
       "    </tr>\n",
       "    <tr>\n",
       "      <th>1</th>\n",
       "      <td>4d5c57ea9a6940dd891ad53e9dbe8da0</td>\n",
       "      <td>bogo</td>\n",
       "      <td>10</td>\n",
       "      <td>5</td>\n",
       "      <td>0.200231</td>\n",
       "    </tr>\n",
       "    <tr>\n",
       "      <th>2</th>\n",
       "      <td>3f207df678b143eea3cee63160fa8bed</td>\n",
       "      <td>informational</td>\n",
       "      <td>0</td>\n",
       "      <td>4</td>\n",
       "      <td>NaN</td>\n",
       "    </tr>\n",
       "    <tr>\n",
       "      <th>7</th>\n",
       "      <td>5a8bc65990b245e5a138643cd4eb9837</td>\n",
       "      <td>informational</td>\n",
       "      <td>0</td>\n",
       "      <td>3</td>\n",
       "      <td>NaN</td>\n",
       "    </tr>\n",
       "  </tbody>\n",
       "</table>\n",
       "</div>"
      ],
      "text/plain": [
       "                                 id     offer_type  difficulty  duration  \\\n",
       "3  9b98b8c7a33c4b65b9aebfe6a799e6d9           bogo           5         7   \n",
       "4  0b1e1539f2cc45b7b9fa7c272da2e1d7       discount          20        10   \n",
       "9  2906b810c7d4411798c6938adc9daaa5       discount          10         7   \n",
       "6  fafdcd668e3743c1bb461111dcafc2a4       discount          10        10   \n",
       "5  2298d6c36e964ae4a3e7e9706d1fb8c2       discount           7         7   \n",
       "8  f19421c1d4aa40978ebb69ca19b0e20d           bogo           5         5   \n",
       "0  ae264e3637204a6fb9bb56bc8210ddfd           bogo          10         7   \n",
       "1  4d5c57ea9a6940dd891ad53e9dbe8da0           bogo          10         5   \n",
       "2  3f207df678b143eea3cee63160fa8bed  informational           0         4   \n",
       "7  5a8bc65990b245e5a138643cd4eb9837  informational           0         3   \n",
       "\n",
       "     s_rate  \n",
       "3  0.592032  \n",
       "4  0.572795  \n",
       "9  0.513427  \n",
       "6  0.507885  \n",
       "5  0.473885  \n",
       "8  0.335583  \n",
       "0  0.264457  \n",
       "1  0.200231  \n",
       "2       NaN  \n",
       "7       NaN  "
      ]
     },
     "execution_count": 102,
     "metadata": {},
     "output_type": "execute_result"
    }
   ],
   "source": [
    "portfolio_extra[['id', 'offer_type', 'difficulty', 'duration', 's_rate']].\\\n",
    "sort_values(by='s_rate', ascending=False)"
   ]
  },
  {
   "cell_type": "code",
   "execution_count": 103,
   "metadata": {
    "ExecuteTime": {
     "end_time": "2021-01-03T11:41:14.257543Z",
     "start_time": "2021-01-03T11:41:14.252230Z"
    }
   },
   "outputs": [],
   "source": [
    "def find_pop_offers(transcript, portfolio):\n",
    "    '''find offer that has a high successful rate\n",
    "    \n",
    "    INPUT:\n",
    "        transcript: dataframe of records of transaction of customers with promo offered\n",
    "        portfolio: information of promotion including type, duration, difficulty\n",
    "        \n",
    "    OUTPUT:\n",
    "        a sorted offers which show the highest successful rate `s_rate`.\n",
    "        s_rate = (number of completed/number of received)*(number of viewed/number of received)\n",
    "        for each promotion\n",
    "    '''\n",
    "    \n",
    "    df = transcript.groupby(['offer', 'event']).count()['person'].unstack()\n",
    "    df.index.set_names(names='id', inplace=True)\n",
    "    \n",
    "    df['view/receive'] = df.apply(lambda row: row['offer viewed']/row['offer received'], axis=1)\n",
    "    df['comp/receive'] = df.apply(lambda row: row['offer completed']/row['offer received'], axis=1)\n",
    "    df['comp/view'] = df.apply(lambda row: row['offer completed']/row['offer viewed'], axis=1)\n",
    "    \n",
    "    df = portfolio.merge(df, how='right', left_on='id', right_on='id')\n",
    "    \n",
    "    # define an `s_rate` as sucessful rate based on completion\n",
    "    df['s_rate'] = df['comp/receive']*df['comp/view']\n",
    "    offers = df[['id', 'offer_type', 'difficulty', 'duration',\n",
    "                     's_rate']].sort_values(by='s_rate', ascending=False)\n",
    "    return offers"
   ]
  },
  {
   "cell_type": "code",
   "execution_count": 104,
   "metadata": {
    "ExecuteTime": {
     "end_time": "2021-01-03T11:41:14.348911Z",
     "start_time": "2021-01-03T11:41:14.258631Z"
    }
   },
   "outputs": [
    {
     "data": {
      "text/html": [
       "<div>\n",
       "<style scoped>\n",
       "    .dataframe tbody tr th:only-of-type {\n",
       "        vertical-align: middle;\n",
       "    }\n",
       "\n",
       "    .dataframe tbody tr th {\n",
       "        vertical-align: top;\n",
       "    }\n",
       "\n",
       "    .dataframe thead th {\n",
       "        text-align: right;\n",
       "    }\n",
       "</style>\n",
       "<table border=\"1\" class=\"dataframe\">\n",
       "  <thead>\n",
       "    <tr style=\"text-align: right;\">\n",
       "      <th></th>\n",
       "      <th>id</th>\n",
       "      <th>offer_type</th>\n",
       "      <th>difficulty</th>\n",
       "      <th>duration</th>\n",
       "      <th>s_rate</th>\n",
       "    </tr>\n",
       "  </thead>\n",
       "  <tbody>\n",
       "    <tr>\n",
       "      <th>3</th>\n",
       "      <td>9b98b8c7a33c4b65b9aebfe6a799e6d9</td>\n",
       "      <td>bogo</td>\n",
       "      <td>5</td>\n",
       "      <td>7</td>\n",
       "      <td>0.592032</td>\n",
       "    </tr>\n",
       "    <tr>\n",
       "      <th>4</th>\n",
       "      <td>0b1e1539f2cc45b7b9fa7c272da2e1d7</td>\n",
       "      <td>discount</td>\n",
       "      <td>20</td>\n",
       "      <td>10</td>\n",
       "      <td>0.572795</td>\n",
       "    </tr>\n",
       "    <tr>\n",
       "      <th>9</th>\n",
       "      <td>2906b810c7d4411798c6938adc9daaa5</td>\n",
       "      <td>discount</td>\n",
       "      <td>10</td>\n",
       "      <td>7</td>\n",
       "      <td>0.513427</td>\n",
       "    </tr>\n",
       "    <tr>\n",
       "      <th>6</th>\n",
       "      <td>fafdcd668e3743c1bb461111dcafc2a4</td>\n",
       "      <td>discount</td>\n",
       "      <td>10</td>\n",
       "      <td>10</td>\n",
       "      <td>0.507885</td>\n",
       "    </tr>\n",
       "    <tr>\n",
       "      <th>5</th>\n",
       "      <td>2298d6c36e964ae4a3e7e9706d1fb8c2</td>\n",
       "      <td>discount</td>\n",
       "      <td>7</td>\n",
       "      <td>7</td>\n",
       "      <td>0.473885</td>\n",
       "    </tr>\n",
       "    <tr>\n",
       "      <th>8</th>\n",
       "      <td>f19421c1d4aa40978ebb69ca19b0e20d</td>\n",
       "      <td>bogo</td>\n",
       "      <td>5</td>\n",
       "      <td>5</td>\n",
       "      <td>0.335583</td>\n",
       "    </tr>\n",
       "    <tr>\n",
       "      <th>0</th>\n",
       "      <td>ae264e3637204a6fb9bb56bc8210ddfd</td>\n",
       "      <td>bogo</td>\n",
       "      <td>10</td>\n",
       "      <td>7</td>\n",
       "      <td>0.264457</td>\n",
       "    </tr>\n",
       "    <tr>\n",
       "      <th>1</th>\n",
       "      <td>4d5c57ea9a6940dd891ad53e9dbe8da0</td>\n",
       "      <td>bogo</td>\n",
       "      <td>10</td>\n",
       "      <td>5</td>\n",
       "      <td>0.200231</td>\n",
       "    </tr>\n",
       "    <tr>\n",
       "      <th>2</th>\n",
       "      <td>3f207df678b143eea3cee63160fa8bed</td>\n",
       "      <td>informational</td>\n",
       "      <td>0</td>\n",
       "      <td>4</td>\n",
       "      <td>NaN</td>\n",
       "    </tr>\n",
       "    <tr>\n",
       "      <th>7</th>\n",
       "      <td>5a8bc65990b245e5a138643cd4eb9837</td>\n",
       "      <td>informational</td>\n",
       "      <td>0</td>\n",
       "      <td>3</td>\n",
       "      <td>NaN</td>\n",
       "    </tr>\n",
       "  </tbody>\n",
       "</table>\n",
       "</div>"
      ],
      "text/plain": [
       "                                 id     offer_type  difficulty  duration  \\\n",
       "3  9b98b8c7a33c4b65b9aebfe6a799e6d9           bogo           5         7   \n",
       "4  0b1e1539f2cc45b7b9fa7c272da2e1d7       discount          20        10   \n",
       "9  2906b810c7d4411798c6938adc9daaa5       discount          10         7   \n",
       "6  fafdcd668e3743c1bb461111dcafc2a4       discount          10        10   \n",
       "5  2298d6c36e964ae4a3e7e9706d1fb8c2       discount           7         7   \n",
       "8  f19421c1d4aa40978ebb69ca19b0e20d           bogo           5         5   \n",
       "0  ae264e3637204a6fb9bb56bc8210ddfd           bogo          10         7   \n",
       "1  4d5c57ea9a6940dd891ad53e9dbe8da0           bogo          10         5   \n",
       "2  3f207df678b143eea3cee63160fa8bed  informational           0         4   \n",
       "7  5a8bc65990b245e5a138643cd4eb9837  informational           0         3   \n",
       "\n",
       "     s_rate  \n",
       "3  0.592032  \n",
       "4  0.572795  \n",
       "9  0.513427  \n",
       "6  0.507885  \n",
       "5  0.473885  \n",
       "8  0.335583  \n",
       "0  0.264457  \n",
       "1  0.200231  \n",
       "2       NaN  \n",
       "7       NaN  "
      ]
     },
     "execution_count": 104,
     "metadata": {},
     "output_type": "execute_result"
    }
   ],
   "source": [
    "ranked_offers = find_pop_offers(transcript, portfolio)\n",
    "ranked_offers"
   ]
  },
  {
   "cell_type": "code",
   "execution_count": 105,
   "metadata": {
    "ExecuteTime": {
     "end_time": "2021-01-03T11:41:14.355891Z",
     "start_time": "2021-01-03T11:41:14.350281Z"
    }
   },
   "outputs": [
    {
     "data": {
      "text/plain": [
       "array(['bogo_9e6d9', 'discount_2e1d7', 'discount_daaa5', 'discount_fc2a4',\n",
       "       'discount_fb8c2', 'bogo_0e20d', 'bogo_0ddfd', 'bogo_e8da0',\n",
       "       'informational_a8bed', 'informational_b9837'], dtype=object)"
      ]
     },
     "execution_count": 105,
     "metadata": {},
     "output_type": "execute_result"
    }
   ],
   "source": [
    "labels = ranked_offers[['id', 'offer_type']].apply(\n",
    "    lambda row: row['offer_type']+'_' + row['id'][-5:], axis=1).values\n",
    "labels"
   ]
  },
  {
   "cell_type": "code",
   "execution_count": 106,
   "metadata": {
    "ExecuteTime": {
     "end_time": "2021-01-03T11:41:14.492522Z",
     "start_time": "2021-01-03T11:41:14.357082Z"
    }
   },
   "outputs": [
    {
     "data": {
      "image/png": "[encoded data removed]",
      "text/plain": [
       "<Figure size 720x432 with 1 Axes>"
      ]
     },
     "metadata": {},
     "output_type": "display_data"
    }
   ],
   "source": [
    "plt.bar(x=labels, height=ranked_offers['s_rate'], width=0.4)\n",
    "plt.xticks(rotation=45)\n",
    "plt.title('Successful rate by offers');"
   ]
  },
  {
   "cell_type": "markdown",
   "metadata": {},
   "source": [
    "## Grouping transaction by users"
   ]
  },
  {
   "cell_type": "code",
   "execution_count": 107,
   "metadata": {
    "ExecuteTime": {
     "end_time": "2021-01-03T11:41:14.498888Z",
     "start_time": "2021-01-03T11:41:14.493876Z"
    }
   },
   "outputs": [],
   "source": [
    "def analyze_df(df, offer_id, info_offer=False):    \n",
    "    '''summary a transaction if it was viewed, other offer, and amount spent.\n",
    "    \n",
    "    INPUT:\n",
    "        df: a dataframe containing transaction records\n",
    "        offer_id: an promotion id about an offer\n",
    "        \n",
    "    OUPUT:\n",
    "        a dictionary containing summary\n",
    "    '''\n",
    "#     print(df)\n",
    "    start_idx = df.head(1).index[0]\n",
    "    result = {'viewed': False,\n",
    "              'completed': False,\n",
    "              'other offer viewed': False,\n",
    "              'amount': 0}\n",
    "    count_viewed_offers  = df.query('event==\"offer viewed\"')['offer'].value_counts().index\n",
    "    if offer_id in count_viewed_offers:\n",
    "        result['viewed'] = True\n",
    "        if len(count_viewed_offers) > 1:\n",
    "            result['other offer viewed'] = True\n",
    "    amount = df['amount'].sum()\n",
    "    result['amount'] = amount\n",
    "    \n",
    "    if info_offer:\n",
    "        # for informational offer, if we saw at least one transaction, we marked it as a completed one\n",
    "        if len(df['offer']=='transaction') >0:\n",
    "            result['completed'] = True\n",
    "    else:\n",
    "        # for discount for BOGO offers, we look for \"offer completed\" in event columns\n",
    "        if offer_id in df.query('event==\"offer completed\"')['offer'].values:\n",
    "            result['completed'] = True\n",
    "    return {start_idx: result}"
   ]
  },
  {
   "cell_type": "code",
   "execution_count": 108,
   "metadata": {
    "ExecuteTime": {
     "end_time": "2021-01-03T11:41:14.509011Z",
     "start_time": "2021-01-03T11:41:14.500030Z"
    }
   },
   "outputs": [],
   "source": [
    "def slice_df(df, start_point, valid_hours):\n",
    "    '''slice a dataframe based on duration of offer since it's received.\n",
    "    \n",
    "    INPUT:\n",
    "        df: a larger dataframe contains all transaction records\n",
    "        start_point: starting index, usually when offer is received\n",
    "        valid_hours: duration of offer to be valid\n",
    "    OUPUT:\n",
    "        a sliced dataframe     \n",
    "    '''\n",
    "    \n",
    "    time_track = df.loc[start_point]['time']\n",
    "    time_expired = time_track + valid_hours\n",
    "    \n",
    "    # \n",
    "    for idx, row in df[['offer', 'event', 'time', 'amount']].loc[start_point:,].iterrows():\n",
    "        time_expired = time_track + valid_hours\n",
    "        if row['time'] > time_expired:\n",
    "            return df.loc[start_point:idx]\n",
    "        else:\n",
    "            return df.loc[start_point:]"
   ]
  },
  {
   "cell_type": "code",
   "execution_count": 109,
   "metadata": {
    "ExecuteTime": {
     "end_time": "2021-01-03T11:41:14.520590Z",
     "start_time": "2021-01-03T11:41:14.510186Z"
    }
   },
   "outputs": [
    {
     "data": {
      "text/plain": [
       "array(['3f207df678b143eea3cee63160fa8bed',\n",
       "       '5a8bc65990b245e5a138643cd4eb9837'], dtype=object)"
      ]
     },
     "execution_count": 109,
     "metadata": {},
     "output_type": "execute_result"
    }
   ],
   "source": [
    "portfolio.query('offer_type==\"informational\"').id.values"
   ]
  },
  {
   "cell_type": "code",
   "execution_count": 110,
   "metadata": {
    "ExecuteTime": {
     "end_time": "2021-01-03T11:41:14.591913Z",
     "start_time": "2021-01-03T11:41:14.521713Z"
    }
   },
   "outputs": [
    {
     "data": {
      "text/html": [
       "<div>\n",
       "<style scoped>\n",
       "    .dataframe tbody tr th:only-of-type {\n",
       "        vertical-align: middle;\n",
       "    }\n",
       "\n",
       "    .dataframe tbody tr th {\n",
       "        vertical-align: top;\n",
       "    }\n",
       "\n",
       "    .dataframe thead th {\n",
       "        text-align: right;\n",
       "    }\n",
       "</style>\n",
       "<table border=\"1\" class=\"dataframe\">\n",
       "  <thead>\n",
       "    <tr style=\"text-align: right;\">\n",
       "      <th></th>\n",
       "      <th>person</th>\n",
       "      <th>time</th>\n",
       "      <th>amount</th>\n",
       "      <th>offer</th>\n",
       "    </tr>\n",
       "    <tr>\n",
       "      <th>event</th>\n",
       "      <th></th>\n",
       "      <th></th>\n",
       "      <th></th>\n",
       "      <th></th>\n",
       "    </tr>\n",
       "  </thead>\n",
       "  <tbody>\n",
       "    <tr>\n",
       "      <th>offer completed</th>\n",
       "      <td>33579</td>\n",
       "      <td>33579</td>\n",
       "      <td>0</td>\n",
       "      <td>33579</td>\n",
       "    </tr>\n",
       "    <tr>\n",
       "      <th>offer received</th>\n",
       "      <td>76277</td>\n",
       "      <td>76277</td>\n",
       "      <td>0</td>\n",
       "      <td>76277</td>\n",
       "    </tr>\n",
       "    <tr>\n",
       "      <th>offer viewed</th>\n",
       "      <td>57725</td>\n",
       "      <td>57725</td>\n",
       "      <td>0</td>\n",
       "      <td>57725</td>\n",
       "    </tr>\n",
       "    <tr>\n",
       "      <th>transaction</th>\n",
       "      <td>138953</td>\n",
       "      <td>138953</td>\n",
       "      <td>138953</td>\n",
       "      <td>0</td>\n",
       "    </tr>\n",
       "  </tbody>\n",
       "</table>\n",
       "</div>"
      ],
      "text/plain": [
       "                 person    time  amount  offer\n",
       "event                                         \n",
       "offer completed   33579   33579       0  33579\n",
       "offer received    76277   76277       0  76277\n",
       "offer viewed      57725   57725       0  57725\n",
       "transaction      138953  138953  138953      0"
      ]
     },
     "execution_count": 110,
     "metadata": {},
     "output_type": "execute_result"
    }
   ],
   "source": [
    "transcript.groupby('event').count()"
   ]
  },
  {
   "cell_type": "code",
   "execution_count": 111,
   "metadata": {
    "ExecuteTime": {
     "end_time": "2021-01-03T11:41:14.599929Z",
     "start_time": "2021-01-03T11:41:14.593112Z"
    }
   },
   "outputs": [
    {
     "data": {
      "text/html": [
       "<div>\n",
       "<style scoped>\n",
       "    .dataframe tbody tr th:only-of-type {\n",
       "        vertical-align: middle;\n",
       "    }\n",
       "\n",
       "    .dataframe tbody tr th {\n",
       "        vertical-align: top;\n",
       "    }\n",
       "\n",
       "    .dataframe thead th {\n",
       "        text-align: right;\n",
       "    }\n",
       "</style>\n",
       "<table border=\"1\" class=\"dataframe\">\n",
       "  <thead>\n",
       "    <tr style=\"text-align: right;\">\n",
       "      <th></th>\n",
       "      <th>person</th>\n",
       "      <th>event</th>\n",
       "      <th>time</th>\n",
       "      <th>amount</th>\n",
       "      <th>offer</th>\n",
       "    </tr>\n",
       "  </thead>\n",
       "  <tbody>\n",
       "    <tr>\n",
       "      <th>0</th>\n",
       "      <td>78afa995795e4d85b5d9ceeca43f5fef</td>\n",
       "      <td>offer received</td>\n",
       "      <td>0</td>\n",
       "      <td>NaN</td>\n",
       "      <td>9b98b8c7a33c4b65b9aebfe6a799e6d9</td>\n",
       "    </tr>\n",
       "    <tr>\n",
       "      <th>1</th>\n",
       "      <td>a03223e636434f42ac4c3df47e8bac43</td>\n",
       "      <td>offer received</td>\n",
       "      <td>0</td>\n",
       "      <td>NaN</td>\n",
       "      <td>0b1e1539f2cc45b7b9fa7c272da2e1d7</td>\n",
       "    </tr>\n",
       "    <tr>\n",
       "      <th>2</th>\n",
       "      <td>e2127556f4f64592b11af22de27a7932</td>\n",
       "      <td>offer received</td>\n",
       "      <td>0</td>\n",
       "      <td>NaN</td>\n",
       "      <td>2906b810c7d4411798c6938adc9daaa5</td>\n",
       "    </tr>\n",
       "    <tr>\n",
       "      <th>3</th>\n",
       "      <td>8ec6ce2a7e7949b1bf142def7d0e0586</td>\n",
       "      <td>offer received</td>\n",
       "      <td>0</td>\n",
       "      <td>NaN</td>\n",
       "      <td>fafdcd668e3743c1bb461111dcafc2a4</td>\n",
       "    </tr>\n",
       "    <tr>\n",
       "      <th>4</th>\n",
       "      <td>68617ca6246f4fbc85e91a2a49552598</td>\n",
       "      <td>offer received</td>\n",
       "      <td>0</td>\n",
       "      <td>NaN</td>\n",
       "      <td>4d5c57ea9a6940dd891ad53e9dbe8da0</td>\n",
       "    </tr>\n",
       "  </tbody>\n",
       "</table>\n",
       "</div>"
      ],
      "text/plain": [
       "                             person           event  time  amount  \\\n",
       "0  78afa995795e4d85b5d9ceeca43f5fef  offer received     0     NaN   \n",
       "1  a03223e636434f42ac4c3df47e8bac43  offer received     0     NaN   \n",
       "2  e2127556f4f64592b11af22de27a7932  offer received     0     NaN   \n",
       "3  8ec6ce2a7e7949b1bf142def7d0e0586  offer received     0     NaN   \n",
       "4  68617ca6246f4fbc85e91a2a49552598  offer received     0     NaN   \n",
       "\n",
       "                              offer  \n",
       "0  9b98b8c7a33c4b65b9aebfe6a799e6d9  \n",
       "1  0b1e1539f2cc45b7b9fa7c272da2e1d7  \n",
       "2  2906b810c7d4411798c6938adc9daaa5  \n",
       "3  fafdcd668e3743c1bb461111dcafc2a4  \n",
       "4  4d5c57ea9a6940dd891ad53e9dbe8da0  "
      ]
     },
     "execution_count": 111,
     "metadata": {},
     "output_type": "execute_result"
    }
   ],
   "source": [
    "transcript.head()"
   ]
  },
  {
   "cell_type": "code",
   "execution_count": 112,
   "metadata": {
    "ExecuteTime": {
     "end_time": "2021-01-03T11:41:14.607861Z",
     "start_time": "2021-01-03T11:41:14.601128Z"
    }
   },
   "outputs": [],
   "source": [
    "def info_offer(user, transcript, portfolio):\n",
    "    '''summary of offers for each user by itering through each promotion and count numbers \n",
    "    of received, viewed, and completed transaction.\n",
    "    \n",
    "    INPUT:\n",
    "        person: an id associated with an user\n",
    "        portfolio: a dataframe containg promotion id and valid hours\n",
    "    \n",
    "    OUTPUT:\n",
    "        a list of dictionary with person_id as the key and summary stat as the value\n",
    "    '''\n",
    "    # slice the main dataset to each user/person with 4 columns\n",
    "    df = transcript.query('person==@user')[['time', 'offer', 'event', 'amount']]\n",
    "    res = dict()\n",
    "    \n",
    "    for offer in portfolio['id'].values:\n",
    "        # if informational offer, we count one transaction for completion\n",
    "        if offer in portfolio.query('offer_type==\"informational\"').id.values:\n",
    "            info_offer = True\n",
    "        else:\n",
    "            info_offer = False\n",
    "        num_offer = df.query(f'offer==\"{offer}\" & event==\"offer received\"').index\n",
    "        valid_hours = portfolio.query(f'id==\"{offer}\"')['duration'].values[0]*24\n",
    "        offer_stats = []\n",
    "        for segment in num_offer:      \n",
    "            dft = slice_df(df, segment, valid_hours)\n",
    "            result = analyze_df(dft, offer, info_offer=info_offer)\n",
    "            offer_stats.append(result)\n",
    "            \n",
    "        \n",
    "        # summary over each offer\n",
    "        result = {\n",
    "            'viewed': 0,\n",
    "            'completed': 0,\n",
    "            'other offer viewed': 0,\n",
    "            'amount': 0}\n",
    "        \n",
    "        # counting all offer for each promotion id\n",
    "        result['received'] = len(num_offer)\n",
    "        result['info'] = info_offer\n",
    "        for stat in offer_stats:\n",
    "            stat_v = list(stat.values())[0]\n",
    "            result['viewed'] += stat_v['viewed']\n",
    "            result['completed'] += stat_v['completed']\n",
    "            result['other offer viewed'] += stat_v['other offer viewed']\n",
    "            result['amount'] += stat_v['amount']   \n",
    "            \n",
    "        res[offer] = result\n",
    "        \n",
    "    return res"
   ]
  },
  {
   "cell_type": "code",
   "execution_count": 113,
   "metadata": {
    "ExecuteTime": {
     "end_time": "2021-01-03T11:41:14.614666Z",
     "start_time": "2021-01-03T11:41:14.608969Z"
    }
   },
   "outputs": [],
   "source": [
    "# iterate through all users and make a summary of transaction based on offer id\n",
    "# the would take 20 minutes to complete\n",
    "def user_transaction(transcript=None, portfolio=None, save_file=True):\n",
    "    info_res = dict()\n",
    "    max_value = transcript['person'].nunique()\n",
    "    i= 0\n",
    "    with progressbar.ProgressBar(max_value=max_value) as bar:\n",
    "        for person in transcript['person'].unique():\n",
    "            person_ = info_offer(person, transcript, portfolio)\n",
    "            info_res[person] = person_\n",
    "            i +=1\n",
    "            bar.update(i)\n",
    "    df_info = pd.DataFrame.from_dict(data=info_res, orient='index')\n",
    "    if save_file:\n",
    "#          save to file, and save 20 minutes if we need to load them \n",
    "        df_info.to_json('data/offer_summary.json')\n",
    "    return df_info"
   ]
  },
  {
   "cell_type": "markdown",
   "metadata": {},
   "source": [
    "If you want to test the grouping transaction with with person, this is a screenshot. Otherwise, change `LOAD_JSON` from `True` to `False` at the beginning of the file\n",
    "![grouping](./img/grouping_transcript.png)"
   ]
  },
  {
   "cell_type": "code",
   "execution_count": 114,
   "metadata": {
    "ExecuteTime": {
     "end_time": "2021-01-03T11:41:14.892586Z",
     "start_time": "2021-01-03T11:41:14.615757Z"
    }
   },
   "outputs": [],
   "source": [
    "# LOAD_JSON = False\n",
    "if not LOAD_JSON:  \n",
    "    import progressbar\n",
    "    df_info = user_transaction(transcript=transcript, portfolio=portfolio)\n",
    "    df_info\n",
    "else:\n",
    "    df_info = pd.read_json('data/offer_summary.json')"
   ]
  },
  {
   "cell_type": "code",
   "execution_count": 115,
   "metadata": {
    "ExecuteTime": {
     "end_time": "2021-01-03T11:41:14.899282Z",
     "start_time": "2021-01-03T11:41:14.893809Z"
    }
   },
   "outputs": [
    {
     "data": {
      "text/plain": [
       "array(['bogo_ddfd', 'bogo_8da0', 'info_8bed', 'bogo_e6d9', 'disc_e1d7',\n",
       "       'disc_b8c2', 'disc_c2a4', 'info_9837', 'bogo_e20d', 'disc_aaa5'],\n",
       "      dtype=object)"
      ]
     },
     "execution_count": 115,
     "metadata": {},
     "output_type": "execute_result"
    }
   ],
   "source": [
    "# make a short label from portfolio dataframe\n",
    "labels = portfolio[['id', 'offer_type']].apply(\n",
    "    lambda row: row['offer_type'][:4]+'_' + row['id'][-4:], axis=1).values\n",
    "labels"
   ]
  },
  {
   "cell_type": "code",
   "execution_count": 116,
   "metadata": {
    "ExecuteTime": {
     "end_time": "2021-01-03T11:41:14.990646Z",
     "start_time": "2021-01-03T11:41:14.900366Z"
    },
    "scrolled": true
   },
   "outputs": [],
   "source": [
    "# compare the total dollars spent for each transaction\n",
    "df_amount = pd.DataFrame()\n",
    "amounts = dict()\n",
    "df_info.columns = labels\n",
    "\n",
    "for offer in df_info.columns:\n",
    "    df_amount[offer] = df_info[offer].apply(lambda x: x['amount'] if x['received']>0 else np.NaN)\n",
    "\n",
    "# save average values to a dictionary\n",
    "amounts['received'] = df_amount.describe().loc['mean'].to_dict()"
   ]
  },
  {
   "cell_type": "code",
   "execution_count": 117,
   "metadata": {
    "ExecuteTime": {
     "end_time": "2021-01-03T11:41:15.161496Z",
     "start_time": "2021-01-03T11:41:14.991854Z"
    }
   },
   "outputs": [],
   "source": [
    "# for viewed event\n",
    "df_amount = pd.DataFrame()\n",
    "\n",
    "# average spending per transaction if offer NOT viewed\n",
    "for offer in df_info.columns:\n",
    "    df_amount[offer] = df_info[offer].apply(lambda x: x['amount'] if x['viewed']==0 else np.NaN)\n",
    "amounts['not_viewed'] = df_amount.describe().loc['mean'].to_dict()\n",
    "\n",
    "# if offer was viewed\n",
    "for offer in df_info.columns:\n",
    "    df_amount[offer] = df_info[offer].apply(lambda x: x['amount'] if x['viewed']>0 else np.NaN)\n",
    "\n",
    "amounts['viewed'] = df_amount.describe().loc['mean'].to_dict()"
   ]
  },
  {
   "cell_type": "code",
   "execution_count": 118,
   "metadata": {
    "ExecuteTime": {
     "end_time": "2021-01-03T11:41:15.331791Z",
     "start_time": "2021-01-03T11:41:15.162719Z"
    }
   },
   "outputs": [],
   "source": [
    "# for transaction not completed\n",
    "df_amount = pd.DataFrame()\n",
    "\n",
    "for offer in df_info.columns:\n",
    "    df_amount[offer] = df_info[offer].apply(lambda x: x['amount'] if x['completed']==0 else np.NaN)\n",
    "amounts['not_completed'] = df_amount.describe().loc['mean'].to_dict()\n",
    "\n",
    "# and completed transaction\n",
    "for offer in df_info.columns:\n",
    "    df_amount[offer] = df_info[offer].apply(lambda x: x['amount'] if x['completed']>0 else np.NaN)\n",
    "amounts['completed'] = df_amount.describe().loc['mean'].to_dict()"
   ]
  },
  {
   "cell_type": "code",
   "execution_count": 119,
   "metadata": {
    "ExecuteTime": {
     "end_time": "2021-01-03T11:41:15.344194Z",
     "start_time": "2021-01-03T11:41:15.333037Z"
    },
    "scrolled": true
   },
   "outputs": [
    {
     "data": {
      "text/html": [
       "<div>\n",
       "<style scoped>\n",
       "    .dataframe tbody tr th:only-of-type {\n",
       "        vertical-align: middle;\n",
       "    }\n",
       "\n",
       "    .dataframe tbody tr th {\n",
       "        vertical-align: top;\n",
       "    }\n",
       "\n",
       "    .dataframe thead th {\n",
       "        text-align: right;\n",
       "    }\n",
       "</style>\n",
       "<table border=\"1\" class=\"dataframe\">\n",
       "  <thead>\n",
       "    <tr style=\"text-align: right;\">\n",
       "      <th></th>\n",
       "      <th>bogo_ddfd</th>\n",
       "      <th>bogo_8da0</th>\n",
       "      <th>info_8bed</th>\n",
       "      <th>bogo_e6d9</th>\n",
       "      <th>disc_e1d7</th>\n",
       "      <th>disc_b8c2</th>\n",
       "      <th>disc_c2a4</th>\n",
       "      <th>info_9837</th>\n",
       "      <th>bogo_e20d</th>\n",
       "      <th>disc_aaa5</th>\n",
       "    </tr>\n",
       "  </thead>\n",
       "  <tbody>\n",
       "    <tr>\n",
       "      <th>received</th>\n",
       "      <td>81.509743</td>\n",
       "      <td>76.259728</td>\n",
       "      <td>67.971538</td>\n",
       "      <td>72.513825</td>\n",
       "      <td>72.110813</td>\n",
       "      <td>80.383791</td>\n",
       "      <td>89.469765</td>\n",
       "      <td>69.854033</td>\n",
       "      <td>77.881912</td>\n",
       "      <td>72.881718</td>\n",
       "    </tr>\n",
       "    <tr>\n",
       "      <th>not_viewed</th>\n",
       "      <td>3.743031</td>\n",
       "      <td>0.779446</td>\n",
       "      <td>10.407721</td>\n",
       "      <td>10.434195</td>\n",
       "      <td>15.645375</td>\n",
       "      <td>0.936955</td>\n",
       "      <td>0.659348</td>\n",
       "      <td>3.474268</td>\n",
       "      <td>0.702877</td>\n",
       "      <td>9.540901</td>\n",
       "    </tr>\n",
       "    <tr>\n",
       "      <th>viewed</th>\n",
       "      <td>83.783687</td>\n",
       "      <td>77.340682</td>\n",
       "      <td>80.117915</td>\n",
       "      <td>87.920265</td>\n",
       "      <td>96.338267</td>\n",
       "      <td>81.384397</td>\n",
       "      <td>90.954247</td>\n",
       "      <td>70.872036</td>\n",
       "      <td>79.209086</td>\n",
       "      <td>91.543753</td>\n",
       "    </tr>\n",
       "    <tr>\n",
       "      <th>not_completed</th>\n",
       "      <td>6.003985</td>\n",
       "      <td>6.701045</td>\n",
       "      <td>0.000000</td>\n",
       "      <td>4.601920</td>\n",
       "      <td>5.219426</td>\n",
       "      <td>2.432115</td>\n",
       "      <td>1.736225</td>\n",
       "      <td>0.000000</td>\n",
       "      <td>4.530091</td>\n",
       "      <td>4.245381</td>\n",
       "    </tr>\n",
       "    <tr>\n",
       "      <th>completed</th>\n",
       "      <td>137.409509</td>\n",
       "      <td>134.536856</td>\n",
       "      <td>67.971538</td>\n",
       "      <td>105.709934</td>\n",
       "      <td>129.767471</td>\n",
       "      <td>108.082766</td>\n",
       "      <td>120.280755</td>\n",
       "      <td>69.854033</td>\n",
       "      <td>114.309556</td>\n",
       "      <td>115.133348</td>\n",
       "    </tr>\n",
       "  </tbody>\n",
       "</table>\n",
       "</div>"
      ],
      "text/plain": [
       "                bogo_ddfd   bogo_8da0  info_8bed   bogo_e6d9   disc_e1d7  \\\n",
       "received        81.509743   76.259728  67.971538   72.513825   72.110813   \n",
       "not_viewed       3.743031    0.779446  10.407721   10.434195   15.645375   \n",
       "viewed          83.783687   77.340682  80.117915   87.920265   96.338267   \n",
       "not_completed    6.003985    6.701045   0.000000    4.601920    5.219426   \n",
       "completed      137.409509  134.536856  67.971538  105.709934  129.767471   \n",
       "\n",
       "                disc_b8c2   disc_c2a4  info_9837   bogo_e20d   disc_aaa5  \n",
       "received        80.383791   89.469765  69.854033   77.881912   72.881718  \n",
       "not_viewed       0.936955    0.659348   3.474268    0.702877    9.540901  \n",
       "viewed          81.384397   90.954247  70.872036   79.209086   91.543753  \n",
       "not_completed    2.432115    1.736225   0.000000    4.530091    4.245381  \n",
       "completed      108.082766  120.280755  69.854033  114.309556  115.133348  "
      ]
     },
     "execution_count": 119,
     "metadata": {},
     "output_type": "execute_result"
    }
   ],
   "source": [
    "df_amount = pd.DataFrame().from_dict(amounts, orient='index')\n",
    "df_amount"
   ]
  },
  {
   "cell_type": "code",
   "execution_count": 120,
   "metadata": {
    "ExecuteTime": {
     "end_time": "2021-01-03T11:41:15.353701Z",
     "start_time": "2021-01-03T11:41:15.345340Z"
    }
   },
   "outputs": [
    {
     "data": {
      "text/plain": [
       "bogo_ddfd     22.383916\n",
       "bogo_8da0     99.225185\n",
       "info_8bed      7.697931\n",
       "bogo_e6d9      8.426167\n",
       "disc_e1d7      6.157619\n",
       "disc_b8c2     86.860489\n",
       "disc_c2a4    137.945658\n",
       "info_9837     20.399127\n",
       "bogo_e20d    112.692734\n",
       "disc_aaa5      9.594875\n",
       "dtype: float64"
      ]
     },
     "execution_count": 120,
     "metadata": {},
     "output_type": "execute_result"
    }
   ],
   "source": [
    "df_amount.loc['viewed']/df_amount.loc['not_viewed']"
   ]
  },
  {
   "cell_type": "markdown",
   "metadata": {},
   "source": [
    "remarks:\n",
    "    - one transaction marked completion of informational offer is not sufficient to distinguish. All received offers were completed based on this assumption, which is minimal.\n",
    "    - when a BOGO and discount offer was viewed, the total transaction during the offer was valid make a huge different to the offer not viewed. Similar observation with completed event on offer\n",
    "    - the total dollar spent was 7 to 100 times more with offer that user saw. The precaution is that this is confounding with activeness of users. If users used the Starbucks product more, they should checked the app or promotion more offen, made more purchase in general.    "
   ]
  },
  {
   "cell_type": "markdown",
   "metadata": {},
   "source": [
    "# Recommendation system\n",
    "\n",
    "## Approach\n",
    "\n",
    "\n",
    "- if a user is on the database and have completion of few offer, alternate promotion by user history purchase and user similarity purchase\n",
    "- if a user is new, recommend only promotion by similar users\n",
    "- if a user is totally new to the app, recommend the top promotion by overall population"
   ]
  },
  {
   "cell_type": "code",
   "execution_count": 121,
   "metadata": {
    "ExecuteTime": {
     "end_time": "2021-01-03T11:41:15.645522Z",
     "start_time": "2021-01-03T11:41:15.354835Z"
    }
   },
   "outputs": [],
   "source": [
    "# load group transaction from json file\n",
    "df_info = pd.read_json('data/offer_summary.json')\n",
    "# encoded_profile = encoding_profile(df=profile)"
   ]
  },
  {
   "cell_type": "code",
   "execution_count": 122,
   "metadata": {
    "ExecuteTime": {
     "end_time": "2021-01-03T11:41:15.653163Z",
     "start_time": "2021-01-03T11:41:15.646772Z"
    }
   },
   "outputs": [],
   "source": [
    "def evaluate_similar_users(user_id, profile_df=None, \n",
    "                           info_df=None, sort_amount=False, n_top=100):\n",
    "    '''evaluate similar users responded to promotions\n",
    "    \n",
    "    INPUT: a dataframe containing similar users responses to promotion\n",
    "    \n",
    "    OUTPUT: a dataframe sorted by sucessful rate of view, complete \n",
    "    and average amount of purchase  \n",
    "    '''\n",
    "    users = find_similar_users(user_id, df=profile_df, n_top=n_top)\n",
    "    users = [item['user'] for item in users]\n",
    "    df_users = info_df.loc[users]\n",
    "\n",
    "    cols = df_users.columns\n",
    "    ranking = dict()\n",
    "    for col in cols:\n",
    "        receives = df_users[col].apply(lambda x: x['received']).sum()\n",
    "        completes = df_users[col].apply(lambda x: x['completed']).sum()\n",
    "        views = df_users[col].apply(lambda x: x['viewed']).sum()\n",
    "        amount_avg = df_users[col].apply(lambda x: x['amount']).mean()\n",
    "        \n",
    "        # rank metrics\n",
    "        ranking[col] = {'rank': completes**2/(views*receives),\n",
    "                        'amount': amount_avg}\n",
    "    ranks = pd.DataFrame().from_dict(ranking,orient='index')\n",
    "    \n",
    "    if not sort_amount: # sort by completion rate first then amount\n",
    "        ranks = ranks.sort_values(['rank', 'amount'], ascending=[True, False])\n",
    "    else: # by amount first, then rank\n",
    "        ranks = ranks.sort_values(['amount', 'rank'], ascending=[False, True])\n",
    "    return ranks['amount'].to_dict()"
   ]
  },
  {
   "cell_type": "code",
   "execution_count": 123,
   "metadata": {
    "ExecuteTime": {
     "end_time": "2021-01-03T11:41:15.666254Z",
     "start_time": "2021-01-03T11:41:15.654249Z"
    }
   },
   "outputs": [],
   "source": [
    "def evaluate_user_history(user_id, df=None):\n",
    "    '''evaluate user history preference by evaluating number of view and completion\n",
    "    on each promotion\n",
    "    \n",
    "    INPUT: a user_id - a string encoded for each user\n",
    "        df: a dataframe encoded user demographic\n",
    "        \n",
    "    OUTPUT: a ranking dictionary containing promotion id and amount of \n",
    "    dollar purchased on offers that have number of views equals to number\n",
    "    of completion\n",
    "    '''\n",
    "    \n",
    "    dft = df.loc[user_id]\n",
    "    user_hist = dict()\n",
    "    for promotion in dft.index:\n",
    "        dft_ = dft.loc[promotion]\n",
    "        if dft_['viewed'] == dft_['completed'] > 0:\n",
    "            user_hist[promotion] = dft_['amount']\n",
    "#             print(dft.loc[promotion])\n",
    "    user_hist = {k:v for k,v in sorted(user_hist.items(), \n",
    "                                        key=lambda item: item[1],\n",
    "                                      reverse=True)}\n",
    "    return user_hist"
   ]
  },
  {
   "cell_type": "code",
   "execution_count": 124,
   "metadata": {
    "ExecuteTime": {
     "end_time": "2021-01-03T11:41:15.750829Z",
     "start_time": "2021-01-03T11:41:15.667350Z"
    }
   },
   "outputs": [
    {
     "ename": "NameError",
     "evalue": "name 'df_profile_encoded' is not defined",
     "output_type": "error",
     "traceback": [
      "\u001b[0;31m---------------------------------------------------------------------------\u001b[0m",
      "\u001b[0;31mNameError\u001b[0m                                 Traceback (most recent call last)",
      "\u001b[0;32m<ipython-input-124-4cee512519ad>\u001b[0m in \u001b[0;36m<module>\u001b[0;34m\u001b[0m\n\u001b[0;32m----> 1\u001b[0;31m def recommend_offers(user_id, profile_df=df_profile_encoded, \n\u001b[0m\u001b[1;32m      2\u001b[0m                     info_df=df_info, sort_amount=False):\n\u001b[1;32m      3\u001b[0m     '''recommend a few promotions for a user based on user history preference,\n\u001b[1;32m      4\u001b[0m     \u001b[0mgroup\u001b[0m \u001b[0msimilarity\u001b[0m\u001b[0;34m,\u001b[0m \u001b[0moverall\u001b[0m\u001b[0;34m\u001b[0m\u001b[0;34m\u001b[0m\u001b[0m\n\u001b[1;32m      5\u001b[0m \u001b[0;34m\u001b[0m\u001b[0m\n",
      "\u001b[0;31mNameError\u001b[0m: name 'df_profile_encoded' is not defined"
     ]
    }
   ],
   "source": [
    "def recommend_offers(user_id, profile_df=df_profile_encoded, \n",
    "                    info_df=df_info, sort_amount=False):\n",
    "    '''recommend a few promotions for a user based on user history preference,\n",
    "    group similarity, overall \n",
    "    \n",
    "    INPUT: user_id (str) - user identification on dataset\n",
    "    \n",
    "    OUTPUT: a dictionary of top three promotions with expected dollar spent\n",
    "    '''\n",
    "    \n",
    "    # existing users:\n",
    "    group_pref = dict()\n",
    "    if user_id in profile_df.index:\n",
    "        offers = evaluate_similar_users(user_id, profile_df=profile_df, \n",
    "                                            info_df = info_df, sort_amount=sort_amount)\n",
    "        user_pref = evaluate_user_history(user_id, df=info_df)\n",
    "        \n",
    "        # if user make a large dollar amount, the group preference will be updated\n",
    "        for k,v in user_pref.items():\n",
    "            if v > offers[k]:\n",
    "                offers[k] = v\n",
    "    else: # new user\n",
    "        offers  = find_pop_offers(transcript, portfolio).set_index('id')['s_rate'].to_dict()\n",
    "    \n",
    "    offers = {k: round(v,2) for k,v in offers.items()}\n",
    "    return offers"
   ]
  },
  {
   "cell_type": "markdown",
   "metadata": {},
   "source": [
    "## test recommendation"
   ]
  },
  {
   "cell_type": "code",
   "execution_count": null,
   "metadata": {
    "ExecuteTime": {
     "end_time": "2021-01-03T11:41:15.752074Z",
     "start_time": "2021-01-03T11:40:29.014Z"
    }
   },
   "outputs": [],
   "source": [
    "import random\n",
    "random.seed(2021)\n",
    "max_idx = len(profile)"
   ]
  },
  {
   "cell_type": "code",
   "execution_count": null,
   "metadata": {
    "ExecuteTime": {
     "end_time": "2021-01-03T11:41:15.752708Z",
     "start_time": "2021-01-03T11:40:29.017Z"
    }
   },
   "outputs": [],
   "source": [
    "user_idx = random.randint(0, max_idx)\n",
    "user_id = profile.iloc[user_idx].id\n",
    "user_id"
   ]
  },
  {
   "cell_type": "code",
   "execution_count": null,
   "metadata": {
    "ExecuteTime": {
     "end_time": "2021-01-03T11:41:15.753422Z",
     "start_time": "2021-01-03T11:40:29.020Z"
    },
    "code_folding": []
   },
   "outputs": [],
   "source": [
    "# group preference\n",
    "group = evaluate_similar_users(user_id, profile_df=encoded_profile, \n",
    "                               info_df=df_info)\n",
    "group"
   ]
  },
  {
   "cell_type": "code",
   "execution_count": null,
   "metadata": {
    "ExecuteTime": {
     "end_time": "2021-01-03T11:41:15.754082Z",
     "start_time": "2021-01-03T11:40:29.022Z"
    }
   },
   "outputs": [],
   "source": [
    "# user preference\n",
    "user = evaluate_user_history(user_id, df=df_info)\n",
    "user"
   ]
  },
  {
   "cell_type": "code",
   "execution_count": null,
   "metadata": {
    "ExecuteTime": {
     "end_time": "2021-01-03T11:41:15.754737Z",
     "start_time": "2021-01-03T11:40:29.025Z"
    }
   },
   "outputs": [],
   "source": [
    "# based on both the user and similar users preference\n",
    "recommend_offers(user_id=user_id, profile_df=df_profile_encoded, \n",
    "                    info_df=df_info, sort_amount=False)"
   ]
  },
  {
   "cell_type": "code",
   "execution_count": null,
   "metadata": {
    "ExecuteTime": {
     "end_time": "2021-01-03T11:41:15.755375Z",
     "start_time": "2021-01-03T11:40:29.028Z"
    }
   },
   "outputs": [],
   "source": [
    "recommend_offers(user_id=user_id, profile_df=df_profile_encoded, \n",
    "                    info_df=df_info, sort_amount=True)"
   ]
  },
  {
   "cell_type": "code",
   "execution_count": null,
   "metadata": {
    "ExecuteTime": {
     "end_time": "2021-01-03T11:41:15.756080Z",
     "start_time": "2021-01-03T11:40:29.031Z"
    }
   },
   "outputs": [],
   "source": [
    "# new user, this show the rate of completion \n",
    "recommend_offers(user_id='new_user')"
   ]
  },
  {
   "cell_type": "markdown",
   "metadata": {},
   "source": [
    "# Summary"
   ]
  },
  {
   "cell_type": "code",
   "execution_count": null,
   "metadata": {
    "ExecuteTime": {
     "end_time": "2021-01-03T11:41:15.756787Z",
     "start_time": "2021-01-03T11:40:29.034Z"
    }
   },
   "outputs": [],
   "source": [
    "transcript.shape"
   ]
  },
  {
   "cell_type": "markdown",
   "metadata": {},
   "source": [
    "- In this *simulated* dataset featuring Starbucks promotion. The dataset including three `json` files:\n",
    "\n",
    "    - **portfolio**: a table of 10 rows by 6 columns listed 10 promotion id, four of them are discounts, four of them are BOGO (Buy One Get One free), and two are informational which is informing customer a new product or service\n",
    "    - **profile**: a table of 17000 rows by 6 columns listed user demographic data such age, income, year of membership, user_id, gender\n",
    "    - **transcript**: a table of 306 534 rows by 5 columns listed all transaction during simulating periods. This a main file with a long-table format that records when promotion is received, viewed or completed with a mount of dollar in each transaction\n",
    "\n",
    "\n",
    "- Data Exploration and Analysis: \n",
    "    - this include exploratory steps on **portfolio** table. The portfolio data is important to refer to characteristics of each promotion. \n",
    "    - analysis on **profile** were mainly on distribution by histogram using cleaning out abnormal values (age). The most important function built out of profile data is `find_similar_users` by ranking `nump.dot` of *encoded* user profile. This function is used to finding a similar group of users given a particular `user_id`.\n",
    "    - high level summary on **transcript** is available without changing structure of the table such as the number of received, viewed, and completed events on each promotion. Similar to **movie recommender**, the transcript table contains information to build a `user-offer-matrix`\n",
    "\n",
    "\n",
    "- Attempt with Single Value Decomposition (SVD) for collaborative filtering\n",
    "    - the `user-offer` matrix is the first step to reconstruct a **user-latent features** and **offer-latent features** to calculate **user preference's similarity** \n",
    "    - I attempted `FunkSVD` and `Surprise SVD` to decompose `user-offer` matrix, but I failed to get reliable matrices. In fact, the algorithms did not able to \"converged\" resulted in a biased RMS or a NaN values\n",
    "\n",
    "\n",
    "- Grouping transaction by user\n",
    "    - this is an alternative approach, in which each offer for each person was summarized based on *received, viewed, completed* events and transaction amount. The summary of each offer was then aggregated to `person-offer-stats` frame. We can use this dataframe to pull out amount of each transaction by each user, the completed rate on each transaction by user\n",
    "    - one big caveat of this approach is a biased ranking. I ranked each transaction by two metrics:\n",
    "        - rate of completion = (\\#completed)**2)/(\\#viewed*\\#received)\n",
    "        - and amount of dollar spent\n",
    "        \n",
    "        which is subjective to my selection. However, with the context of effectiveness of promotion, the first metrics seems resonable, and the second metrics would be find for business.\n",
    "        \n",
    "\n",
    "- Recommendation system: a short summary, the function returns ranked dictionary from a mixed of **similar users** on **rate of completion** and **dolar spent** and **user history preference** if that user is **existed** in database; otherwise, the function returns a ranked dictionary based on `find_pop_offers` which is ranked **completion rate** based on the average of all users in this dataset.   "
   ]
  },
  {
   "cell_type": "code",
   "execution_count": null,
   "metadata": {},
   "outputs": [],
   "source": []
  }
 ],
 "metadata": {
  "kernelspec": {
   "display_name": "Python 3",
   "language": "python",
   "name": "python3"
  },
  "language_info": {
   "codemirror_mode": {
    "name": "ipython",
    "version": 3
   },
   "file_extension": ".py",
   "mimetype": "text/x-python",
   "name": "python",
   "nbconvert_exporter": "python",
   "pygments_lexer": "ipython3",
   "version": "3.6.9"
  },
  "toc": {
   "base_numbering": 1,
   "nav_menu": {},
   "number_sections": true,
   "sideBar": true,
   "skip_h1_title": false,
   "title_cell": "Table of Contents",
   "title_sidebar": "Contents",
   "toc_cell": false,
   "toc_position": {
    "height": "calc(100% - 180px)",
    "left": "10px",
    "top": "150px",
    "width": "386px"
   },
   "toc_section_display": true,
   "toc_window_display": true
  }
 },
 "nbformat": 4,
 "nbformat_minor": 2
}
